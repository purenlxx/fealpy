{
 "cells": [
  {
   "cell_type": "code",
   "execution_count": 58,
   "metadata": {},
   "outputs": [],
   "source": [
    "import numpy as np\n",
    "\n",
    "from fealpy.mesh import MeshFactory as mf\n",
    "from fealpy.functionspace import LagrangeFiniteElementSpace\n",
    "\n",
    "import matplotlib.pyplot as plt "
   ]
  },
  {
   "cell_type": "code",
   "execution_count": 59,
   "metadata": {},
   "outputs": [
    {
     "name": "stdout",
     "output_type": "stream",
     "text": [
      "run boxmesh2d with time: 0.0014319000001705717\n"
     ]
    },
    {
     "data": {
      "image/png": "[encoded data removed]",
      "text/plain": [
       "<Figure size 432x288 with 1 Axes>"
      ]
     },
     "metadata": {
      "needs_background": "light"
     },
     "output_type": "display_data"
    },
    {
     "name": "stdout",
     "output_type": "stream",
     "text": [
      "gdof: 4\n",
      "celltodof:\n",
      "0 [2 3 0]\n",
      "1 [1 0 3]\n"
     ]
    }
   ],
   "source": [
    "mesh=mf.boxmesh2d([0,1,0,1],nx=1,ny=1,meshtype='tri')\n",
    "\n",
    "fig=plt.figure()\n",
    "axes=fig.gca()\n",
    "mesh.add_plot(axes)\n",
    "mesh.find_node(axes,showindex=True,fontsize=20)\n",
    "mesh.find_cell(axes,showindex=True,fontsize=20)\n",
    "plt.show()\n",
    "\n",
    "space=LagrangeFiniteElementSpace(mesh,p=1) # 一次多项式\n",
    "gdof=space.number_of_global_dofs()\n",
    "print('gdof:',gdof)\n",
    "\n",
    "\n",
    "cell2dof=space.cell_to_dof()\n",
    "print('celltodof:')\n",
    "for i,var in enumerate(cell2dof):\n",
    "    print(i,var)"
   ]
  },
  {
   "cell_type": "code",
   "execution_count": 60,
   "metadata": {},
   "outputs": [
    {
     "name": "stdout",
     "output_type": "stream",
     "text": [
      "[0.5 0.5]\n"
     ]
    },
    {
     "data": {
      "text/plain": [
       "<fealpy.quadrature.GaussLegendreQuadrature.GaussLegendreQuadrature at 0x247274bd0a0>"
      ]
     },
     "metadata": {},
     "output_type": "display_data"
    },
    {
     "name": "stdout",
     "output_type": "stream",
     "text": [
      "[[0.95308992 0.04691008]\n",
      " [0.76923466 0.23076534]\n",
      " [0.5        0.5       ]\n",
      " [0.23076534 0.76923466]\n",
      " [0.04691008 0.95308992]] [0.11846344 0.23931434 0.28444444 0.23931434 0.11846344]\n"
     ]
    }
   ],
   "source": [
    "cellmeasure=mesh.entity_measure('cell')\n",
    "print(cellmeasure)\n",
    "\n",
    "qf=mesh.integrator(5,'edge') # 积分精度\n",
    "display(qf)\n",
    "\n",
    "bcs,ws=qf.get_quadrature_points_and_weights()\n",
    "\n",
    "print(bcs,ws)\n",
    "\n",
    "# gphi=space.grad_basis(bcs) # (NQ,NC,ldof,GD)\n",
    "\n",
    "# display(gphi.shape)"
   ]
  },
  {
   "cell_type": "code",
   "execution_count": 61,
   "metadata": {},
   "outputs": [
    {
     "name": "stdout",
     "output_type": "stream",
     "text": [
      "[0.5 0.5]\n"
     ]
    },
    {
     "data": {
      "text/plain": [
       "<fealpy.quadrature.TriangleQuadrature.TriangleQuadrature at 0x2472737fca0>"
      ]
     },
     "metadata": {},
     "output_type": "display_data"
    },
    {
     "name": "stdout",
     "output_type": "stream",
     "text": [
      "[[0.92825824 0.03587088 0.03587088]\n",
      " [0.03587088 0.92825824 0.03587088]\n",
      " [0.03587088 0.03587088 0.92825824]\n",
      " [0.51654121 0.2417294  0.2417294 ]\n",
      " [0.2417294  0.51654121 0.2417294 ]\n",
      " [0.2417294  0.2417294  0.51654121]\n",
      " [0.47430879 0.47430879 0.05138242]\n",
      " [0.47430879 0.05138242 0.47430879]\n",
      " [0.05138242 0.47430879 0.47430879]\n",
      " [0.20150388 0.75118363 0.04731249]\n",
      " [0.20150388 0.04731249 0.75118363]\n",
      " [0.04731249 0.20150388 0.75118363]\n",
      " [0.75118363 0.20150388 0.04731249]\n",
      " [0.75118363 0.04731249 0.20150388]\n",
      " [0.04731249 0.75118363 0.20150388]] [0.01791546 0.01791546 0.01791546 0.1277122  0.1277122  0.1277122\n",
      " 0.07620606 0.07620606 0.07620606 0.05574981 0.05574981 0.05574981\n",
      " 0.05574981 0.05574981 0.05574981]\n"
     ]
    },
    {
     "data": {
      "text/plain": [
       "(15, 2, 3, 2)"
      ]
     },
     "metadata": {},
     "output_type": "display_data"
    }
   ],
   "source": [
    "cellmeasure=mesh.entity_measure('cell')\n",
    "print(cellmeasure)\n",
    "\n",
    "qf=mesh.integrator(5,'cell') # 积分精度\n",
    "display(qf)\n",
    "\n",
    "bcs,ws=qf.get_quadrature_points_and_weights()\n",
    "\n",
    "print(bcs,ws)\n",
    "\n",
    "gphi=space.grad_basis(bcs) # (NQ,NC,ldof,GD)\n",
    "\n",
    "display(gphi.shape)"
   ]
  },
  {
   "cell_type": "code",
   "execution_count": 62,
   "metadata": {},
   "outputs": [
    {
     "data": {
      "text/plain": [
       "(2, 3, 3)"
      ]
     },
     "metadata": {},
     "output_type": "display_data"
    },
    {
     "data": {
      "text/plain": [
       "array([[2, 3, 0],\n",
       "       [1, 0, 3]])"
      ]
     },
     "metadata": {},
     "output_type": "display_data"
    },
    {
     "data": {
      "text/plain": [
       "array([[[2, 2, 2],\n",
       "        [3, 3, 3],\n",
       "        [0, 0, 0]],\n",
       "\n",
       "       [[1, 1, 1],\n",
       "        [0, 0, 0],\n",
       "        [3, 3, 3]]])"
      ]
     },
     "metadata": {},
     "output_type": "display_data"
    },
    {
     "data": {
      "text/plain": [
       "array([[[2, 3, 0],\n",
       "        [2, 3, 0],\n",
       "        [2, 3, 0]],\n",
       "\n",
       "       [[1, 0, 3],\n",
       "        [1, 0, 3],\n",
       "        [1, 0, 3]]])"
      ]
     },
     "metadata": {},
     "output_type": "display_data"
    }
   ],
   "source": [
    "A=np.einsum('i,ijkl,ijml,j->jkm',ws,gphi,gphi,cellmeasure) # \n",
    "display(A.shape)\n",
    "display(cell2dof)\n",
    "\n",
    "I=np.broadcast_to(cell2dof[:,:,None],shape=A.shape)\n",
    "display(I)\n",
    "\n",
    "J=np.broadcast_to(cell2dof[:,None,:],shape=A.shape)\n",
    "display(J)"
   ]
  },
  {
   "cell_type": "code",
   "execution_count": 63,
   "metadata": {},
   "outputs": [
    {
     "name": "stdout",
     "output_type": "stream",
     "text": [
      "( 2 2 ):  0.9999999999999988\n",
      "( 2 3 ):  -0.4999999999999994\n",
      "( 2 0 ):  -0.4999999999999994\n",
      "( 3 2 ):  -0.4999999999999994\n",
      "( 3 3 ):  0.4999999999999994\n",
      "( 3 0 ):  0.0\n",
      "( 0 2 ):  -0.4999999999999994\n",
      "( 0 3 ):  0.0\n",
      "( 0 0 ):  0.4999999999999994\n",
      "( 1 1 ):  0.9999999999999988\n",
      "( 1 0 ):  -0.4999999999999994\n",
      "( 1 3 ):  -0.4999999999999994\n",
      "( 0 1 ):  -0.4999999999999994\n",
      "( 0 0 ):  0.4999999999999994\n",
      "( 0 3 ):  0.0\n",
      "( 3 1 ):  -0.4999999999999994\n",
      "( 3 0 ):  0.0\n",
      "( 3 3 ):  0.4999999999999994\n"
     ]
    }
   ],
   "source": [
    "for i,j,val in zip(I.flat,J.flat,A.flat):\n",
    "    print('(',i,j,'): ',val)"
   ]
  },
  {
   "cell_type": "code",
   "execution_count": 64,
   "metadata": {},
   "outputs": [
    {
     "data": {
      "text/plain": [
       "array([[ 1. , -0.5, -0.5,  0. ],\n",
       "       [-0.5,  1. ,  0. , -0.5],\n",
       "       [-0.5,  0. ,  1. , -0.5],\n",
       "       [ 0. , -0.5, -0.5,  1. ]])"
      ]
     },
     "execution_count": 64,
     "metadata": {},
     "output_type": "execute_result"
    }
   ],
   "source": [
    "from scipy.sparse import csr_matrix\n",
    "A=csr_matrix((A.flat,(I.flat,J.flat)),shape=(gdof,gdof)) # (gdof,gdof)\n",
    "A.toarray()"
   ]
  },
  {
   "cell_type": "code",
   "execution_count": 66,
   "metadata": {},
   "outputs": [
    {
     "name": "stdout",
     "output_type": "stream",
     "text": [
      "run serial_construct_matrix with time: 0.004090200000064215\n"
     ]
    },
    {
     "data": {
      "text/plain": [
       "array([[ 1. , -0.5, -0.5,  0. ],\n",
       "       [-0.5,  1. ,  0. , -0.5],\n",
       "       [-0.5,  0. ,  1. , -0.5],\n",
       "       [ 0. , -0.5, -0.5,  1. ]])"
      ]
     },
     "execution_count": 66,
     "metadata": {},
     "output_type": "execute_result"
    }
   ],
   "source": [
    "A=space.stiff_matrix()\n",
    "A.toarray()"
   ]
  },
  {
   "cell_type": "code",
   "execution_count": 70,
   "metadata": {},
   "outputs": [
    {
     "data": {
      "text/plain": [
       "array([[[0.92825824, 0.03587088, 0.03587088]],\n",
       "\n",
       "       [[0.03587088, 0.92825824, 0.03587088]],\n",
       "\n",
       "       [[0.03587088, 0.03587088, 0.92825824]],\n",
       "\n",
       "       [[0.51654121, 0.2417294 , 0.2417294 ]],\n",
       "\n",
       "       [[0.2417294 , 0.51654121, 0.2417294 ]],\n",
       "\n",
       "       [[0.2417294 , 0.2417294 , 0.51654121]],\n",
       "\n",
       "       [[0.47430879, 0.47430879, 0.05138242]],\n",
       "\n",
       "       [[0.47430879, 0.05138242, 0.47430879]],\n",
       "\n",
       "       [[0.05138242, 0.47430879, 0.47430879]],\n",
       "\n",
       "       [[0.20150388, 0.75118363, 0.04731249]],\n",
       "\n",
       "       [[0.20150388, 0.04731249, 0.75118363]],\n",
       "\n",
       "       [[0.04731249, 0.20150388, 0.75118363]],\n",
       "\n",
       "       [[0.75118363, 0.20150388, 0.04731249]],\n",
       "\n",
       "       [[0.75118363, 0.04731249, 0.20150388]],\n",
       "\n",
       "       [[0.04731249, 0.75118363, 0.20150388]]])"
      ]
     },
     "execution_count": 70,
     "metadata": {},
     "output_type": "execute_result"
    }
   ],
   "source": [
    "# 载荷矩阵组装\n",
    "space.basis(bcs)"
   ]
  },
  {
   "cell_type": "code",
   "execution_count": 73,
   "metadata": {},
   "outputs": [
    {
     "data": {
      "text/plain": [
       "(15, 1, 3)"
      ]
     },
     "metadata": {},
     "output_type": "display_data"
    }
   ],
   "source": [
    "display(space.basis(bcs).shape)"
   ]
  },
  {
   "cell_type": "code",
   "execution_count": 82,
   "metadata": {},
   "outputs": [
    {
     "data": {
      "text/plain": [
       "'cartesian'"
      ]
     },
     "metadata": {},
     "output_type": "display_data"
    }
   ],
   "source": [
    "from fealpy.decorator import cartesian\n",
    "\n",
    "@cartesian\n",
    "def f(p):\n",
    "    x=p[...,0]\n",
    "    y=p[...,1]\n",
    "    return np.exp(x**2+y**2)\n",
    "\n",
    "display(f.coordtype)\n",
    "qf=mesh.integrator(3,'cell')\n",
    "bcs,ws=qf.get_quadrature_points_and_weights()"
   ]
  },
  {
   "cell_type": "code",
   "execution_count": 92,
   "metadata": {},
   "outputs": [
    {
     "data": {
      "text/plain": [
       "array([[2.30163555, 2.30163555],\n",
       "       [4.4480853 , 1.04282254],\n",
       "       [1.04282254, 4.4480853 ],\n",
       "       [2.70296761, 1.37528274],\n",
       "       [1.37528274, 2.70296761],\n",
       "       [1.65838317, 1.65838317]])"
      ]
     },
     "metadata": {},
     "output_type": "display_data"
    }
   ],
   "source": [
    "bcs\n",
    "phi=space.basis(bcs)\n",
    "ps=mesh.bc_to_point(bcs)\n",
    "ps\n",
    "\n",
    "val=f(ps)\n",
    "display(val)\n",
    "\n",
    "bb=np.einsum('i,ij,ijk,j->jk',ws,val,phi,cellmeasure)\n",
    "\n",
    "F=np.zeros(gdof,dtype=np.float64)\n",
    "np.add.at(F,cell2dof,bb)"
   ]
  },
  {
   "cell_type": "code",
   "execution_count": 104,
   "metadata": {},
   "outputs": [],
   "source": []
  },
  {
   "cell_type": "code",
   "execution_count": 120,
   "metadata": {},
   "outputs": [
    {
     "data": {
      "text/plain": [
       "array([[0.66021341, 0.44685519, 0.99286332],\n",
       "       [0.7857893 , 0.01586999, 0.14872647],\n",
       "       [0.41430437, 0.65583547, 0.18748136]])"
      ]
     },
     "metadata": {},
     "output_type": "display_data"
    },
    {
     "data": {
      "text/plain": [
       "array([[1.66021341, 1.44685519, 1.99286332],\n",
       "       [1.7857893 , 1.01586999, 1.14872647],\n",
       "       [1.41430437, 1.65583547, 1.18748136]])"
      ]
     },
     "metadata": {},
     "output_type": "display_data"
    }
   ],
   "source": [
    "import random\n",
    "random.seed(10)\n",
    "\n",
    "A_1=np.random.rand(3,3)\n",
    "B_1=A_1+1\n",
    "display(A_1,B_1)"
   ]
  },
  {
   "cell_type": "code",
   "execution_count": 121,
   "metadata": {},
   "outputs": [
    {
     "ename": "AttributeError",
     "evalue": "'numpy.ndarray' object has no attribute 'append'",
     "output_type": "error",
     "traceback": [
      "\u001b[1;31m---------------------------------------------------------------------------\u001b[0m",
      "\u001b[1;31mAttributeError\u001b[0m                            Traceback (most recent call last)",
      "\u001b[1;32m~\\AppData\\Local\\Temp/ipykernel_10696/1983368598.py\u001b[0m in \u001b[0;36m<module>\u001b[1;34m\u001b[0m\n\u001b[1;32m----> 1\u001b[1;33m \u001b[0mA_1\u001b[0m\u001b[1;33m.\u001b[0m\u001b[0mappend\u001b[0m\u001b[1;33m(\u001b[0m\u001b[0mB_1\u001b[0m\u001b[1;33m)\u001b[0m\u001b[1;33m\u001b[0m\u001b[1;33m\u001b[0m\u001b[0m\n\u001b[0m",
      "\u001b[1;31mAttributeError\u001b[0m: 'numpy.ndarray' object has no attribute 'append'"
     ]
    }
   ],
   "source": [
    "A_1.append(B_1)"
   ]
  },
  {
   "cell_type": "code",
   "execution_count": 123,
   "metadata": {},
   "outputs": [],
   "source": [
    "np.random.seed(10)\n",
    "a=np.random.rand(2,3,4)\n",
    "b=np.random.rand(2,3,4)+1"
   ]
  },
  {
   "cell_type": "code",
   "execution_count": 125,
   "metadata": {},
   "outputs": [
    {
     "data": {
      "text/plain": [
       "array([4.11233184, 2.22330895, 4.56492814, 7.1234104 ])"
      ]
     },
     "metadata": {},
     "output_type": "display_data"
    },
    {
     "name": "stdout",
     "output_type": "stream",
     "text": [
      "[4.11233184 2.22330895 4.56492814 7.1234104 ]\n"
     ]
    }
   ],
   "source": [
    "c=np.einsum('ijk,ijk->k',a,b)\n",
    "display(c)\n",
    "print(c)"
   ]
  },
  {
   "cell_type": "code",
   "execution_count": 126,
   "metadata": {},
   "outputs": [
    {
     "ename": "AttributeError",
     "evalue": "'numpy.ndarray' object has no attribute 'append'",
     "output_type": "error",
     "traceback": [
      "\u001b[1;31m---------------------------------------------------------------------------\u001b[0m",
      "\u001b[1;31mAttributeError\u001b[0m                            Traceback (most recent call last)",
      "\u001b[1;32m~\\AppData\\Local\\Temp/ipykernel_10696/3450756994.py\u001b[0m in \u001b[0;36m<module>\u001b[1;34m\u001b[0m\n\u001b[1;32m----> 1\u001b[1;33m \u001b[0mc\u001b[0m\u001b[1;33m.\u001b[0m\u001b[0mappend\u001b[0m\u001b[1;33m(\u001b[0m\u001b[0mc\u001b[0m\u001b[1;33m)\u001b[0m\u001b[1;33m\u001b[0m\u001b[1;33m\u001b[0m\u001b[0m\n\u001b[0m",
      "\u001b[1;31mAttributeError\u001b[0m: 'numpy.ndarray' object has no attribute 'append'"
     ]
    }
   ],
   "source": [
    "c.append(c)"
   ]
  }
 ],
 "metadata": {
  "kernelspec": {
   "display_name": "Python 3.9.7 ('base')",
   "language": "python",
   "name": "python3"
  },
  "language_info": {
   "codemirror_mode": {
    "name": "ipython",
    "version": 3
   },
   "file_extension": ".py",
   "mimetype": "text/x-python",
   "name": "python",
   "nbconvert_exporter": "python",
   "pygments_lexer": "ipython3",
   "version": "3.9.7"
  },
  "orig_nbformat": 4,
  "vscode": {
   "interpreter": {
    "hash": "38d8f3a7369e1337284c4391470205c81c1ad1ef2b6efdd4034db878c96bfad6"
   }
  }
 },
 "nbformat": 4,
 "nbformat_minor": 2
}
