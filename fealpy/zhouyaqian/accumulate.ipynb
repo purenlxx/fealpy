{
 "cells": [
  {
   "cell_type": "markdown",
   "metadata": {},
   "source": [
    "### 元组的用法"
   ]
  },
  {
   "cell_type": "markdown",
   "metadata": {},
   "source": [
    "### 第十五章-类和对象"
   ]
  },
  {
   "cell_type": "markdown",
   "metadata": {},
   "source": []
  },
  {
   "cell_type": "code",
   "execution_count": 1,
   "metadata": {},
   "outputs": [],
   "source": [
    "# 类的定义如下\n",
    "class Point:\n",
    "    '''\n",
    "    表示二维空间中的点\n",
    "    '''\n",
    "    def __int__(self,x=0,y=0):\n",
    "        self.x=x\n",
    "        self.y=y\n",
    "    def show(self):\n",
    "        s='Point(%f,%f)'%(self.x,self.y)\n",
    "        return s"
   ]
  },
  {
   "cell_type": "code",
   "execution_count": 2,
   "metadata": {},
   "outputs": [
    {
     "data": {
      "text/plain": [
       "__main__.Point"
      ]
     },
     "execution_count": 2,
     "metadata": {},
     "output_type": "execute_result"
    }
   ],
   "source": [
    "Point"
   ]
  },
  {
   "cell_type": "code",
   "execution_count": 3,
   "metadata": {},
   "outputs": [
    {
     "data": {
      "text/plain": [
       "<__main__.Point at 0x1ce4d75a520>"
      ]
     },
     "execution_count": 3,
     "metadata": {},
     "output_type": "execute_result"
    }
   ],
   "source": [
    "# 类对象像一个创建对象的工厂.要新建一个Point对象,可以把Point当做函数来调用:\n",
    "blank=Point()\n",
    "blank # 返回值是一个Point对象的引用,我们将它赋值给变量blank\n",
    "# 新建一个对象的过程称为实例化(instantiation),而对象是这个类的一个实例"
   ]
  },
  {
   "cell_type": "code",
   "execution_count": 6,
   "metadata": {},
   "outputs": [],
   "source": [
    "# 属性;可以使用句点表示法来给实例赋值:\n",
    "blank.x=3\n",
    "blank.y=4"
   ]
  },
  {
   "cell_type": "code",
   "execution_count": 8,
   "metadata": {},
   "outputs": [
    {
     "name": "stdout",
     "output_type": "stream",
     "text": [
      "3\n"
     ]
    }
   ],
   "source": [
    "blank.y\n",
    "x=blank.x\n",
    "print(x)"
   ]
  },
  {
   "cell_type": "code",
   "execution_count": 9,
   "metadata": {},
   "outputs": [
    {
     "data": {
      "text/plain": [
       "'(3,4)'"
      ]
     },
     "execution_count": 9,
     "metadata": {},
     "output_type": "execute_result"
    }
   ],
   "source": [
    "# 可以在任意表达式中使用句点表示法\n",
    "'(%g,%g)'%(blank.x,blank.y)"
   ]
  },
  {
   "cell_type": "code",
   "execution_count": 10,
   "metadata": {},
   "outputs": [
    {
     "name": "stdout",
     "output_type": "stream",
     "text": [
      "5.0\n"
     ]
    }
   ],
   "source": [
    "from math import sqrt\n",
    "\n",
    "distance=sqrt(blank.x**2+blank.y**2)\n",
    "print(distance)"
   ]
  },
  {
   "cell_type": "code",
   "execution_count": 12,
   "metadata": {},
   "outputs": [
    {
     "name": "stdout",
     "output_type": "stream",
     "text": [
      "(3,4)\n"
     ]
    }
   ],
   "source": [
    "# 可以将一个实例作为实参按通常的方式传递.如:\n",
    "def print_point(p):\n",
    "    print('(%g,%g)'%(p.x,p.y))\n",
    "\n",
    "print_point(blank)"
   ]
  },
  {
   "cell_type": "code",
   "execution_count": 13,
   "metadata": {},
   "outputs": [],
   "source": [
    "# 矩形\n",
    "# 可以指定一个矩形的一个角落(或者中心店),宽度以及高度;\n",
    "\n",
    "class Rectangle:\n",
    "    '''\n",
    "    表示一个矩形\n",
    "    --------------\n",
    "    属性:\n",
    "    width:数字,表示矩阵的宽\n",
    "    height:数字,表示矩阵的高\n",
    "    corner:Point对象,指定左下角的顶点\n",
    "    '''\n",
    "    def __init__(self,w=1,h=1,c=Point()):\n",
    "        self.width=w\n",
    "        self.height=h\n",
    "        self.corner=c\n",
    "\n",
    "    def show(self):\n",
    "        s='Rectangle(%s,%f,%f)'%(\n",
    "            self.corner.show(),self.width,self.height)\n",
    "        return s\n",
    "    \n",
    "    def center(self):\n",
    "        p=Point()\n",
    "        p.x=self.corner.x+self.width/2\n",
    "        p.y=self.corner.y+self.height/2\n",
    "        return p\n",
    "    "
   ]
  },
  {
   "cell_type": "code",
   "execution_count": 14,
   "metadata": {},
   "outputs": [],
   "source": [
    "# 要表达一个矩形, 需要实例化一个Rectangle对象,并对其属性进行赋值:\n",
    "box=Rectangle()\n",
    "box.width=100\n",
    "box.height=200\n",
    "box.corner=Point()\n",
    "box.corner.x=0\n",
    "box.corner.y=0"
   ]
  },
  {
   "cell_type": "code",
   "execution_count": 16,
   "metadata": {},
   "outputs": [],
   "source": [
    "# 作为返回值的实例\n",
    "def find_center(rect):\n",
    "    p=Point()\n",
    "    p.x=rect.corner.x+rect.width/2\n",
    "    p.y=rect.corner.y+rect.height/2\n",
    "    return p"
   ]
  },
  {
   "cell_type": "code",
   "execution_count": 17,
   "metadata": {},
   "outputs": [
    {
     "name": "stdout",
     "output_type": "stream",
     "text": [
      "(50,100)\n"
     ]
    }
   ],
   "source": [
    "center=find_center(box)\n",
    "print_point(center)"
   ]
  },
  {
   "cell_type": "code",
   "execution_count": 18,
   "metadata": {},
   "outputs": [],
   "source": [
    "# 对象是可变的\n",
    "# 可以通过给一个对象的某个属性赋值来修改它的状态\n",
    "box.width=box.width+50\n",
    "box.height=box.height+100"
   ]
  },
  {
   "cell_type": "code",
   "execution_count": 20,
   "metadata": {},
   "outputs": [],
   "source": [
    "# 也可以编写函数来修改对象\n",
    "def grow_rectangle(rect,dwidth,dheight):\n",
    "    rect.width+=dwidth\n",
    "    rect.height+=dheight"
   ]
  },
  {
   "cell_type": "code",
   "execution_count": 21,
   "metadata": {},
   "outputs": [
    {
     "data": {
      "text/plain": [
       "(150, 300)"
      ]
     },
     "execution_count": 21,
     "metadata": {},
     "output_type": "execute_result"
    }
   ],
   "source": [
    "box.width,box.height"
   ]
  },
  {
   "cell_type": "code",
   "execution_count": 23,
   "metadata": {},
   "outputs": [
    {
     "data": {
      "text/plain": [
       "(250, 500)"
      ]
     },
     "execution_count": 23,
     "metadata": {},
     "output_type": "execute_result"
    }
   ],
   "source": [
    "grow_rectangle(box,50,100)\n",
    "box.width,box.height\n",
    "# 在函数中,rect是box的别名,所以当修改了rect时,box也改变"
   ]
  },
  {
   "cell_type": "code",
   "execution_count": null,
   "metadata": {},
   "outputs": [],
   "source": [
    "# 复制\n"
   ]
  }
 ],
 "metadata": {
  "kernelspec": {
   "display_name": "Python 3.9.7 ('base')",
   "language": "python",
   "name": "python3"
  },
  "language_info": {
   "codemirror_mode": {
    "name": "ipython",
    "version": 3
   },
   "file_extension": ".py",
   "mimetype": "text/x-python",
   "name": "python",
   "nbconvert_exporter": "python",
   "pygments_lexer": "ipython3",
   "version": "3.9.7"
  },
  "orig_nbformat": 4,
  "vscode": {
   "interpreter": {
    "hash": "38d8f3a7369e1337284c4391470205c81c1ad1ef2b6efdd4034db878c96bfad6"
   }
  }
 },
 "nbformat": 4,
 "nbformat_minor": 2
}
