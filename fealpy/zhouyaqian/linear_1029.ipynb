{
 "cells": [
  {
   "cell_type": "code",
   "execution_count": 1,
   "metadata": {},
   "outputs": [],
   "source": [
    "import argparse\n",
    "import numpy as np\n",
    "import matplotlib.pyplot as plt\n",
    "from mpl_toolkits.mplot3d import Axes3D\n",
    "\n",
    "from fealpy.pde.linear_elasticity_model import  BoxDomainData3d \n",
    "from fealpy.functionspace import LagrangeFiniteElementSpace\n",
    "from fealpy.boundarycondition import DirichletBC\n",
    "from fealpy.boundarycondition import NeumannBC\n",
    "\n",
    "from scipy.sparse.linalg import spsolve\n",
    "\n",
    "from timeit import default_timer as timer"
   ]
  },
  {
   "cell_type": "code",
   "execution_count": 2,
   "metadata": {},
   "outputs": [],
   "source": [
    "p = 1 # lagrange 有限元 空间的次数\n",
    "GD = 2 # 模型问题的维数\n",
    "n = 10 # 初始网格加密的次数"
   ]
  },
  {
   "cell_type": "code",
   "execution_count": 4,
   "metadata": {},
   "outputs": [],
   "source": [
    "# if GD == 2:\n",
    "# from fealpy.pde import linear_elasticity_model # as PDE\n",
    "pde=BoxDomainData2d()"
   ]
  },
  {
   "cell_type": "code",
   "execution_count": 5,
   "metadata": {},
   "outputs": [
    {
     "data": {
      "text/plain": [
       "<__main__.BoxDomainData2d at 0x21334c36580>"
      ]
     },
     "execution_count": 5,
     "metadata": {},
     "output_type": "execute_result"
    }
   ],
   "source": [
    "pde"
   ]
  },
  {
   "cell_type": "code",
   "execution_count": 6,
   "metadata": {},
   "outputs": [],
   "source": [
    "mesh = pde.init_mesh(n=n)"
   ]
  },
  {
   "cell_type": "code",
   "execution_count": 7,
   "metadata": {},
   "outputs": [
    {
     "data": {
      "text/plain": [
       "<fealpy.mesh.TriangleMesh.TriangleMesh at 0x21334c36370>"
      ]
     },
     "execution_count": 7,
     "metadata": {},
     "output_type": "execute_result"
    }
   ],
   "source": [
    "mesh"
   ]
  },
  {
   "cell_type": "code",
   "execution_count": null,
   "metadata": {},
   "outputs": [],
   "source": []
  },
  {
   "cell_type": "code",
   "execution_count": 2,
   "metadata": {},
   "outputs": [
    {
     "name": "stderr",
     "output_type": "stream",
     "text": [
      "usage: ipykernel_launcher.py [-h] [--degree DEGREE] [--GD GD]\n",
      "                             [--nrefine NREFINE] [--scale SCALE]\n",
      "ipykernel_launcher.py: error: unrecognized arguments: --ip=127.0.0.1 --stdin=9021 --control=9019 --hb=9018 --Session.signature_scheme=\"hmac-sha256\" --Session.key=b\"5964a4c5-4dc4-45de-84ad-7c045e8bc180\" --shell=9020 --transport=\"tcp\" --iopub=9022 --f=c:\\Users\\admin\\AppData\\Roaming\\jupyter\\runtime\\kernel-v2-10376NOMWoZmqmniP.json\n"
     ]
    },
    {
     "ename": "SystemExit",
     "evalue": "2",
     "output_type": "error",
     "traceback": [
      "An exception has occurred, use %tb to see the full traceback.\n",
      "\u001b[1;31mSystemExit\u001b[0m\u001b[1;31m:\u001b[0m 2\n"
     ]
    }
   ],
   "source": [
    "\n",
    "\n",
    "space = LagrangeFiniteElementSpace(mesh, p=p)\n",
    "\n",
    "\n",
    "\n",
    "uh = space.function(dim=GD)\n",
    "A = space.linear_elasticity_matrix(pde.lam, pde.mu, q=p+2)\n",
    "F = space.source_vector(pde.source, dim=GD)\n",
    "\n",
    "if hasattr(pde, 'neumann'):\n",
    "    print('neumann')\n",
    "    bc = NeumannBC(space, pde.neumann, threshold=pde.is_neumann_boundary)\n",
    "    F = bc.apply(F)\n",
    "\n",
    "if hasattr(pde, 'dirichlet'):\n",
    "    print('dirichlet')\n",
    "    bc = DirichletBC(space, pde.dirichlet, threshold=pde.is_dirichlet_boundary)\n",
    "    A, F = bc.apply(A, F, uh)\n",
    "\n",
    "uh.T.flat[:] = spsolve(A, F)\n",
    "\n",
    "# 画出原始网格\n",
    "mesh.add_plot(plt)\n",
    "\n",
    "# 画出变形网格\n",
    "mesh.node += scale*uh\n",
    "mesh.add_plot(plt)\n",
    "\n",
    "plt.show()\n"
   ]
  },
  {
   "cell_type": "code",
   "execution_count": null,
   "metadata": {},
   "outputs": [],
   "source": []
  },
  {
   "cell_type": "code",
   "execution_count": null,
   "metadata": {},
   "outputs": [],
   "source": [
    "=BoxDomainData2d()"
   ]
  },
  {
   "cell_type": "code",
   "execution_count": 3,
   "metadata": {},
   "outputs": [],
   "source": [
    "import numpy as np\n",
    "from fealpy.decorator  import cartesian \n",
    "from fealpy.mesh import TriangleMesh\n",
    "\n",
    "class LinearElasticityTempalte():\n",
    "    def __init__(self):\n",
    "        pass\n",
    "\n",
    "    def domain(self):\n",
    "        pass\n",
    "\n",
    "    def init_mesh(self):\n",
    "        pass\n",
    "\n",
    "    @cartesian\n",
    "    def displacement(self, p):\n",
    "        pass\n",
    "\n",
    "    @cartesian\n",
    "    def jacobian(self, p):\n",
    "        pass\n",
    "\n",
    "    @cartesian\n",
    "    def strain(self, p):\n",
    "        pass\n",
    "\n",
    "    @cartesian\n",
    "    def stress(self, p):\n",
    "        pass\n",
    "\n",
    "    @cartesian\n",
    "    def source(self, p):\n",
    "        pass\n",
    "\n",
    "    @cartesian\n",
    "    def dirichlet(self, p):\n",
    "        pass\n",
    "\n",
    "    @cartesian\n",
    "    def neumann(self, p):\n",
    "        pass\n",
    "\n",
    "    @cartesian\n",
    "    def is_dirichlet_boundary(self, p):\n",
    "        pass\n",
    "\n",
    "    @cartesian\n",
    "    def is_neuman_boundary(self, p):\n",
    "        pass\n",
    "\n",
    "    @cartesian\n",
    "    def is_fracture_boundary(self, p):\n",
    "        pass\n",
    "\n",
    "\n",
    "class BoxDomainData2d():\n",
    "    def __init__(self, E=1e+5, nu=0.2):\n",
    "        self.E = E \n",
    "        self.nu = nu\n",
    "        self.lam = self.nu*self.E/((1+self.nu)*(1-2*self.nu))\n",
    "        self.mu = self.E/(2*(1+self.nu))\n",
    "\n",
    "    def domain(self):\n",
    "        return [0, 1, 0, 1]\n",
    "\n",
    "    def init_mesh(self, n=1, meshtype='tri'):\n",
    "        node = np.array([\n",
    "            (0, 0),\n",
    "            (1, 0),\n",
    "            (1, 1),\n",
    "            (0, 1)], dtype=np.float64)\n",
    "        cell = np.array([(1, 2, 0), (3, 0, 2)], dtype=np.int_)\n",
    "        mesh = TriangleMesh(node, cell)\n",
    "        mesh.uniform_refine(n)\n",
    "        return mesh \n",
    "\n",
    "    @cartesian\n",
    "    def displacement(self, p):\n",
    "        return 0.0\n",
    "\n",
    "    @cartesian\n",
    "    def jacobian(self, p):\n",
    "        return 0.0\n",
    "\n",
    "    @cartesian\n",
    "    def strain(self, p):\n",
    "        return 0.0\n",
    "\n",
    "    @cartesian\n",
    "    def stress(self, p):\n",
    "        return 0.0\n",
    "\n",
    "    @cartesian\n",
    "    def source(self, p):\n",
    "        val = np.array([0.0, 0.0], dtype=np.float64)\n",
    "        shape = len(p.shape[:-1])*(1, ) + (2, )\n",
    "        return val.reshape(shape)\n",
    "\n",
    "    @cartesian\n",
    "    def dirichlet(self, p):\n",
    "        val = np.array([0.0, 0.0], dtype=np.float64)\n",
    "        shape = len(p.shape[:-1])*(1, ) + (2, )\n",
    "        return val.reshape(shape)\n",
    "\n",
    "    @cartesian\n",
    "    def neumann(self, p, n):\n",
    "        val = np.array([-500, 0.0], dtype=np.float64)\n",
    "        shape = len(p.shape[:-1])*(1, ) + (2, )\n",
    "        return val.reshape(shape)\n",
    "\n",
    "    @cartesian\n",
    "    def is_dirichlet_boundary(self, p):\n",
    "        x = p[..., 0]\n",
    "        y = p[..., 1]\n",
    "        flag = np.abs(x) < 1e-13\n",
    "        return flag\n",
    "\n",
    "    @cartesian\n",
    "    def is_neumann_boundary(self, p):\n",
    "        x = p[..., 0]\n",
    "        y = p[..., 1]\n",
    "        flag = np.abs(x - 1) < 1e-13\n",
    "        return flag\n",
    "\n",
    "    @cartesian\n",
    "    def is_fracture_boundary(self, p):\n",
    "        pass"
   ]
  }
 ],
 "metadata": {
  "kernelspec": {
   "display_name": "Python 3.9.7 ('base')",
   "language": "python",
   "name": "python3"
  },
  "language_info": {
   "codemirror_mode": {
    "name": "ipython",
    "version": 3
   },
   "file_extension": ".py",
   "mimetype": "text/x-python",
   "name": "python",
   "nbconvert_exporter": "python",
   "pygments_lexer": "ipython3",
   "version": "3.9.7"
  },
  "orig_nbformat": 4,
  "vscode": {
   "interpreter": {
    "hash": "38d8f3a7369e1337284c4391470205c81c1ad1ef2b6efdd4034db878c96bfad6"
   }
  }
 },
 "nbformat": 4,
 "nbformat_minor": 2
}
