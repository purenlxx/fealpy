{
 "cells": [
  {
   "cell_type": "markdown",
   "metadata": {},
   "source": [
    "## 导入所需要的包"
   ]
  },
  {
   "cell_type": "code",
   "execution_count": 129,
   "metadata": {},
   "outputs": [],
   "source": [
    "import numpy as np \n",
    "import pandas as pd"
   ]
  },
  {
   "cell_type": "code",
   "execution_count": 6,
   "metadata": {},
   "outputs": [],
   "source": [
    "\n",
    "indices = np.array([0,0,1,3,5],dtype=np.int_)\n",
    "data=np.array([4.5,3.5,6.4,3.2,1.0],dtype=np.float64)\n",
    "a=np.zeros(6,dtype=np.float64)\n",
    "np.add.at(a,indices,data)"
   ]
  },
  {
   "cell_type": "code",
   "execution_count": 7,
   "metadata": {},
   "outputs": [
    {
     "data": {
      "text/plain": [
       "array([8. , 6.4, 0. , 3.2, 0. , 1. ])"
      ]
     },
     "execution_count": 7,
     "metadata": {},
     "output_type": "execute_result"
    }
   ],
   "source": [
    "a"
   ]
  },
  {
   "cell_type": "markdown",
   "metadata": {},
   "source": [
    "### 爱因斯坦求和\n",
    "单元矩阵组装的利器\n"
   ]
  },
  {
   "cell_type": "code",
   "execution_count": null,
   "metadata": {},
   "outputs": [],
   "source": [
    "np.einsum # 一个函数搞定 矩阵 数组求和"
   ]
  },
  {
   "cell_type": "code",
   "execution_count": null,
   "metadata": {},
   "outputs": [],
   "source": [
    "# 沿轴计算张量元素之和\n",
    "# c=a.sum(axis=0)\n",
    "c=np.einsum('ijk->jk',a) # 三维张量\n",
    "c=np.einsum('i...->...',a) # 多于三维,可以将下标jk换成省略号,以表示剩下的所有维度\n",
    "\n",
    "# 矩阵乘法\n",
    "c=np.dot(a,b)\n",
    "c=np.einsum('ij,jk->ik',a,b)\n",
    "\n",
    "# 张量乘法的例子\n",
    "c=np.einsum('ijk,ijl->kl',a,b)"
   ]
  },
  {
   "cell_type": "code",
   "execution_count": 42,
   "metadata": {},
   "outputs": [
    {
     "data": {
      "text/plain": [
       "array([[[0.77132064, 0.02075195, 0.63364823, 0.74880388],\n",
       "        [0.49850701, 0.22479665, 0.19806286, 0.76053071],\n",
       "        [0.16911084, 0.08833981, 0.68535982, 0.95339335]],\n",
       "\n",
       "       [[0.00394827, 0.51219226, 0.81262096, 0.61252607],\n",
       "        [0.72175532, 0.29187607, 0.91777412, 0.71457578],\n",
       "        [0.54254437, 0.14217005, 0.37334076, 0.67413362]]])"
      ]
     },
     "metadata": {},
     "output_type": "display_data"
    },
    {
     "data": {
      "text/plain": [
       "array([[[1.44183317, 1.43401399, 1.61776698, 1.51313824],\n",
       "        [1.65039718, 1.60103895, 1.8052232 , 1.52164715],\n",
       "        [1.90864888, 1.31923609, 1.09045935, 1.30070006]],\n",
       "\n",
       "       [[1.11398436, 1.82868133, 1.04689632, 1.62628715],\n",
       "        [1.54758616, 1.819287  , 1.19894754, 1.8568503 ],\n",
       "        [1.35165264, 1.75464769, 1.29596171, 1.88393648]]])"
      ]
     },
     "metadata": {},
     "output_type": "display_data"
    }
   ],
   "source": [
    "np.random.seed(10)\n",
    "a=np.random.rand(2,3,4)\n",
    "b=np.random.rand(2,3,4)+1\n",
    "display(a,b)"
   ]
  },
  {
   "cell_type": "code",
   "execution_count": 43,
   "metadata": {},
   "outputs": [
    {
     "data": {
      "text/plain": [
       "array([4.11233184, 2.22330895, 4.56492814, 7.1234104 ])"
      ]
     },
     "execution_count": 43,
     "metadata": {},
     "output_type": "execute_result"
    }
   ],
   "source": [
    "np.einsum('ijk,ijk->k',a,b)"
   ]
  },
  {
   "cell_type": "code",
   "execution_count": 46,
   "metadata": {},
   "outputs": [
    {
     "data": {
      "text/plain": [
       "array([[1, 2, 3],\n",
       "       [4, 5, 6]])"
      ]
     },
     "metadata": {},
     "output_type": "display_data"
    },
    {
     "data": {
      "text/plain": [
       "array([[-1, -2, -3],\n",
       "       [-4, -5, -6]])"
      ]
     },
     "metadata": {},
     "output_type": "display_data"
    }
   ],
   "source": [
    "a=np.array([[1,2,3],[4,5,6]])\n",
    "b=np.array([[-1,-2,-3],[-4,-5,-6]])\n",
    "display(a,b)"
   ]
  },
  {
   "cell_type": "code",
   "execution_count": 51,
   "metadata": {},
   "outputs": [
    {
     "data": {
      "text/plain": [
       "-91"
      ]
     },
     "execution_count": 51,
     "metadata": {},
     "output_type": "execute_result"
    }
   ],
   "source": [
    "# a,b 维数相同,对应元素相乘再相加\n",
    "np.einsum('ij,ij',a,b)"
   ]
  },
  {
   "cell_type": "code",
   "execution_count": 47,
   "metadata": {},
   "outputs": [
    {
     "data": {
      "text/plain": [
       "array([[-14, -32],\n",
       "       [-32, -77]])"
      ]
     },
     "execution_count": 47,
     "metadata": {},
     "output_type": "execute_result"
    }
   ],
   "source": [
    "np.einsum('ij,kj->ik',a,b) # 乘法"
   ]
  },
  {
   "cell_type": "code",
   "execution_count": 48,
   "metadata": {},
   "outputs": [
    {
     "data": {
      "text/plain": [
       "21"
      ]
     },
     "execution_count": 48,
     "metadata": {},
     "output_type": "execute_result"
    }
   ],
   "source": [
    "np.einsum('ij->',a) # 求和"
   ]
  },
  {
   "cell_type": "code",
   "execution_count": 50,
   "metadata": {},
   "outputs": [
    {
     "data": {
      "text/plain": [
       "array([[-1, -4],\n",
       "       [-2, -5],\n",
       "       [-3, -6]])"
      ]
     },
     "execution_count": 50,
     "metadata": {},
     "output_type": "execute_result"
    }
   ],
   "source": [
    "# 矩阵转置\n",
    "np.einsum('ij->ji',b)"
   ]
  },
  {
   "cell_type": "markdown",
   "metadata": {},
   "source": [
    "## 稀疏矩阵"
   ]
  },
  {
   "cell_type": "code",
   "execution_count": null,
   "metadata": {},
   "outputs": [],
   "source": [
    "## 给定一个矩阵，如果其非零元素个数比较少，我们就称其为稀疏矩阵\n",
    "## 如果矩阵的总数据量比较大，完成储存这个矩阵会有大量的0储存，会浪费很多空间。\n",
    "# 因此，我们需要为稀疏矩阵设计不同的存储格式"
   ]
  },
  {
   "cell_type": "code",
   "execution_count": null,
   "metadata": {},
   "outputs": [],
   "source": [
    "## 坐标格式 稀疏矩阵：Coordinate format Matrix(COO)\n",
    "## 压缩稀疏行稀疏矩阵：Compressed Sparse Row Matrix(CSR)\n",
    "## 压缩稀疏列稀疏矩阵：Compressed Sparse column Matrix(CSC)"
   ]
  },
  {
   "cell_type": "code",
   "execution_count": 54,
   "metadata": {},
   "outputs": [],
   "source": [
    "from scipy.sparse import coo_matrix\n",
    "from scipy.sparse import csr_matrix\n",
    "from scipy.sparse import csc_matrix\n",
    "## 存储是行优先"
   ]
  },
  {
   "cell_type": "code",
   "execution_count": 58,
   "metadata": {},
   "outputs": [],
   "source": [
    "## coo_matrix 是最简单的稀疏矩阵存储方式，采用三元组(row, col, data)(或称为ijv format)的形式来存储矩阵中非零元素的信息\n",
    "# 在实际使用中，一般coo_matrix用来创建矩阵，因为coo_matrix无法对矩阵的元素进行增删改操作；\n",
    "# 创建成功之后可以转化成其他格式的稀疏矩阵（如csr_matrix、csc_matrix）进行转置、矩阵乘法等操作。"
   ]
  },
  {
   "cell_type": "code",
   "execution_count": 128,
   "metadata": {},
   "outputs": [
    {
     "data": {
      "text/plain": [
       "array([[ 0,  0,  0, 10],\n",
       "       [21,  0, 33,  0],\n",
       "       [ 0,  0,  0,  0],\n",
       "       [ 0,  0,  3,  0],\n",
       "       [12,  1,  0,  4]])"
      ]
     },
     "metadata": {},
     "output_type": "display_data"
    },
    {
     "data": {
      "text/plain": [
       "array([[ 0,  0,  0, 10],\n",
       "       [21,  0, 33,  0],\n",
       "       [ 0,  0,  0,  0],\n",
       "       [ 0,  0,  3,  0],\n",
       "       [12,  1,  0,  4]])"
      ]
     },
     "metadata": {},
     "output_type": "display_data"
    },
    {
     "data": {
      "text/plain": [
       "array([[ 0,  0,  0, 10],\n",
       "       [21,  0, 33,  0],\n",
       "       [ 0,  0,  0,  0],\n",
       "       [ 0,  0,  3,  0],\n",
       "       [12,  1,  0,  4]])"
      ]
     },
     "metadata": {},
     "output_type": "display_data"
    }
   ],
   "source": [
    "A=np.array([[0,0,0,10],[21,0,33,0],[0,0,0,0],[0,0,3,0],[12,1,0,4]])\n",
    "display(A)\n",
    "## coo展示\n",
    "data=[10,21,33,3,12,1,4]\n",
    "axis_0=[0,1,1,2,3,3,3]\n",
    "axis_1=[3,0,2,2,0,1,3]\n",
    "coo=coo_matrix((data,(axis_0,axis_1)),shape=(5,5))\n",
    "display(coo,coo.toarray(),coo.todense())\n",
    "# 通过toarray方法转化成密集矩阵(numpy.matrix)\n",
    "# 通过todense方法转化成密集矩阵(numpy.matrix)\n",
    "\n",
    "## csr 展示;高效的行切片\n",
    "data=[10,21,33,3,12,1,4]\n",
    "row_=[0,1,3,3,4,7]\n",
    "column_=[3,0,2,2,0,1,3]\n",
    "display(\n",
    "    csr_matrix((data,column_,row_),shape=(5,4)).toarray()\n",
    "    )\n",
    "\n",
    "## csc 展示;高效的列切片\n",
    "data=[21,12,1,33,3,10,4]\n",
    "column_=[0,2,3,5,7]\n",
    "row_=[1,4,4,1,3,0,4]\n",
    "display(\n",
    "    csc_matrix((data,row_,column_),shape=(5,4)).toarray()\n",
    "    )"
   ]
  },
  {
   "cell_type": "code",
   "execution_count": 83,
   "metadata": {},
   "outputs": [
    {
     "data": {
      "text/plain": [
       "<bound method coo_matrix.tocsr of <5x5 sparse matrix of type '<class 'numpy.int32'>'\n",
       "\twith 7 stored elements in COOrdinate format>>"
      ]
     },
     "metadata": {},
     "output_type": "display_data"
    }
   ],
   "source": [
    "csr=coo.tocsr\n",
    "display(csr)"
   ]
  },
  {
   "cell_type": "code",
   "execution_count": 86,
   "metadata": {},
   "outputs": [
    {
     "data": {
      "text/plain": [
       "<bound method coo_matrix.tocsr of <5x5 sparse matrix of type '<class 'numpy.int32'>'\n",
       "\twith 7 stored elements in COOrdinate format>>"
      ]
     },
     "execution_count": 86,
     "metadata": {},
     "output_type": "execute_result"
    }
   ],
   "source": [
    "csr"
   ]
  },
  {
   "cell_type": "code",
   "execution_count": 103,
   "metadata": {},
   "outputs": [
    {
     "data": {
      "text/plain": [
       "<5x5 sparse matrix of type '<class 'numpy.intc'>'\n",
       "\twith 7 stored elements in Compressed Sparse Column format>"
      ]
     },
     "metadata": {},
     "output_type": "display_data"
    },
    {
     "data": {
      "text/plain": [
       "array([[ 0,  0,  0, 21,  0],\n",
       "       [12,  0,  1,  0,  0],\n",
       "       [ 0,  0, 33,  0,  0],\n",
       "       [ 3, 10,  0,  4,  0],\n",
       "       [ 0,  0,  0,  0,  0]], dtype=int32)"
      ]
     },
     "metadata": {},
     "output_type": "display_data"
    }
   ],
   "source": [
    "csc=coo.tocsc()\n",
    "display(csc,csc.toarray())"
   ]
  },
  {
   "cell_type": "code",
   "execution_count": 105,
   "metadata": {},
   "outputs": [
    {
     "data": {
      "text/plain": [
       "<5x5 sparse matrix of type '<class 'numpy.intc'>'\n",
       "\twith 7 stored elements in Compressed Sparse Row format>"
      ]
     },
     "metadata": {},
     "output_type": "display_data"
    },
    {
     "data": {
      "text/plain": [
       "array([[ 0,  0,  0, 21,  0],\n",
       "       [12,  0,  1,  0,  0],\n",
       "       [ 0,  0, 33,  0,  0],\n",
       "       [ 3, 10,  0,  4,  0],\n",
       "       [ 0,  0,  0,  0,  0]], dtype=int32)"
      ]
     },
     "metadata": {},
     "output_type": "display_data"
    }
   ],
   "source": [
    "csr=coo.tocsr()\n",
    "display(csr,csr.toarray())"
   ]
  },
  {
   "cell_type": "code",
   "execution_count": 110,
   "metadata": {},
   "outputs": [
    {
     "data": {
      "text/plain": [
       "array([[ 0,  0,  0, 42,  0],\n",
       "       [24,  0,  2,  0,  0],\n",
       "       [ 0,  0, 66,  0,  0],\n",
       "       [ 6, 20,  0,  8,  0],\n",
       "       [ 0,  0,  0,  0,  0]], dtype=int32)"
      ]
     },
     "execution_count": 110,
     "metadata": {},
     "output_type": "execute_result"
    }
   ],
   "source": [
    "(csr+csr).toarray()"
   ]
  },
  {
   "cell_type": "code",
   "execution_count": 111,
   "metadata": {},
   "outputs": [
    {
     "data": {
      "text/plain": [
       "array([[  63,  210,    0,   84,    0],\n",
       "       [   0,    0,   33,  252,    0],\n",
       "       [   0,    0, 1089,    0,    0],\n",
       "       [ 132,   40,   10,   79,    0],\n",
       "       [   0,    0,    0,    0,    0]], dtype=int32)"
      ]
     },
     "execution_count": 111,
     "metadata": {},
     "output_type": "execute_result"
    }
   ],
   "source": [
    "(csr*csr).toarray()"
   ]
  },
  {
   "cell_type": "code",
   "execution_count": 113,
   "metadata": {},
   "outputs": [
    {
     "data": {
      "text/plain": [
       "array([[ 0,  0,  0, 21,  0],\n",
       "       [12,  0,  1,  0,  0],\n",
       "       [ 0,  0, 33,  0,  0],\n",
       "       [ 3, 10,  0,  4,  0],\n",
       "       [ 0,  0,  0,  0,  0]], dtype=int32)"
      ]
     },
     "execution_count": 113,
     "metadata": {},
     "output_type": "execute_result"
    }
   ],
   "source": [
    "csr.toarray()"
   ]
  },
  {
   "cell_type": "markdown",
   "metadata": {},
   "source": [
    "## np.cross 向量叉乘"
   ]
  },
  {
   "cell_type": "code",
   "execution_count": 130,
   "metadata": {},
   "outputs": [
    {
     "data": {
      "text/plain": [
       "array(-4)"
      ]
     },
     "execution_count": 130,
     "metadata": {},
     "output_type": "execute_result"
    }
   ],
   "source": [
    "x=[1,2]\n",
    "y=[3,2]\n",
    "np.cross(x,y)"
   ]
  },
  {
   "cell_type": "code",
   "execution_count": 133,
   "metadata": {},
   "outputs": [
    {
     "data": {
      "text/plain": [
       "array([ 2,  7, -4])"
      ]
     },
     "execution_count": 133,
     "metadata": {},
     "output_type": "execute_result"
    }
   ],
   "source": [
    "x=[1,2,4]\n",
    "y=[3,2,5]\n",
    "np.cross(x,y)"
   ]
  },
  {
   "cell_type": "code",
   "execution_count": 135,
   "metadata": {},
   "outputs": [
    {
     "name": "stdout",
     "output_type": "stream",
     "text": [
      "[ 6 -3 -4] [ 6 -3 -4]\n"
     ]
    }
   ],
   "source": [
    "x=[1,2,0]\n",
    "x_1=[1,2]\n",
    "y=[3,2,3]\n",
    "print(np.cross(x_1,y),np.cross(x,y)) # 会自动用0补齐"
   ]
  }
 ],
 "metadata": {
  "kernelspec": {
   "display_name": "Python 3.9.7 ('base')",
   "language": "python",
   "name": "python3"
  },
  "language_info": {
   "codemirror_mode": {
    "name": "ipython",
    "version": 3
   },
   "file_extension": ".py",
   "mimetype": "text/x-python",
   "name": "python",
   "nbconvert_exporter": "python",
   "pygments_lexer": "ipython3",
   "version": "3.9.7"
  },
  "orig_nbformat": 4,
  "vscode": {
   "interpreter": {
    "hash": "38d8f3a7369e1337284c4391470205c81c1ad1ef2b6efdd4034db878c96bfad6"
   }
  }
 },
 "nbformat": 4,
 "nbformat_minor": 2
}
