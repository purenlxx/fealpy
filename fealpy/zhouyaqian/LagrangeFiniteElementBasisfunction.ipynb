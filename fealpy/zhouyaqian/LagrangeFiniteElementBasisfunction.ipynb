{
 "cells": [
  {
   "cell_type": "markdown",
   "metadata": {},
   "source": [
    "### 拉格朗日有限元基函数计算展示代码 "
   ]
  },
  {
   "cell_type": "code",
   "execution_count": 49,
   "metadata": {},
   "outputs": [],
   "source": [
    "def basis(self, bc, index=np.s_[:], p=None):\n",
    "        \"\"\"\n",
    "        compute the basis function values at barycentric point bc\n",
    "\n",
    "        Parameters\n",
    "        ----------\n",
    "        bc : numpy.ndarray\n",
    "            the shape of `bc` can be `(TD+1,)` or `(NQ, TD+1)`\n",
    "        Returns\n",
    "        -------\n",
    "        phi : numpy.ndarray\n",
    "            the shape of 'phi' can be `(1, ldof)` or `(NQ, 1, ldof)`\n",
    "\n",
    "        See Also\n",
    "        --------\n",
    "\n",
    "        Notes\n",
    "        -----\n",
    "\n",
    "        \"\"\"\n",
    "        if p is None:\n",
    "            p = self.p\n",
    "\n",
    "        if p == 0 and self.spacetype == 'D':\n",
    "            shape = (len(bc.shape)+1)*(1, ) \n",
    "            print('shape:', shape)\n",
    "            phi = np.ones(shape, dtype=self.ftype)\n",
    "\n",
    "        TD = bc.shape[-1] - 1 \n",
    "        multiIndex = self.multi_index_matrix[TD](p)\n",
    "\n",
    "        c = np.arange(1, p+1, dtype=np.int_)\n",
    "        P = 1.0/np.multiply.accumulate(c)\n",
    "        t = np.arange(0, p)\n",
    "        shape = bc.shape[:-1]+(p+1, TD+1)\n",
    "        A = np.ones(shape, dtype=self.ftype)\n",
    "        A[..., 1:, :] = p*bc[..., np.newaxis, :] - t.reshape(-1, 1)\n",
    "        np.cumprod(A, axis=-2, out=A)\n",
    "        A[..., 1:, :] *= P.reshape(-1, 1)\n",
    "        idx = np.arange(TD+1)\n",
    "        phi = np.prod(A[..., multiIndex, idx], axis=-1)\n",
    "        return phi[..., np.newaxis, :] # (..., 1, ldof)"
   ]
  },
  {
   "cell_type": "code",
   "execution_count": 52,
   "metadata": {},
   "outputs": [
    {
     "data": {
      "text/plain": [
       "array([[0.66666667, 0.33333333],\n",
       "       [0.33333333, 0.66666667]])"
      ]
     },
     "execution_count": 52,
     "metadata": {},
     "output_type": "execute_result"
    }
   ],
   "source": [
    "mesh.entity_barycenter('cell')"
   ]
  },
  {
   "cell_type": "code",
   "execution_count": 51,
   "metadata": {},
   "outputs": [
    {
     "ename": "TypeError",
     "evalue": "basis() missing 1 required positional argument: 'bc'",
     "output_type": "error",
     "traceback": [
      "\u001b[1;31m---------------------------------------------------------------------------\u001b[0m",
      "\u001b[1;31mTypeError\u001b[0m                                 Traceback (most recent call last)",
      "\u001b[1;32m~\\AppData\\Local\\Temp/ipykernel_12000/3308958482.py\u001b[0m in \u001b[0;36m<module>\u001b[1;34m\u001b[0m\n\u001b[1;32m----> 1\u001b[1;33m \u001b[0mbasis\u001b[0m\u001b[1;33m(\u001b[0m\u001b[0mmesh\u001b[0m\u001b[1;33m,\u001b[0m\u001b[0mp\u001b[0m\u001b[1;33m=\u001b[0m\u001b[1;36m3\u001b[0m\u001b[1;33m)\u001b[0m\u001b[1;33m\u001b[0m\u001b[1;33m\u001b[0m\u001b[0m\n\u001b[0m",
      "\u001b[1;31mTypeError\u001b[0m: basis() missing 1 required positional argument: 'bc'"
     ]
    }
   ],
   "source": [
    "basis(mesh,p=3)"
   ]
  },
  {
   "cell_type": "code",
   "execution_count": 47,
   "metadata": {},
   "outputs": [],
   "source": [
    "p=5\n",
    "c = np.arange(1, p+1)\n",
    "P = np.multiply.accumulate(c)\n",
    "P_ = 1/P"
   ]
  },
  {
   "cell_type": "code",
   "execution_count": 48,
   "metadata": {},
   "outputs": [
    {
     "name": "stdout",
     "output_type": "stream",
     "text": [
      "[1 2 3 4 5] [  1   2   6  24 120] [1.         0.5        0.16666667 0.04166667 0.00833333]\n"
     ]
    }
   ],
   "source": [
    "print(c,P,P_)"
   ]
  },
  {
   "cell_type": "code",
   "execution_count": null,
   "metadata": {},
   "outputs": [],
   "source": []
  },
  {
   "cell_type": "code",
   "execution_count": null,
   "metadata": {},
   "outputs": [],
   "source": []
  },
  {
   "cell_type": "code",
   "execution_count": null,
   "metadata": {},
   "outputs": [],
   "source": []
  },
  {
   "cell_type": "markdown",
   "metadata": {},
   "source": [
    "### start!"
   ]
  },
  {
   "cell_type": "code",
   "execution_count": 49,
   "metadata": {},
   "outputs": [
    {
     "name": "stdout",
     "output_type": "stream",
     "text": [
      "run boxmesh2d with time: 0.0010654000000158703\n"
     ]
    }
   ],
   "source": [
    "import numpy as np\n",
    "from fealpy.mesh import MeshFactory as MF\n",
    "import matplotlib.pyplot as plt # 画图\n",
    "domain=[0,1,0,1]\n",
    "mesh=MF.boxmesh2d(domain,nx=1,ny=1,meshtype='tri')"
   ]
  },
  {
   "cell_type": "code",
   "execution_count": 50,
   "metadata": {},
   "outputs": [
    {
     "data": {
      "image/png": "[encoded data removed]",
      "text/plain": [
       "<Figure size 720x720 with 1 Axes>"
      ]
     },
     "metadata": {
      "needs_background": "light"
     },
     "output_type": "display_data"
    }
   ],
   "source": [
    "fig=plt.figure(figsize=(10,10))\n",
    "axes=fig.gca()\n",
    "mesh.add_plot(axes)\n",
    "mesh.find_node(axes,showindex=True,fontsize=20)\n",
    "mesh.find_edge(axes,showindex=True,fontsize=20)\n",
    "mesh.find_cell(axes,showindex=True)\n",
    "plt.show()"
   ]
  },
  {
   "cell_type": "code",
   "execution_count": 51,
   "metadata": {},
   "outputs": [
    {
     "data": {
      "text/plain": [
       "array([[2, 3, 0],\n",
       "       [1, 0, 3]])"
      ]
     },
     "metadata": {},
     "output_type": "display_data"
    },
    {
     "data": {
      "text/plain": [
       "array([[1, 0],\n",
       "       [0, 2],\n",
       "       [3, 0],\n",
       "       [3, 1],\n",
       "       [2, 3]])"
      ]
     },
     "metadata": {},
     "output_type": "display_data"
    },
    {
     "data": {
      "text/plain": [
       "array([[0., 0.],\n",
       "       [0., 1.],\n",
       "       [1., 0.],\n",
       "       [1., 1.]])"
      ]
     },
     "metadata": {},
     "output_type": "display_data"
    },
    {
     "data": {
      "text/plain": [
       "1"
      ]
     },
     "metadata": {},
     "output_type": "display_data"
    }
   ],
   "source": [
    "cell=mesh.entity('cell')\n",
    "edge=mesh.entity('edge')\n",
    "node=mesh.entity('node')\n",
    "display(cell,edge,node,mesh.p)"
   ]
  },
  {
   "cell_type": "code",
   "execution_count": 52,
   "metadata": {},
   "outputs": [
    {
     "name": "stdout",
     "output_type": "stream",
     "text": [
      "5 1\n"
     ]
    }
   ],
   "source": [
    "# p=mesh.p\n",
    "p=5\n",
    "print(p,mesh.p)"
   ]
  },
  {
   "cell_type": "code",
   "execution_count": 53,
   "metadata": {},
   "outputs": [
    {
     "data": {
      "text/plain": [
       "array([[0.66666667, 0.33333333],\n",
       "       [0.33333333, 0.66666667]])"
      ]
     },
     "metadata": {},
     "output_type": "display_data"
    },
    {
     "data": {
      "text/plain": [
       "2"
      ]
     },
     "metadata": {},
     "output_type": "display_data"
    }
   ],
   "source": [
    "TD=mesh.top_dimension()\n",
    "bc=mesh.entity_barycenter('cell') # 重心坐标\n",
    "display(bc,TD)"
   ]
  },
  {
   "cell_type": "code",
   "execution_count": 58,
   "metadata": {},
   "outputs": [],
   "source": [
    "# construct vector P=(1/1!,1/2!,...,1/P!)\n",
    "c=np.arange(1,p+1,dtype=np.int)\n",
    "P=1/np.multiply.accumulate(c)\n",
    "\n",
    "# construct the matrix A.\n",
    "t=np.arange(0,p)\n",
    "shape=bc.shape[:-1]+(p+1,TD)\n",
    "A=np.ones(shape)\n",
    "A[...,1:,:]=p*bc[...,np.newaxis,:]-t.reshape(-1,1)"
   ]
  },
  {
   "cell_type": "code",
   "execution_count": 59,
   "metadata": {},
   "outputs": [
    {
     "data": {
      "text/plain": [
       "array([[[ 1.        ,  1.        ],\n",
       "        [ 3.33333333,  1.66666667],\n",
       "        [ 2.33333333,  0.66666667],\n",
       "        [ 1.33333333, -0.33333333],\n",
       "        [ 0.33333333, -1.33333333],\n",
       "        [-0.66666667, -2.33333333]],\n",
       "\n",
       "       [[ 1.        ,  1.        ],\n",
       "        [ 1.66666667,  3.33333333],\n",
       "        [ 0.66666667,  2.33333333],\n",
       "        [-0.33333333,  1.33333333],\n",
       "        [-1.33333333,  0.33333333],\n",
       "        [-2.33333333, -0.66666667]]])"
      ]
     },
     "execution_count": 59,
     "metadata": {},
     "output_type": "execute_result"
    }
   ],
   "source": [
    "A"
   ]
  },
  {
   "cell_type": "code",
   "execution_count": 61,
   "metadata": {},
   "outputs": [],
   "source": [
    "# construct matrix B and here we still use the memory of A\n",
    "np.cumprod(A,axis=-2,out=A)\n",
    "A[...,1:,:]*=P.reshape(-1,1)"
   ]
  },
  {
   "cell_type": "code",
   "execution_count": 62,
   "metadata": {},
   "outputs": [
    {
     "data": {
      "text/plain": [
       "array([[[ 1.00000000e+00,  1.00000000e+00],\n",
       "        [ 3.33333333e+00,  1.66666667e+00],\n",
       "        [ 1.29629630e+01,  9.25925926e-01],\n",
       "        [ 4.48102423e+01, -1.14311843e-01],\n",
       "        [ 3.87249008e+01, -1.41125732e-02],\n",
       "        [-1.78485139e+01,  3.25228024e-03]],\n",
       "\n",
       "       [[ 1.00000000e+00,  1.00000000e+00],\n",
       "        [ 1.66666667e+00,  3.33333333e+00],\n",
       "        [ 9.25925926e-01,  1.29629630e+01],\n",
       "        [-1.14311843e-01,  4.48102423e+01],\n",
       "        [-1.41125732e-02,  3.87249008e+01],\n",
       "        [ 3.25228024e-03, -1.78485139e+01]]])"
      ]
     },
     "execution_count": 62,
     "metadata": {},
     "output_type": "execute_result"
    }
   ],
   "source": [
    "A"
   ]
  },
  {
   "cell_type": "code",
   "execution_count": 43,
   "metadata": {},
   "outputs": [
    {
     "data": {
      "text/plain": [
       "array([0, 1, 2, 3, 4])"
      ]
     },
     "execution_count": 43,
     "metadata": {},
     "output_type": "execute_result"
    }
   ],
   "source": [
    "t"
   ]
  },
  {
   "cell_type": "code",
   "execution_count": 44,
   "metadata": {},
   "outputs": [
    {
     "data": {
      "text/plain": [
       "array([[[ 1.        ,  1.        ],\n",
       "        [ 0.66666667,  0.33333333],\n",
       "        [-0.33333333, -0.66666667],\n",
       "        [-1.33333333, -1.66666667],\n",
       "        [-2.33333333, -2.66666667],\n",
       "        [-3.33333333, -3.66666667]],\n",
       "\n",
       "       [[ 1.        ,  1.        ],\n",
       "        [ 1.66666667,  0.33333333],\n",
       "        [ 0.66666667, -0.66666667],\n",
       "        [-0.33333333, -1.66666667],\n",
       "        [-1.33333333, -2.66666667],\n",
       "        [-2.33333333, -3.66666667]],\n",
       "\n",
       "       [[ 1.        ,  1.        ],\n",
       "        [ 2.66666667,  0.33333333],\n",
       "        [ 1.66666667, -0.66666667],\n",
       "        [ 0.66666667, -1.66666667],\n",
       "        [-0.33333333, -2.66666667],\n",
       "        [-1.33333333, -3.66666667]],\n",
       "\n",
       "       [[ 1.        ,  1.        ],\n",
       "        [ 3.66666667,  0.33333333],\n",
       "        [ 2.66666667, -0.66666667],\n",
       "        [ 1.66666667, -1.66666667],\n",
       "        [ 0.66666667, -2.66666667],\n",
       "        [-0.33333333, -3.66666667]],\n",
       "\n",
       "       [[ 1.        ,  1.        ],\n",
       "        [ 4.66666667,  0.33333333],\n",
       "        [ 3.66666667, -0.66666667],\n",
       "        [ 2.66666667, -1.66666667],\n",
       "        [ 1.66666667, -2.66666667],\n",
       "        [ 0.66666667, -3.66666667]],\n",
       "\n",
       "       [[ 1.        ,  1.        ],\n",
       "        [ 0.66666667,  1.33333333],\n",
       "        [-0.33333333,  0.33333333],\n",
       "        [-1.33333333, -0.66666667],\n",
       "        [-2.33333333, -1.66666667],\n",
       "        [-3.33333333, -2.66666667]],\n",
       "\n",
       "       [[ 1.        ,  1.        ],\n",
       "        [ 1.66666667,  1.33333333],\n",
       "        [ 0.66666667,  0.33333333],\n",
       "        [-0.33333333, -0.66666667],\n",
       "        [-1.33333333, -1.66666667],\n",
       "        [-2.33333333, -2.66666667]],\n",
       "\n",
       "       [[ 1.        ,  1.        ],\n",
       "        [ 2.66666667,  1.33333333],\n",
       "        [ 1.66666667,  0.33333333],\n",
       "        [ 0.66666667, -0.66666667],\n",
       "        [-0.33333333, -1.66666667],\n",
       "        [-1.33333333, -2.66666667]],\n",
       "\n",
       "       [[ 1.        ,  1.        ],\n",
       "        [ 3.66666667,  1.33333333],\n",
       "        [ 2.66666667,  0.33333333],\n",
       "        [ 1.66666667, -0.66666667],\n",
       "        [ 0.66666667, -1.66666667],\n",
       "        [-0.33333333, -2.66666667]],\n",
       "\n",
       "       [[ 1.        ,  1.        ],\n",
       "        [ 4.66666667,  1.33333333],\n",
       "        [ 3.66666667,  0.33333333],\n",
       "        [ 2.66666667, -0.66666667],\n",
       "        [ 1.66666667, -1.66666667],\n",
       "        [ 0.66666667, -2.66666667]],\n",
       "\n",
       "       [[ 1.        ,  1.        ],\n",
       "        [ 0.66666667,  2.33333333],\n",
       "        [-0.33333333,  1.33333333],\n",
       "        [-1.33333333,  0.33333333],\n",
       "        [-2.33333333, -0.66666667],\n",
       "        [-3.33333333, -1.66666667]],\n",
       "\n",
       "       [[ 1.        ,  1.        ],\n",
       "        [ 1.66666667,  2.33333333],\n",
       "        [ 0.66666667,  1.33333333],\n",
       "        [-0.33333333,  0.33333333],\n",
       "        [-1.33333333, -0.66666667],\n",
       "        [-2.33333333, -1.66666667]],\n",
       "\n",
       "       [[ 1.        ,  1.        ],\n",
       "        [ 2.66666667,  2.33333333],\n",
       "        [ 1.66666667,  1.33333333],\n",
       "        [ 0.66666667,  0.33333333],\n",
       "        [-0.33333333, -0.66666667],\n",
       "        [-1.33333333, -1.66666667]],\n",
       "\n",
       "       [[ 1.        ,  1.        ],\n",
       "        [ 3.66666667,  2.33333333],\n",
       "        [ 2.66666667,  1.33333333],\n",
       "        [ 1.66666667,  0.33333333],\n",
       "        [ 0.66666667, -0.66666667],\n",
       "        [-0.33333333, -1.66666667]],\n",
       "\n",
       "       [[ 1.        ,  1.        ],\n",
       "        [ 4.66666667,  2.33333333],\n",
       "        [ 3.66666667,  1.33333333],\n",
       "        [ 2.66666667,  0.33333333],\n",
       "        [ 1.66666667, -0.66666667],\n",
       "        [ 0.66666667, -1.66666667]],\n",
       "\n",
       "       [[ 1.        ,  1.        ],\n",
       "        [ 0.66666667,  3.33333333],\n",
       "        [-0.33333333,  2.33333333],\n",
       "        [-1.33333333,  1.33333333],\n",
       "        [-2.33333333,  0.33333333],\n",
       "        [-3.33333333, -0.66666667]],\n",
       "\n",
       "       [[ 1.        ,  1.        ],\n",
       "        [ 1.66666667,  3.33333333],\n",
       "        [ 0.66666667,  2.33333333],\n",
       "        [-0.33333333,  1.33333333],\n",
       "        [-1.33333333,  0.33333333],\n",
       "        [-2.33333333, -0.66666667]],\n",
       "\n",
       "       [[ 1.        ,  1.        ],\n",
       "        [ 2.66666667,  3.33333333],\n",
       "        [ 1.66666667,  2.33333333],\n",
       "        [ 0.66666667,  1.33333333],\n",
       "        [-0.33333333,  0.33333333],\n",
       "        [-1.33333333, -0.66666667]],\n",
       "\n",
       "       [[ 1.        ,  1.        ],\n",
       "        [ 3.66666667,  3.33333333],\n",
       "        [ 2.66666667,  2.33333333],\n",
       "        [ 1.66666667,  1.33333333],\n",
       "        [ 0.66666667,  0.33333333],\n",
       "        [-0.33333333, -0.66666667]],\n",
       "\n",
       "       [[ 1.        ,  1.        ],\n",
       "        [ 4.66666667,  3.33333333],\n",
       "        [ 3.66666667,  2.33333333],\n",
       "        [ 2.66666667,  1.33333333],\n",
       "        [ 1.66666667,  0.33333333],\n",
       "        [ 0.66666667, -0.66666667]],\n",
       "\n",
       "       [[ 1.        ,  1.        ],\n",
       "        [ 0.66666667,  4.33333333],\n",
       "        [-0.33333333,  3.33333333],\n",
       "        [-1.33333333,  2.33333333],\n",
       "        [-2.33333333,  1.33333333],\n",
       "        [-3.33333333,  0.33333333]],\n",
       "\n",
       "       [[ 1.        ,  1.        ],\n",
       "        [ 1.66666667,  4.33333333],\n",
       "        [ 0.66666667,  3.33333333],\n",
       "        [-0.33333333,  2.33333333],\n",
       "        [-1.33333333,  1.33333333],\n",
       "        [-2.33333333,  0.33333333]],\n",
       "\n",
       "       [[ 1.        ,  1.        ],\n",
       "        [ 2.66666667,  4.33333333],\n",
       "        [ 1.66666667,  3.33333333],\n",
       "        [ 0.66666667,  2.33333333],\n",
       "        [-0.33333333,  1.33333333],\n",
       "        [-1.33333333,  0.33333333]],\n",
       "\n",
       "       [[ 1.        ,  1.        ],\n",
       "        [ 3.66666667,  4.33333333],\n",
       "        [ 2.66666667,  3.33333333],\n",
       "        [ 1.66666667,  2.33333333],\n",
       "        [ 0.66666667,  1.33333333],\n",
       "        [-0.33333333,  0.33333333]],\n",
       "\n",
       "       [[ 1.        ,  1.        ],\n",
       "        [ 4.66666667,  4.33333333],\n",
       "        [ 3.66666667,  3.33333333],\n",
       "        [ 2.66666667,  2.33333333],\n",
       "        [ 1.66666667,  1.33333333],\n",
       "        [ 0.66666667,  0.33333333]],\n",
       "\n",
       "       [[ 1.        ,  1.        ],\n",
       "        [ 0.33333333,  0.66666667],\n",
       "        [-0.66666667, -0.33333333],\n",
       "        [-1.66666667, -1.33333333],\n",
       "        [-2.66666667, -2.33333333],\n",
       "        [-3.66666667, -3.33333333]],\n",
       "\n",
       "       [[ 1.        ,  1.        ],\n",
       "        [ 1.33333333,  0.66666667],\n",
       "        [ 0.33333333, -0.33333333],\n",
       "        [-0.66666667, -1.33333333],\n",
       "        [-1.66666667, -2.33333333],\n",
       "        [-2.66666667, -3.33333333]],\n",
       "\n",
       "       [[ 1.        ,  1.        ],\n",
       "        [ 2.33333333,  0.66666667],\n",
       "        [ 1.33333333, -0.33333333],\n",
       "        [ 0.33333333, -1.33333333],\n",
       "        [-0.66666667, -2.33333333],\n",
       "        [-1.66666667, -3.33333333]],\n",
       "\n",
       "       [[ 1.        ,  1.        ],\n",
       "        [ 3.33333333,  0.66666667],\n",
       "        [ 2.33333333, -0.33333333],\n",
       "        [ 1.33333333, -1.33333333],\n",
       "        [ 0.33333333, -2.33333333],\n",
       "        [-0.66666667, -3.33333333]],\n",
       "\n",
       "       [[ 1.        ,  1.        ],\n",
       "        [ 4.33333333,  0.66666667],\n",
       "        [ 3.33333333, -0.33333333],\n",
       "        [ 2.33333333, -1.33333333],\n",
       "        [ 1.33333333, -2.33333333],\n",
       "        [ 0.33333333, -3.33333333]],\n",
       "\n",
       "       [[ 1.        ,  1.        ],\n",
       "        [ 0.33333333,  1.66666667],\n",
       "        [-0.66666667,  0.66666667],\n",
       "        [-1.66666667, -0.33333333],\n",
       "        [-2.66666667, -1.33333333],\n",
       "        [-3.66666667, -2.33333333]],\n",
       "\n",
       "       [[ 1.        ,  1.        ],\n",
       "        [ 1.33333333,  1.66666667],\n",
       "        [ 0.33333333,  0.66666667],\n",
       "        [-0.66666667, -0.33333333],\n",
       "        [-1.66666667, -1.33333333],\n",
       "        [-2.66666667, -2.33333333]],\n",
       "\n",
       "       [[ 1.        ,  1.        ],\n",
       "        [ 2.33333333,  1.66666667],\n",
       "        [ 1.33333333,  0.66666667],\n",
       "        [ 0.33333333, -0.33333333],\n",
       "        [-0.66666667, -1.33333333],\n",
       "        [-1.66666667, -2.33333333]],\n",
       "\n",
       "       [[ 1.        ,  1.        ],\n",
       "        [ 3.33333333,  1.66666667],\n",
       "        [ 2.33333333,  0.66666667],\n",
       "        [ 1.33333333, -0.33333333],\n",
       "        [ 0.33333333, -1.33333333],\n",
       "        [-0.66666667, -2.33333333]],\n",
       "\n",
       "       [[ 1.        ,  1.        ],\n",
       "        [ 4.33333333,  1.66666667],\n",
       "        [ 3.33333333,  0.66666667],\n",
       "        [ 2.33333333, -0.33333333],\n",
       "        [ 1.33333333, -1.33333333],\n",
       "        [ 0.33333333, -2.33333333]],\n",
       "\n",
       "       [[ 1.        ,  1.        ],\n",
       "        [ 0.33333333,  2.66666667],\n",
       "        [-0.66666667,  1.66666667],\n",
       "        [-1.66666667,  0.66666667],\n",
       "        [-2.66666667, -0.33333333],\n",
       "        [-3.66666667, -1.33333333]],\n",
       "\n",
       "       [[ 1.        ,  1.        ],\n",
       "        [ 1.33333333,  2.66666667],\n",
       "        [ 0.33333333,  1.66666667],\n",
       "        [-0.66666667,  0.66666667],\n",
       "        [-1.66666667, -0.33333333],\n",
       "        [-2.66666667, -1.33333333]],\n",
       "\n",
       "       [[ 1.        ,  1.        ],\n",
       "        [ 2.33333333,  2.66666667],\n",
       "        [ 1.33333333,  1.66666667],\n",
       "        [ 0.33333333,  0.66666667],\n",
       "        [-0.66666667, -0.33333333],\n",
       "        [-1.66666667, -1.33333333]],\n",
       "\n",
       "       [[ 1.        ,  1.        ],\n",
       "        [ 3.33333333,  2.66666667],\n",
       "        [ 2.33333333,  1.66666667],\n",
       "        [ 1.33333333,  0.66666667],\n",
       "        [ 0.33333333, -0.33333333],\n",
       "        [-0.66666667, -1.33333333]],\n",
       "\n",
       "       [[ 1.        ,  1.        ],\n",
       "        [ 4.33333333,  2.66666667],\n",
       "        [ 3.33333333,  1.66666667],\n",
       "        [ 2.33333333,  0.66666667],\n",
       "        [ 1.33333333, -0.33333333],\n",
       "        [ 0.33333333, -1.33333333]],\n",
       "\n",
       "       [[ 1.        ,  1.        ],\n",
       "        [ 0.33333333,  3.66666667],\n",
       "        [-0.66666667,  2.66666667],\n",
       "        [-1.66666667,  1.66666667],\n",
       "        [-2.66666667,  0.66666667],\n",
       "        [-3.66666667, -0.33333333]],\n",
       "\n",
       "       [[ 1.        ,  1.        ],\n",
       "        [ 1.33333333,  3.66666667],\n",
       "        [ 0.33333333,  2.66666667],\n",
       "        [-0.66666667,  1.66666667],\n",
       "        [-1.66666667,  0.66666667],\n",
       "        [-2.66666667, -0.33333333]],\n",
       "\n",
       "       [[ 1.        ,  1.        ],\n",
       "        [ 2.33333333,  3.66666667],\n",
       "        [ 1.33333333,  2.66666667],\n",
       "        [ 0.33333333,  1.66666667],\n",
       "        [-0.66666667,  0.66666667],\n",
       "        [-1.66666667, -0.33333333]],\n",
       "\n",
       "       [[ 1.        ,  1.        ],\n",
       "        [ 3.33333333,  3.66666667],\n",
       "        [ 2.33333333,  2.66666667],\n",
       "        [ 1.33333333,  1.66666667],\n",
       "        [ 0.33333333,  0.66666667],\n",
       "        [-0.66666667, -0.33333333]],\n",
       "\n",
       "       [[ 1.        ,  1.        ],\n",
       "        [ 4.33333333,  3.66666667],\n",
       "        [ 3.33333333,  2.66666667],\n",
       "        [ 2.33333333,  1.66666667],\n",
       "        [ 1.33333333,  0.66666667],\n",
       "        [ 0.33333333, -0.33333333]],\n",
       "\n",
       "       [[ 1.        ,  1.        ],\n",
       "        [ 0.33333333,  4.66666667],\n",
       "        [-0.66666667,  3.66666667],\n",
       "        [-1.66666667,  2.66666667],\n",
       "        [-2.66666667,  1.66666667],\n",
       "        [-3.66666667,  0.66666667]],\n",
       "\n",
       "       [[ 1.        ,  1.        ],\n",
       "        [ 1.33333333,  4.66666667],\n",
       "        [ 0.33333333,  3.66666667],\n",
       "        [-0.66666667,  2.66666667],\n",
       "        [-1.66666667,  1.66666667],\n",
       "        [-2.66666667,  0.66666667]],\n",
       "\n",
       "       [[ 1.        ,  1.        ],\n",
       "        [ 2.33333333,  4.66666667],\n",
       "        [ 1.33333333,  3.66666667],\n",
       "        [ 0.33333333,  2.66666667],\n",
       "        [-0.66666667,  1.66666667],\n",
       "        [-1.66666667,  0.66666667]],\n",
       "\n",
       "       [[ 1.        ,  1.        ],\n",
       "        [ 3.33333333,  4.66666667],\n",
       "        [ 2.33333333,  3.66666667],\n",
       "        [ 1.33333333,  2.66666667],\n",
       "        [ 0.33333333,  1.66666667],\n",
       "        [-0.66666667,  0.66666667]],\n",
       "\n",
       "       [[ 1.        ,  1.        ],\n",
       "        [ 4.33333333,  4.66666667],\n",
       "        [ 3.33333333,  3.66666667],\n",
       "        [ 2.33333333,  2.66666667],\n",
       "        [ 1.33333333,  1.66666667],\n",
       "        [ 0.33333333,  0.66666667]]])"
      ]
     },
     "metadata": {},
     "output_type": "display_data"
    },
    {
     "data": {
      "text/plain": [
       "array([[[ 0.66666667,  0.33333333],\n",
       "        [-0.33333333, -0.66666667],\n",
       "        [-1.33333333, -1.66666667],\n",
       "        [-2.33333333, -2.66666667],\n",
       "        [-3.33333333, -3.66666667]],\n",
       "\n",
       "       [[ 1.66666667,  0.33333333],\n",
       "        [ 0.66666667, -0.66666667],\n",
       "        [-0.33333333, -1.66666667],\n",
       "        [-1.33333333, -2.66666667],\n",
       "        [-2.33333333, -3.66666667]],\n",
       "\n",
       "       [[ 2.66666667,  0.33333333],\n",
       "        [ 1.66666667, -0.66666667],\n",
       "        [ 0.66666667, -1.66666667],\n",
       "        [-0.33333333, -2.66666667],\n",
       "        [-1.33333333, -3.66666667]],\n",
       "\n",
       "       [[ 3.66666667,  0.33333333],\n",
       "        [ 2.66666667, -0.66666667],\n",
       "        [ 1.66666667, -1.66666667],\n",
       "        [ 0.66666667, -2.66666667],\n",
       "        [-0.33333333, -3.66666667]],\n",
       "\n",
       "       [[ 4.66666667,  0.33333333],\n",
       "        [ 3.66666667, -0.66666667],\n",
       "        [ 2.66666667, -1.66666667],\n",
       "        [ 1.66666667, -2.66666667],\n",
       "        [ 0.66666667, -3.66666667]],\n",
       "\n",
       "       [[ 0.66666667,  1.33333333],\n",
       "        [-0.33333333,  0.33333333],\n",
       "        [-1.33333333, -0.66666667],\n",
       "        [-2.33333333, -1.66666667],\n",
       "        [-3.33333333, -2.66666667]],\n",
       "\n",
       "       [[ 1.66666667,  1.33333333],\n",
       "        [ 0.66666667,  0.33333333],\n",
       "        [-0.33333333, -0.66666667],\n",
       "        [-1.33333333, -1.66666667],\n",
       "        [-2.33333333, -2.66666667]],\n",
       "\n",
       "       [[ 2.66666667,  1.33333333],\n",
       "        [ 1.66666667,  0.33333333],\n",
       "        [ 0.66666667, -0.66666667],\n",
       "        [-0.33333333, -1.66666667],\n",
       "        [-1.33333333, -2.66666667]],\n",
       "\n",
       "       [[ 3.66666667,  1.33333333],\n",
       "        [ 2.66666667,  0.33333333],\n",
       "        [ 1.66666667, -0.66666667],\n",
       "        [ 0.66666667, -1.66666667],\n",
       "        [-0.33333333, -2.66666667]],\n",
       "\n",
       "       [[ 4.66666667,  1.33333333],\n",
       "        [ 3.66666667,  0.33333333],\n",
       "        [ 2.66666667, -0.66666667],\n",
       "        [ 1.66666667, -1.66666667],\n",
       "        [ 0.66666667, -2.66666667]],\n",
       "\n",
       "       [[ 0.66666667,  2.33333333],\n",
       "        [-0.33333333,  1.33333333],\n",
       "        [-1.33333333,  0.33333333],\n",
       "        [-2.33333333, -0.66666667],\n",
       "        [-3.33333333, -1.66666667]],\n",
       "\n",
       "       [[ 1.66666667,  2.33333333],\n",
       "        [ 0.66666667,  1.33333333],\n",
       "        [-0.33333333,  0.33333333],\n",
       "        [-1.33333333, -0.66666667],\n",
       "        [-2.33333333, -1.66666667]],\n",
       "\n",
       "       [[ 2.66666667,  2.33333333],\n",
       "        [ 1.66666667,  1.33333333],\n",
       "        [ 0.66666667,  0.33333333],\n",
       "        [-0.33333333, -0.66666667],\n",
       "        [-1.33333333, -1.66666667]],\n",
       "\n",
       "       [[ 3.66666667,  2.33333333],\n",
       "        [ 2.66666667,  1.33333333],\n",
       "        [ 1.66666667,  0.33333333],\n",
       "        [ 0.66666667, -0.66666667],\n",
       "        [-0.33333333, -1.66666667]],\n",
       "\n",
       "       [[ 4.66666667,  2.33333333],\n",
       "        [ 3.66666667,  1.33333333],\n",
       "        [ 2.66666667,  0.33333333],\n",
       "        [ 1.66666667, -0.66666667],\n",
       "        [ 0.66666667, -1.66666667]],\n",
       "\n",
       "       [[ 0.66666667,  3.33333333],\n",
       "        [-0.33333333,  2.33333333],\n",
       "        [-1.33333333,  1.33333333],\n",
       "        [-2.33333333,  0.33333333],\n",
       "        [-3.33333333, -0.66666667]],\n",
       "\n",
       "       [[ 1.66666667,  3.33333333],\n",
       "        [ 0.66666667,  2.33333333],\n",
       "        [-0.33333333,  1.33333333],\n",
       "        [-1.33333333,  0.33333333],\n",
       "        [-2.33333333, -0.66666667]],\n",
       "\n",
       "       [[ 2.66666667,  3.33333333],\n",
       "        [ 1.66666667,  2.33333333],\n",
       "        [ 0.66666667,  1.33333333],\n",
       "        [-0.33333333,  0.33333333],\n",
       "        [-1.33333333, -0.66666667]],\n",
       "\n",
       "       [[ 3.66666667,  3.33333333],\n",
       "        [ 2.66666667,  2.33333333],\n",
       "        [ 1.66666667,  1.33333333],\n",
       "        [ 0.66666667,  0.33333333],\n",
       "        [-0.33333333, -0.66666667]],\n",
       "\n",
       "       [[ 4.66666667,  3.33333333],\n",
       "        [ 3.66666667,  2.33333333],\n",
       "        [ 2.66666667,  1.33333333],\n",
       "        [ 1.66666667,  0.33333333],\n",
       "        [ 0.66666667, -0.66666667]],\n",
       "\n",
       "       [[ 0.66666667,  4.33333333],\n",
       "        [-0.33333333,  3.33333333],\n",
       "        [-1.33333333,  2.33333333],\n",
       "        [-2.33333333,  1.33333333],\n",
       "        [-3.33333333,  0.33333333]],\n",
       "\n",
       "       [[ 1.66666667,  4.33333333],\n",
       "        [ 0.66666667,  3.33333333],\n",
       "        [-0.33333333,  2.33333333],\n",
       "        [-1.33333333,  1.33333333],\n",
       "        [-2.33333333,  0.33333333]],\n",
       "\n",
       "       [[ 2.66666667,  4.33333333],\n",
       "        [ 1.66666667,  3.33333333],\n",
       "        [ 0.66666667,  2.33333333],\n",
       "        [-0.33333333,  1.33333333],\n",
       "        [-1.33333333,  0.33333333]],\n",
       "\n",
       "       [[ 3.66666667,  4.33333333],\n",
       "        [ 2.66666667,  3.33333333],\n",
       "        [ 1.66666667,  2.33333333],\n",
       "        [ 0.66666667,  1.33333333],\n",
       "        [-0.33333333,  0.33333333]],\n",
       "\n",
       "       [[ 4.66666667,  4.33333333],\n",
       "        [ 3.66666667,  3.33333333],\n",
       "        [ 2.66666667,  2.33333333],\n",
       "        [ 1.66666667,  1.33333333],\n",
       "        [ 0.66666667,  0.33333333]],\n",
       "\n",
       "       [[ 0.33333333,  0.66666667],\n",
       "        [-0.66666667, -0.33333333],\n",
       "        [-1.66666667, -1.33333333],\n",
       "        [-2.66666667, -2.33333333],\n",
       "        [-3.66666667, -3.33333333]],\n",
       "\n",
       "       [[ 1.33333333,  0.66666667],\n",
       "        [ 0.33333333, -0.33333333],\n",
       "        [-0.66666667, -1.33333333],\n",
       "        [-1.66666667, -2.33333333],\n",
       "        [-2.66666667, -3.33333333]],\n",
       "\n",
       "       [[ 2.33333333,  0.66666667],\n",
       "        [ 1.33333333, -0.33333333],\n",
       "        [ 0.33333333, -1.33333333],\n",
       "        [-0.66666667, -2.33333333],\n",
       "        [-1.66666667, -3.33333333]],\n",
       "\n",
       "       [[ 3.33333333,  0.66666667],\n",
       "        [ 2.33333333, -0.33333333],\n",
       "        [ 1.33333333, -1.33333333],\n",
       "        [ 0.33333333, -2.33333333],\n",
       "        [-0.66666667, -3.33333333]],\n",
       "\n",
       "       [[ 4.33333333,  0.66666667],\n",
       "        [ 3.33333333, -0.33333333],\n",
       "        [ 2.33333333, -1.33333333],\n",
       "        [ 1.33333333, -2.33333333],\n",
       "        [ 0.33333333, -3.33333333]],\n",
       "\n",
       "       [[ 0.33333333,  1.66666667],\n",
       "        [-0.66666667,  0.66666667],\n",
       "        [-1.66666667, -0.33333333],\n",
       "        [-2.66666667, -1.33333333],\n",
       "        [-3.66666667, -2.33333333]],\n",
       "\n",
       "       [[ 1.33333333,  1.66666667],\n",
       "        [ 0.33333333,  0.66666667],\n",
       "        [-0.66666667, -0.33333333],\n",
       "        [-1.66666667, -1.33333333],\n",
       "        [-2.66666667, -2.33333333]],\n",
       "\n",
       "       [[ 2.33333333,  1.66666667],\n",
       "        [ 1.33333333,  0.66666667],\n",
       "        [ 0.33333333, -0.33333333],\n",
       "        [-0.66666667, -1.33333333],\n",
       "        [-1.66666667, -2.33333333]],\n",
       "\n",
       "       [[ 3.33333333,  1.66666667],\n",
       "        [ 2.33333333,  0.66666667],\n",
       "        [ 1.33333333, -0.33333333],\n",
       "        [ 0.33333333, -1.33333333],\n",
       "        [-0.66666667, -2.33333333]],\n",
       "\n",
       "       [[ 4.33333333,  1.66666667],\n",
       "        [ 3.33333333,  0.66666667],\n",
       "        [ 2.33333333, -0.33333333],\n",
       "        [ 1.33333333, -1.33333333],\n",
       "        [ 0.33333333, -2.33333333]],\n",
       "\n",
       "       [[ 0.33333333,  2.66666667],\n",
       "        [-0.66666667,  1.66666667],\n",
       "        [-1.66666667,  0.66666667],\n",
       "        [-2.66666667, -0.33333333],\n",
       "        [-3.66666667, -1.33333333]],\n",
       "\n",
       "       [[ 1.33333333,  2.66666667],\n",
       "        [ 0.33333333,  1.66666667],\n",
       "        [-0.66666667,  0.66666667],\n",
       "        [-1.66666667, -0.33333333],\n",
       "        [-2.66666667, -1.33333333]],\n",
       "\n",
       "       [[ 2.33333333,  2.66666667],\n",
       "        [ 1.33333333,  1.66666667],\n",
       "        [ 0.33333333,  0.66666667],\n",
       "        [-0.66666667, -0.33333333],\n",
       "        [-1.66666667, -1.33333333]],\n",
       "\n",
       "       [[ 3.33333333,  2.66666667],\n",
       "        [ 2.33333333,  1.66666667],\n",
       "        [ 1.33333333,  0.66666667],\n",
       "        [ 0.33333333, -0.33333333],\n",
       "        [-0.66666667, -1.33333333]],\n",
       "\n",
       "       [[ 4.33333333,  2.66666667],\n",
       "        [ 3.33333333,  1.66666667],\n",
       "        [ 2.33333333,  0.66666667],\n",
       "        [ 1.33333333, -0.33333333],\n",
       "        [ 0.33333333, -1.33333333]],\n",
       "\n",
       "       [[ 0.33333333,  3.66666667],\n",
       "        [-0.66666667,  2.66666667],\n",
       "        [-1.66666667,  1.66666667],\n",
       "        [-2.66666667,  0.66666667],\n",
       "        [-3.66666667, -0.33333333]],\n",
       "\n",
       "       [[ 1.33333333,  3.66666667],\n",
       "        [ 0.33333333,  2.66666667],\n",
       "        [-0.66666667,  1.66666667],\n",
       "        [-1.66666667,  0.66666667],\n",
       "        [-2.66666667, -0.33333333]],\n",
       "\n",
       "       [[ 2.33333333,  3.66666667],\n",
       "        [ 1.33333333,  2.66666667],\n",
       "        [ 0.33333333,  1.66666667],\n",
       "        [-0.66666667,  0.66666667],\n",
       "        [-1.66666667, -0.33333333]],\n",
       "\n",
       "       [[ 3.33333333,  3.66666667],\n",
       "        [ 2.33333333,  2.66666667],\n",
       "        [ 1.33333333,  1.66666667],\n",
       "        [ 0.33333333,  0.66666667],\n",
       "        [-0.66666667, -0.33333333]],\n",
       "\n",
       "       [[ 4.33333333,  3.66666667],\n",
       "        [ 3.33333333,  2.66666667],\n",
       "        [ 2.33333333,  1.66666667],\n",
       "        [ 1.33333333,  0.66666667],\n",
       "        [ 0.33333333, -0.33333333]],\n",
       "\n",
       "       [[ 0.33333333,  4.66666667],\n",
       "        [-0.66666667,  3.66666667],\n",
       "        [-1.66666667,  2.66666667],\n",
       "        [-2.66666667,  1.66666667],\n",
       "        [-3.66666667,  0.66666667]],\n",
       "\n",
       "       [[ 1.33333333,  4.66666667],\n",
       "        [ 0.33333333,  3.66666667],\n",
       "        [-0.66666667,  2.66666667],\n",
       "        [-1.66666667,  1.66666667],\n",
       "        [-2.66666667,  0.66666667]],\n",
       "\n",
       "       [[ 2.33333333,  4.66666667],\n",
       "        [ 1.33333333,  3.66666667],\n",
       "        [ 0.33333333,  2.66666667],\n",
       "        [-0.66666667,  1.66666667],\n",
       "        [-1.66666667,  0.66666667]],\n",
       "\n",
       "       [[ 3.33333333,  4.66666667],\n",
       "        [ 2.33333333,  3.66666667],\n",
       "        [ 1.33333333,  2.66666667],\n",
       "        [ 0.33333333,  1.66666667],\n",
       "        [-0.66666667,  0.66666667]],\n",
       "\n",
       "       [[ 4.33333333,  4.66666667],\n",
       "        [ 3.33333333,  3.66666667],\n",
       "        [ 2.33333333,  2.66666667],\n",
       "        [ 1.33333333,  1.66666667],\n",
       "        [ 0.33333333,  0.66666667]]])"
      ]
     },
     "metadata": {},
     "output_type": "display_data"
    },
    {
     "data": {
      "text/plain": [
       "array([[[ 0.66666667,  0.33333333],\n",
       "        [-0.33333333, -0.66666667],\n",
       "        [-1.33333333, -1.66666667],\n",
       "        [-2.33333333, -2.66666667],\n",
       "        [-3.33333333, -3.66666667]],\n",
       "\n",
       "       [[ 1.66666667,  0.33333333],\n",
       "        [ 0.66666667, -0.66666667],\n",
       "        [-0.33333333, -1.66666667],\n",
       "        [-1.33333333, -2.66666667],\n",
       "        [-2.33333333, -3.66666667]],\n",
       "\n",
       "       [[ 2.66666667,  0.33333333],\n",
       "        [ 1.66666667, -0.66666667],\n",
       "        [ 0.66666667, -1.66666667],\n",
       "        [-0.33333333, -2.66666667],\n",
       "        [-1.33333333, -3.66666667]],\n",
       "\n",
       "       [[ 3.66666667,  0.33333333],\n",
       "        [ 2.66666667, -0.66666667],\n",
       "        [ 1.66666667, -1.66666667],\n",
       "        [ 0.66666667, -2.66666667],\n",
       "        [-0.33333333, -3.66666667]],\n",
       "\n",
       "       [[ 4.66666667,  0.33333333],\n",
       "        [ 3.66666667, -0.66666667],\n",
       "        [ 2.66666667, -1.66666667],\n",
       "        [ 1.66666667, -2.66666667],\n",
       "        [ 0.66666667, -3.66666667]],\n",
       "\n",
       "       [[ 0.66666667,  1.33333333],\n",
       "        [-0.33333333,  0.33333333],\n",
       "        [-1.33333333, -0.66666667],\n",
       "        [-2.33333333, -1.66666667],\n",
       "        [-3.33333333, -2.66666667]],\n",
       "\n",
       "       [[ 1.66666667,  1.33333333],\n",
       "        [ 0.66666667,  0.33333333],\n",
       "        [-0.33333333, -0.66666667],\n",
       "        [-1.33333333, -1.66666667],\n",
       "        [-2.33333333, -2.66666667]],\n",
       "\n",
       "       [[ 2.66666667,  1.33333333],\n",
       "        [ 1.66666667,  0.33333333],\n",
       "        [ 0.66666667, -0.66666667],\n",
       "        [-0.33333333, -1.66666667],\n",
       "        [-1.33333333, -2.66666667]],\n",
       "\n",
       "       [[ 3.66666667,  1.33333333],\n",
       "        [ 2.66666667,  0.33333333],\n",
       "        [ 1.66666667, -0.66666667],\n",
       "        [ 0.66666667, -1.66666667],\n",
       "        [-0.33333333, -2.66666667]],\n",
       "\n",
       "       [[ 4.66666667,  1.33333333],\n",
       "        [ 3.66666667,  0.33333333],\n",
       "        [ 2.66666667, -0.66666667],\n",
       "        [ 1.66666667, -1.66666667],\n",
       "        [ 0.66666667, -2.66666667]],\n",
       "\n",
       "       [[ 0.66666667,  2.33333333],\n",
       "        [-0.33333333,  1.33333333],\n",
       "        [-1.33333333,  0.33333333],\n",
       "        [-2.33333333, -0.66666667],\n",
       "        [-3.33333333, -1.66666667]],\n",
       "\n",
       "       [[ 1.66666667,  2.33333333],\n",
       "        [ 0.66666667,  1.33333333],\n",
       "        [-0.33333333,  0.33333333],\n",
       "        [-1.33333333, -0.66666667],\n",
       "        [-2.33333333, -1.66666667]],\n",
       "\n",
       "       [[ 2.66666667,  2.33333333],\n",
       "        [ 1.66666667,  1.33333333],\n",
       "        [ 0.66666667,  0.33333333],\n",
       "        [-0.33333333, -0.66666667],\n",
       "        [-1.33333333, -1.66666667]],\n",
       "\n",
       "       [[ 3.66666667,  2.33333333],\n",
       "        [ 2.66666667,  1.33333333],\n",
       "        [ 1.66666667,  0.33333333],\n",
       "        [ 0.66666667, -0.66666667],\n",
       "        [-0.33333333, -1.66666667]],\n",
       "\n",
       "       [[ 4.66666667,  2.33333333],\n",
       "        [ 3.66666667,  1.33333333],\n",
       "        [ 2.66666667,  0.33333333],\n",
       "        [ 1.66666667, -0.66666667],\n",
       "        [ 0.66666667, -1.66666667]],\n",
       "\n",
       "       [[ 0.66666667,  3.33333333],\n",
       "        [-0.33333333,  2.33333333],\n",
       "        [-1.33333333,  1.33333333],\n",
       "        [-2.33333333,  0.33333333],\n",
       "        [-3.33333333, -0.66666667]],\n",
       "\n",
       "       [[ 1.66666667,  3.33333333],\n",
       "        [ 0.66666667,  2.33333333],\n",
       "        [-0.33333333,  1.33333333],\n",
       "        [-1.33333333,  0.33333333],\n",
       "        [-2.33333333, -0.66666667]],\n",
       "\n",
       "       [[ 2.66666667,  3.33333333],\n",
       "        [ 1.66666667,  2.33333333],\n",
       "        [ 0.66666667,  1.33333333],\n",
       "        [-0.33333333,  0.33333333],\n",
       "        [-1.33333333, -0.66666667]],\n",
       "\n",
       "       [[ 3.66666667,  3.33333333],\n",
       "        [ 2.66666667,  2.33333333],\n",
       "        [ 1.66666667,  1.33333333],\n",
       "        [ 0.66666667,  0.33333333],\n",
       "        [-0.33333333, -0.66666667]],\n",
       "\n",
       "       [[ 4.66666667,  3.33333333],\n",
       "        [ 3.66666667,  2.33333333],\n",
       "        [ 2.66666667,  1.33333333],\n",
       "        [ 1.66666667,  0.33333333],\n",
       "        [ 0.66666667, -0.66666667]],\n",
       "\n",
       "       [[ 0.66666667,  4.33333333],\n",
       "        [-0.33333333,  3.33333333],\n",
       "        [-1.33333333,  2.33333333],\n",
       "        [-2.33333333,  1.33333333],\n",
       "        [-3.33333333,  0.33333333]],\n",
       "\n",
       "       [[ 1.66666667,  4.33333333],\n",
       "        [ 0.66666667,  3.33333333],\n",
       "        [-0.33333333,  2.33333333],\n",
       "        [-1.33333333,  1.33333333],\n",
       "        [-2.33333333,  0.33333333]],\n",
       "\n",
       "       [[ 2.66666667,  4.33333333],\n",
       "        [ 1.66666667,  3.33333333],\n",
       "        [ 0.66666667,  2.33333333],\n",
       "        [-0.33333333,  1.33333333],\n",
       "        [-1.33333333,  0.33333333]],\n",
       "\n",
       "       [[ 3.66666667,  4.33333333],\n",
       "        [ 2.66666667,  3.33333333],\n",
       "        [ 1.66666667,  2.33333333],\n",
       "        [ 0.66666667,  1.33333333],\n",
       "        [-0.33333333,  0.33333333]],\n",
       "\n",
       "       [[ 4.66666667,  4.33333333],\n",
       "        [ 3.66666667,  3.33333333],\n",
       "        [ 2.66666667,  2.33333333],\n",
       "        [ 1.66666667,  1.33333333],\n",
       "        [ 0.66666667,  0.33333333]],\n",
       "\n",
       "       [[ 0.33333333,  0.66666667],\n",
       "        [-0.66666667, -0.33333333],\n",
       "        [-1.66666667, -1.33333333],\n",
       "        [-2.66666667, -2.33333333],\n",
       "        [-3.66666667, -3.33333333]],\n",
       "\n",
       "       [[ 1.33333333,  0.66666667],\n",
       "        [ 0.33333333, -0.33333333],\n",
       "        [-0.66666667, -1.33333333],\n",
       "        [-1.66666667, -2.33333333],\n",
       "        [-2.66666667, -3.33333333]],\n",
       "\n",
       "       [[ 2.33333333,  0.66666667],\n",
       "        [ 1.33333333, -0.33333333],\n",
       "        [ 0.33333333, -1.33333333],\n",
       "        [-0.66666667, -2.33333333],\n",
       "        [-1.66666667, -3.33333333]],\n",
       "\n",
       "       [[ 3.33333333,  0.66666667],\n",
       "        [ 2.33333333, -0.33333333],\n",
       "        [ 1.33333333, -1.33333333],\n",
       "        [ 0.33333333, -2.33333333],\n",
       "        [-0.66666667, -3.33333333]],\n",
       "\n",
       "       [[ 4.33333333,  0.66666667],\n",
       "        [ 3.33333333, -0.33333333],\n",
       "        [ 2.33333333, -1.33333333],\n",
       "        [ 1.33333333, -2.33333333],\n",
       "        [ 0.33333333, -3.33333333]],\n",
       "\n",
       "       [[ 0.33333333,  1.66666667],\n",
       "        [-0.66666667,  0.66666667],\n",
       "        [-1.66666667, -0.33333333],\n",
       "        [-2.66666667, -1.33333333],\n",
       "        [-3.66666667, -2.33333333]],\n",
       "\n",
       "       [[ 1.33333333,  1.66666667],\n",
       "        [ 0.33333333,  0.66666667],\n",
       "        [-0.66666667, -0.33333333],\n",
       "        [-1.66666667, -1.33333333],\n",
       "        [-2.66666667, -2.33333333]],\n",
       "\n",
       "       [[ 2.33333333,  1.66666667],\n",
       "        [ 1.33333333,  0.66666667],\n",
       "        [ 0.33333333, -0.33333333],\n",
       "        [-0.66666667, -1.33333333],\n",
       "        [-1.66666667, -2.33333333]],\n",
       "\n",
       "       [[ 3.33333333,  1.66666667],\n",
       "        [ 2.33333333,  0.66666667],\n",
       "        [ 1.33333333, -0.33333333],\n",
       "        [ 0.33333333, -1.33333333],\n",
       "        [-0.66666667, -2.33333333]],\n",
       "\n",
       "       [[ 4.33333333,  1.66666667],\n",
       "        [ 3.33333333,  0.66666667],\n",
       "        [ 2.33333333, -0.33333333],\n",
       "        [ 1.33333333, -1.33333333],\n",
       "        [ 0.33333333, -2.33333333]],\n",
       "\n",
       "       [[ 0.33333333,  2.66666667],\n",
       "        [-0.66666667,  1.66666667],\n",
       "        [-1.66666667,  0.66666667],\n",
       "        [-2.66666667, -0.33333333],\n",
       "        [-3.66666667, -1.33333333]],\n",
       "\n",
       "       [[ 1.33333333,  2.66666667],\n",
       "        [ 0.33333333,  1.66666667],\n",
       "        [-0.66666667,  0.66666667],\n",
       "        [-1.66666667, -0.33333333],\n",
       "        [-2.66666667, -1.33333333]],\n",
       "\n",
       "       [[ 2.33333333,  2.66666667],\n",
       "        [ 1.33333333,  1.66666667],\n",
       "        [ 0.33333333,  0.66666667],\n",
       "        [-0.66666667, -0.33333333],\n",
       "        [-1.66666667, -1.33333333]],\n",
       "\n",
       "       [[ 3.33333333,  2.66666667],\n",
       "        [ 2.33333333,  1.66666667],\n",
       "        [ 1.33333333,  0.66666667],\n",
       "        [ 0.33333333, -0.33333333],\n",
       "        [-0.66666667, -1.33333333]],\n",
       "\n",
       "       [[ 4.33333333,  2.66666667],\n",
       "        [ 3.33333333,  1.66666667],\n",
       "        [ 2.33333333,  0.66666667],\n",
       "        [ 1.33333333, -0.33333333],\n",
       "        [ 0.33333333, -1.33333333]],\n",
       "\n",
       "       [[ 0.33333333,  3.66666667],\n",
       "        [-0.66666667,  2.66666667],\n",
       "        [-1.66666667,  1.66666667],\n",
       "        [-2.66666667,  0.66666667],\n",
       "        [-3.66666667, -0.33333333]],\n",
       "\n",
       "       [[ 1.33333333,  3.66666667],\n",
       "        [ 0.33333333,  2.66666667],\n",
       "        [-0.66666667,  1.66666667],\n",
       "        [-1.66666667,  0.66666667],\n",
       "        [-2.66666667, -0.33333333]],\n",
       "\n",
       "       [[ 2.33333333,  3.66666667],\n",
       "        [ 1.33333333,  2.66666667],\n",
       "        [ 0.33333333,  1.66666667],\n",
       "        [-0.66666667,  0.66666667],\n",
       "        [-1.66666667, -0.33333333]],\n",
       "\n",
       "       [[ 3.33333333,  3.66666667],\n",
       "        [ 2.33333333,  2.66666667],\n",
       "        [ 1.33333333,  1.66666667],\n",
       "        [ 0.33333333,  0.66666667],\n",
       "        [-0.66666667, -0.33333333]],\n",
       "\n",
       "       [[ 4.33333333,  3.66666667],\n",
       "        [ 3.33333333,  2.66666667],\n",
       "        [ 2.33333333,  1.66666667],\n",
       "        [ 1.33333333,  0.66666667],\n",
       "        [ 0.33333333, -0.33333333]],\n",
       "\n",
       "       [[ 0.33333333,  4.66666667],\n",
       "        [-0.66666667,  3.66666667],\n",
       "        [-1.66666667,  2.66666667],\n",
       "        [-2.66666667,  1.66666667],\n",
       "        [-3.66666667,  0.66666667]],\n",
       "\n",
       "       [[ 1.33333333,  4.66666667],\n",
       "        [ 0.33333333,  3.66666667],\n",
       "        [-0.66666667,  2.66666667],\n",
       "        [-1.66666667,  1.66666667],\n",
       "        [-2.66666667,  0.66666667]],\n",
       "\n",
       "       [[ 2.33333333,  4.66666667],\n",
       "        [ 1.33333333,  3.66666667],\n",
       "        [ 0.33333333,  2.66666667],\n",
       "        [-0.66666667,  1.66666667],\n",
       "        [-1.66666667,  0.66666667]],\n",
       "\n",
       "       [[ 3.33333333,  4.66666667],\n",
       "        [ 2.33333333,  3.66666667],\n",
       "        [ 1.33333333,  2.66666667],\n",
       "        [ 0.33333333,  1.66666667],\n",
       "        [-0.66666667,  0.66666667]],\n",
       "\n",
       "       [[ 4.33333333,  4.66666667],\n",
       "        [ 3.33333333,  3.66666667],\n",
       "        [ 2.33333333,  2.66666667],\n",
       "        [ 1.33333333,  1.66666667],\n",
       "        [ 0.33333333,  0.66666667]]])"
      ]
     },
     "metadata": {},
     "output_type": "display_data"
    }
   ],
   "source": [
    "display(A,A[...,1:,:],p*bc[...,np.newaxis,:]-t.reshape(-1,1))"
   ]
  },
  {
   "cell_type": "code",
   "execution_count": 46,
   "metadata": {},
   "outputs": [
    {
     "data": {
      "text/plain": [
       "(50, 6, 3)"
      ]
     },
     "metadata": {},
     "output_type": "display_data"
    }
   ],
   "source": [
    "display(bc.shape[:-1]+(p+1,TD+1)) # 单元个数|插值函数次数加一|拓扑维数加一"
   ]
  },
  {
   "cell_type": "code",
   "execution_count": null,
   "metadata": {},
   "outputs": [],
   "source": []
  },
  {
   "cell_type": "code",
   "execution_count": null,
   "metadata": {},
   "outputs": [],
   "source": []
  },
  {
   "cell_type": "markdown",
   "metadata": {},
   "source": [
    "#### 重心坐标梯度的计算代码"
   ]
  },
  {
   "cell_type": "code",
   "execution_count": 30,
   "metadata": {},
   "outputs": [
    {
     "name": "stdout",
     "output_type": "stream",
     "text": [
      "run boxmesh2d with time: 0.0016117999984999187\n"
     ]
    }
   ],
   "source": [
    "# 源代码\n",
    "domain=[0,1,0,1]\n",
    "mesh=MF.boxmesh2d(domain,nx=1,ny=1,meshtype='tri')\n",
    "NC=mesh.number_of_cells()\n",
    "\n",
    "node=mesh.entity('node')\n",
    "cell=mesh.entity('cell')\n",
    "v0=node[cell[:,2],:]-node[cell[:,1],:] # x2-x1\n",
    "v1=node[cell[:,0],:]-node[cell[:,2],:] # x0-x2\n",
    "v2=node[cell[:,1],:]-node[cell[:,0],:] # x1-x0\n",
    "nv=np.cross(v2,-v1)\n",
    "\n",
    "Dlambda=np.zeros((NC,3,2))\n",
    "length=nv\n",
    "w=np.array([[0,1],[-1,0]])\n",
    "Dlambda[:,0,:]=v0@w # /length.reshape[-1,1]\n",
    "Dlambda[:,1,:]=v1@w # /length.reshape[-1,1]\n",
    "Dlambda[:,2,:]=v2@w # /length.reshape[-1,1]"
   ]
  },
  {
   "cell_type": "code",
   "execution_count": 38,
   "metadata": {},
   "outputs": [
    {
     "data": {
      "text/plain": [
       "array([[2, 3, 0],\n",
       "       [1, 0, 3]])"
      ]
     },
     "metadata": {},
     "output_type": "display_data"
    },
    {
     "data": {
      "text/plain": [
       "array([0, 3])"
      ]
     },
     "metadata": {},
     "output_type": "display_data"
    },
    {
     "data": {
      "text/plain": [
       "array([[0., 0.],\n",
       "       [0., 1.],\n",
       "       [1., 0.],\n",
       "       [1., 1.]])"
      ]
     },
     "metadata": {},
     "output_type": "display_data"
    },
    {
     "data": {
      "text/plain": [
       "array([[0., 0.],\n",
       "       [1., 1.]])"
      ]
     },
     "metadata": {},
     "output_type": "display_data"
    }
   ],
   "source": [
    "display(cell,cell[:,2],node,node[cell[:,2],:])"
   ]
  },
  {
   "cell_type": "code",
   "execution_count": 31,
   "metadata": {},
   "outputs": [
    {
     "data": {
      "text/plain": [
       "array([[ 0.,  1.],\n",
       "       [ 0., -1.]])"
      ]
     },
     "metadata": {},
     "output_type": "display_data"
    },
    {
     "data": {
      "text/plain": [
       "array([[-1., -0.],\n",
       "       [ 1., -0.]])"
      ]
     },
     "metadata": {},
     "output_type": "display_data"
    }
   ],
   "source": [
    "display(v2,-v1)"
   ]
  },
  {
   "cell_type": "code",
   "execution_count": 28,
   "metadata": {},
   "outputs": [
    {
     "data": {
      "text/plain": [
       "array([[[ 1., -1.],\n",
       "        [ 0.,  1.],\n",
       "        [-1.,  0.]],\n",
       "\n",
       "       [[-1.,  1.],\n",
       "        [ 0., -1.],\n",
       "        [ 1.,  0.]]])"
      ]
     },
     "execution_count": 28,
     "metadata": {},
     "output_type": "execute_result"
    }
   ],
   "source": [
    "Dlambda"
   ]
  },
  {
   "cell_type": "code",
   "execution_count": 20,
   "metadata": {},
   "outputs": [
    {
     "data": {
      "text/plain": [
       "array([[1.],\n",
       "       [1.]])"
      ]
     },
     "execution_count": 20,
     "metadata": {},
     "output_type": "execute_result"
    }
   ],
   "source": [
    "# np.cross(v2,-v1).reshape(-1,1)"
   ]
  },
  {
   "cell_type": "code",
   "execution_count": 18,
   "metadata": {},
   "outputs": [
    {
     "data": {
      "text/plain": [
       "array([1., 1.])"
      ]
     },
     "metadata": {},
     "output_type": "display_data"
    },
    {
     "data": {
      "text/plain": [
       "array([[[0., 0.],\n",
       "        [0., 0.],\n",
       "        [0., 0.]],\n",
       "\n",
       "       [[0., 0.],\n",
       "        [0., 0.],\n",
       "        [0., 0.]]])"
      ]
     },
     "metadata": {},
     "output_type": "display_data"
    },
    {
     "data": {
      "text/plain": [
       "array([[-1., -1.],\n",
       "       [ 1.,  1.]])"
      ]
     },
     "metadata": {},
     "output_type": "display_data"
    },
    {
     "data": {
      "text/plain": [
       "array([[ 0,  1],\n",
       "       [-1,  0]])"
      ]
     },
     "metadata": {},
     "output_type": "display_data"
    }
   ],
   "source": [
    "display(length,Dlambda,v0,w)"
   ]
  }
 ],
 "metadata": {
  "kernelspec": {
   "display_name": "Python 3.9.7 ('base')",
   "language": "python",
   "name": "python3"
  },
  "language_info": {
   "codemirror_mode": {
    "name": "ipython",
    "version": 3
   },
   "file_extension": ".py",
   "mimetype": "text/x-python",
   "name": "python",
   "nbconvert_exporter": "python",
   "pygments_lexer": "ipython3",
   "version": "3.9.7"
  },
  "orig_nbformat": 4,
  "vscode": {
   "interpreter": {
    "hash": "38d8f3a7369e1337284c4391470205c81c1ad1ef2b6efdd4034db878c96bfad6"
   }
  }
 },
 "nbformat": 4,
 "nbformat_minor": 2
}
