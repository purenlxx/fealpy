{
 "cells": [
  {
   "cell_type": "markdown",
   "metadata": {},
   "source": [
    "### 拉格朗日有限元基函数计算展示代码 "
   ]
  },
  {
   "cell_type": "code",
   "execution_count": 49,
   "metadata": {},
   "outputs": [],
   "source": [
    "def basis(self, bc, index=np.s_[:], p=None):\n",
    "        \"\"\"\n",
    "        compute the basis function values at barycentric point bc\n",
    "\n",
    "        Parameters\n",
    "        ----------\n",
    "        bc : numpy.ndarray\n",
    "            the shape of `bc` can be `(TD+1,)` or `(NQ, TD+1)`\n",
    "        Returns\n",
    "        -------\n",
    "        phi : numpy.ndarray\n",
    "            the shape of 'phi' can be `(1, ldof)` or `(NQ, 1, ldof)`\n",
    "\n",
    "        See Also\n",
    "        --------\n",
    "\n",
    "        Notes\n",
    "        -----\n",
    "\n",
    "        \"\"\"\n",
    "        if p is None:\n",
    "            p = self.p\n",
    "\n",
    "        if p == 0 and self.spacetype == 'D':\n",
    "            shape = (len(bc.shape)+1)*(1, ) \n",
    "            print('shape:', shape)\n",
    "            phi = np.ones(shape, dtype=self.ftype)\n",
    "\n",
    "        TD = bc.shape[-1] - 1 \n",
    "        multiIndex = self.multi_index_matrix[TD](p)\n",
    "\n",
    "        c = np.arange(1, p+1, dtype=np.int_)\n",
    "        P = 1.0/np.multiply.accumulate(c)\n",
    "        t = np.arange(0, p)\n",
    "        shape = bc.shape[:-1]+(p+1, TD+1)\n",
    "        A = np.ones(shape, dtype=self.ftype)\n",
    "        A[..., 1:, :] = p*bc[..., np.newaxis, :] - t.reshape(-1, 1)\n",
    "        np.cumprod(A, axis=-2, out=A)\n",
    "        A[..., 1:, :] *= P.reshape(-1, 1)\n",
    "        idx = np.arange(TD+1)\n",
    "        phi = np.prod(A[..., multiIndex, idx], axis=-1)\n",
    "        return phi[..., np.newaxis, :] # (..., 1, ldof)"
   ]
  },
  {
   "cell_type": "code",
   "execution_count": 52,
   "metadata": {},
   "outputs": [
    {
     "data": {
      "text/plain": [
       "array([[0.66666667, 0.33333333],\n",
       "       [0.33333333, 0.66666667]])"
      ]
     },
     "execution_count": 52,
     "metadata": {},
     "output_type": "execute_result"
    }
   ],
   "source": [
    "mesh.entity_barycenter('cell')"
   ]
  },
  {
   "cell_type": "code",
   "execution_count": 51,
   "metadata": {},
   "outputs": [
    {
     "ename": "TypeError",
     "evalue": "basis() missing 1 required positional argument: 'bc'",
     "output_type": "error",
     "traceback": [
      "\u001b[1;31m---------------------------------------------------------------------------\u001b[0m",
      "\u001b[1;31mTypeError\u001b[0m                                 Traceback (most recent call last)",
      "\u001b[1;32m~\\AppData\\Local\\Temp/ipykernel_12000/3308958482.py\u001b[0m in \u001b[0;36m<module>\u001b[1;34m\u001b[0m\n\u001b[1;32m----> 1\u001b[1;33m \u001b[0mbasis\u001b[0m\u001b[1;33m(\u001b[0m\u001b[0mmesh\u001b[0m\u001b[1;33m,\u001b[0m\u001b[0mp\u001b[0m\u001b[1;33m=\u001b[0m\u001b[1;36m3\u001b[0m\u001b[1;33m)\u001b[0m\u001b[1;33m\u001b[0m\u001b[1;33m\u001b[0m\u001b[0m\n\u001b[0m",
      "\u001b[1;31mTypeError\u001b[0m: basis() missing 1 required positional argument: 'bc'"
     ]
    }
   ],
   "source": [
    "basis(mesh,p=3)"
   ]
  },
  {
   "cell_type": "code",
   "execution_count": 47,
   "metadata": {},
   "outputs": [],
   "source": [
    "p=5\n",
    "c = np.arange(1, p+1)\n",
    "P = np.multiply.accumulate(c)\n",
    "P_ = 1/P"
   ]
  },
  {
   "cell_type": "code",
   "execution_count": 48,
   "metadata": {},
   "outputs": [
    {
     "name": "stdout",
     "output_type": "stream",
     "text": [
      "[1 2 3 4 5] [  1   2   6  24 120] [1.         0.5        0.16666667 0.04166667 0.00833333]\n"
     ]
    }
   ],
   "source": [
    "print(c,P,P_)"
   ]
  },
  {
   "cell_type": "code",
   "execution_count": null,
   "metadata": {},
   "outputs": [],
   "source": []
  },
  {
   "cell_type": "code",
   "execution_count": null,
   "metadata": {},
   "outputs": [],
   "source": []
  },
  {
   "cell_type": "code",
   "execution_count": null,
   "metadata": {},
   "outputs": [],
   "source": []
  },
  {
   "cell_type": "markdown",
   "metadata": {},
   "source": [
    "### start!"
   ]
  },
  {
   "cell_type": "code",
   "execution_count": 49,
   "metadata": {},
   "outputs": [
    {
     "name": "stdout",
     "output_type": "stream",
     "text": [
      "run boxmesh2d with time: 0.0010654000000158703\n"
     ]
    }
   ],
   "source": [
    "import numpy as np\n",
    "from fealpy.mesh import MeshFactory as MF\n",
    "import matplotlib.pyplot as plt # 画图\n",
    "domain=[0,1,0,1]\n",
    "mesh=MF.boxmesh2d(domain,nx=1,ny=1,meshtype='tri')"
   ]
  },
  {
   "cell_type": "code",
   "execution_count": 33,
   "metadata": {},
   "outputs": [
    {
     "data": {
      "image/png": "[encoded data removed]",
      "text/plain": [
       "<Figure size 720x720 with 1 Axes>"
      ]
     },
     "metadata": {
      "needs_background": "light"
     },
     "output_type": "display_data"
    }
   ],
   "source": [
    "fig=plt.figure(figsize=(10,10))\n",
    "axes=fig.gca()\n",
    "mesh.add_plot(axes)\n",
    "mesh.find_node(axes,showindex=True,fontsize=20)\n",
    "mesh.find_edge(axes,showindex=True,fontsize=20)\n",
    "mesh.find_cell(axes,showindex=True)\n",
    "plt.show()"
   ]
  },
  {
   "cell_type": "code",
   "execution_count": 51,
   "metadata": {},
   "outputs": [
    {
     "data": {
      "text/plain": [
       "array([[2, 3, 0],\n",
       "       [1, 0, 3]])"
      ]
     },
     "metadata": {},
     "output_type": "display_data"
    },
    {
     "data": {
      "text/plain": [
       "array([[1, 0],\n",
       "       [0, 2],\n",
       "       [3, 0],\n",
       "       [3, 1],\n",
       "       [2, 3]])"
      ]
     },
     "metadata": {},
     "output_type": "display_data"
    },
    {
     "data": {
      "text/plain": [
       "array([[0., 0.],\n",
       "       [0., 1.],\n",
       "       [1., 0.],\n",
       "       [1., 1.]])"
      ]
     },
     "metadata": {},
     "output_type": "display_data"
    },
    {
     "data": {
      "text/plain": [
       "1"
      ]
     },
     "metadata": {},
     "output_type": "display_data"
    }
   ],
   "source": [
    "cell=mesh.entity('cell')\n",
    "edge=mesh.entity('edge')\n",
    "node=mesh.entity('node')\n",
    "display(cell,edge,node,mesh.p)"
   ]
  },
  {
   "cell_type": "code",
   "execution_count": 52,
   "metadata": {},
   "outputs": [
    {
     "name": "stdout",
     "output_type": "stream",
     "text": [
      "5 1\n"
     ]
    }
   ],
   "source": [
    "# p=mesh.p\n",
    "p=5\n",
    "print(p,mesh.p)"
   ]
  },
  {
   "cell_type": "code",
   "execution_count": 53,
   "metadata": {},
   "outputs": [
    {
     "data": {
      "text/plain": [
       "array([[0.66666667, 0.33333333],\n",
       "       [0.33333333, 0.66666667]])"
      ]
     },
     "metadata": {},
     "output_type": "display_data"
    },
    {
     "data": {
      "text/plain": [
       "2"
      ]
     },
     "metadata": {},
     "output_type": "display_data"
    }
   ],
   "source": [
    "TD=mesh.top_dimension()\n",
    "bc=mesh.entity_barycenter('cell') # 重心坐标\n",
    "display(bc,TD)"
   ]
  },
  {
   "cell_type": "code",
   "execution_count": 58,
   "metadata": {},
   "outputs": [],
   "source": [
    "# construct vector P=(1/1!,1/2!,...,1/P!)\n",
    "c=np.arange(1,p+1,dtype=np.int)\n",
    "P=1/np.multiply.accumulate(c)\n",
    "\n",
    "# construct the matrix A.\n",
    "t=np.arange(0,p)\n",
    "shape=bc.shape[:-1]+(p+1,TD)\n",
    "A=np.ones(shape)\n",
    "A[...,1:,:]=p*bc[...,np.newaxis,:]-t.reshape(-1,1)"
   ]
  },
  {
   "cell_type": "code",
   "execution_count": 59,
   "metadata": {},
   "outputs": [
    {
     "data": {
      "text/plain": [
       "array([[[ 1.        ,  1.        ],\n",
       "        [ 3.33333333,  1.66666667],\n",
       "        [ 2.33333333,  0.66666667],\n",
       "        [ 1.33333333, -0.33333333],\n",
       "        [ 0.33333333, -1.33333333],\n",
       "        [-0.66666667, -2.33333333]],\n",
       "\n",
       "       [[ 1.        ,  1.        ],\n",
       "        [ 1.66666667,  3.33333333],\n",
       "        [ 0.66666667,  2.33333333],\n",
       "        [-0.33333333,  1.33333333],\n",
       "        [-1.33333333,  0.33333333],\n",
       "        [-2.33333333, -0.66666667]]])"
      ]
     },
     "execution_count": 59,
     "metadata": {},
     "output_type": "execute_result"
    }
   ],
   "source": [
    "A"
   ]
  },
  {
   "cell_type": "code",
   "execution_count": 61,
   "metadata": {},
   "outputs": [],
   "source": [
    "# construct matrix B and here we still use the memory of A\n",
    "np.cumprod(A,axis=-2,out=A)\n",
    "A[...,1:,:]*=P.reshape(-1,1)"
   ]
  },
  {
   "cell_type": "code",
   "execution_count": 62,
   "metadata": {},
   "outputs": [
    {
     "data": {
      "text/plain": [
       "array([[[ 1.00000000e+00,  1.00000000e+00],\n",
       "        [ 3.33333333e+00,  1.66666667e+00],\n",
       "        [ 1.29629630e+01,  9.25925926e-01],\n",
       "        [ 4.48102423e+01, -1.14311843e-01],\n",
       "        [ 3.87249008e+01, -1.41125732e-02],\n",
       "        [-1.78485139e+01,  3.25228024e-03]],\n",
       "\n",
       "       [[ 1.00000000e+00,  1.00000000e+00],\n",
       "        [ 1.66666667e+00,  3.33333333e+00],\n",
       "        [ 9.25925926e-01,  1.29629630e+01],\n",
       "        [-1.14311843e-01,  4.48102423e+01],\n",
       "        [-1.41125732e-02,  3.87249008e+01],\n",
       "        [ 3.25228024e-03, -1.78485139e+01]]])"
      ]
     },
     "execution_count": 62,
     "metadata": {},
     "output_type": "execute_result"
    }
   ],
   "source": [
    "A"
   ]
  },
  {
   "cell_type": "code",
   "execution_count": 43,
   "metadata": {},
   "outputs": [
    {
     "data": {
      "text/plain": [
       "array([0, 1, 2, 3, 4])"
      ]
     },
     "execution_count": 43,
     "metadata": {},
     "output_type": "execute_result"
    }
   ],
   "source": [
    "t"
   ]
  },
  {
   "cell_type": "code",
   "execution_count": 44,
   "metadata": {},
   "outputs": [
    {
     "data": {
      "text/plain": [
       "array([[[ 1.        ,  1.        ],\n",
       "        [ 0.66666667,  0.33333333],\n",
       "        [-0.33333333, -0.66666667],\n",
       "        [-1.33333333, -1.66666667],\n",
       "        [-2.33333333, -2.66666667],\n",
       "        [-3.33333333, -3.66666667]],\n",
       "\n",
       "       [[ 1.        ,  1.        ],\n",
       "        [ 1.66666667,  0.33333333],\n",
       "        [ 0.66666667, -0.66666667],\n",
       "        [-0.33333333, -1.66666667],\n",
       "        [-1.33333333, -2.66666667],\n",
       "        [-2.33333333, -3.66666667]],\n",
       "\n",
       "       [[ 1.        ,  1.        ],\n",
       "        [ 2.66666667,  0.33333333],\n",
       "        [ 1.66666667, -0.66666667],\n",
       "        [ 0.66666667, -1.66666667],\n",
       "        [-0.33333333, -2.66666667],\n",
       "        [-1.33333333, -3.66666667]],\n",
       "\n",
       "       [[ 1.        ,  1.        ],\n",
       "        [ 3.66666667,  0.33333333],\n",
       "        [ 2.66666667, -0.66666667],\n",
       "        [ 1.66666667, -1.66666667],\n",
       "        [ 0.66666667, -2.66666667],\n",
       "        [-0.33333333, -3.66666667]],\n",
       "\n",
       "       [[ 1.        ,  1.        ],\n",
       "        [ 4.66666667,  0.33333333],\n",
       "        [ 3.66666667, -0.66666667],\n",
       "        [ 2.66666667, -1.66666667],\n",
       "        [ 1.66666667, -2.66666667],\n",
       "        [ 0.66666667, -3.66666667]],\n",
       "\n",
       "       [[ 1.        ,  1.        ],\n",
       "        [ 0.66666667,  1.33333333],\n",
       "        [-0.33333333,  0.33333333],\n",
       "        [-1.33333333, -0.66666667],\n",
       "        [-2.33333333, -1.66666667],\n",
       "        [-3.33333333, -2.66666667]],\n",
       "\n",
       "       [[ 1.        ,  1.        ],\n",
       "        [ 1.66666667,  1.33333333],\n",
       "        [ 0.66666667,  0.33333333],\n",
       "        [-0.33333333, -0.66666667],\n",
       "        [-1.33333333, -1.66666667],\n",
       "        [-2.33333333, -2.66666667]],\n",
       "\n",
       "       [[ 1.        ,  1.        ],\n",
       "        [ 2.66666667,  1.33333333],\n",
       "        [ 1.66666667,  0.33333333],\n",
       "        [ 0.66666667, -0.66666667],\n",
       "        [-0.33333333, -1.66666667],\n",
       "        [-1.33333333, -2.66666667]],\n",
       "\n",
       "       [[ 1.        ,  1.        ],\n",
       "        [ 3.66666667,  1.33333333],\n",
       "        [ 2.66666667,  0.33333333],\n",
       "        [ 1.66666667, -0.66666667],\n",
       "        [ 0.66666667, -1.66666667],\n",
       "        [-0.33333333, -2.66666667]],\n",
       "\n",
       "       [[ 1.        ,  1.        ],\n",
       "        [ 4.66666667,  1.33333333],\n",
       "        [ 3.66666667,  0.33333333],\n",
       "        [ 2.66666667, -0.66666667],\n",
       "        [ 1.66666667, -1.66666667],\n",
       "        [ 0.66666667, -2.66666667]],\n",
       "\n",
       "       [[ 1.        ,  1.        ],\n",
       "        [ 0.66666667,  2.33333333],\n",
       "        [-0.33333333,  1.33333333],\n",
       "        [-1.33333333,  0.33333333],\n",
       "        [-2.33333333, -0.66666667],\n",
       "        [-3.33333333, -1.66666667]],\n",
       "\n",
       "       [[ 1.        ,  1.        ],\n",
       "        [ 1.66666667,  2.33333333],\n",
       "        [ 0.66666667,  1.33333333],\n",
       "        [-0.33333333,  0.33333333],\n",
       "        [-1.33333333, -0.66666667],\n",
       "        [-2.33333333, -1.66666667]],\n",
       "\n",
       "       [[ 1.        ,  1.        ],\n",
       "        [ 2.66666667,  2.33333333],\n",
       "        [ 1.66666667,  1.33333333],\n",
       "        [ 0.66666667,  0.33333333],\n",
       "        [-0.33333333, -0.66666667],\n",
       "        [-1.33333333, -1.66666667]],\n",
       "\n",
       "       [[ 1.        ,  1.        ],\n",
       "        [ 3.66666667,  2.33333333],\n",
       "        [ 2.66666667,  1.33333333],\n",
       "        [ 1.66666667,  0.33333333],\n",
       "        [ 0.66666667, -0.66666667],\n",
       "        [-0.33333333, -1.66666667]],\n",
       "\n",
       "       [[ 1.        ,  1.        ],\n",
       "        [ 4.66666667,  2.33333333],\n",
       "        [ 3.66666667,  1.33333333],\n",
       "        [ 2.66666667,  0.33333333],\n",
       "        [ 1.66666667, -0.66666667],\n",
       "        [ 0.66666667, -1.66666667]],\n",
       "\n",
       "       [[ 1.        ,  1.        ],\n",
       "        [ 0.66666667,  3.33333333],\n",
       "        [-0.33333333,  2.33333333],\n",
       "        [-1.33333333,  1.33333333],\n",
       "        [-2.33333333,  0.33333333],\n",
       "        [-3.33333333, -0.66666667]],\n",
       "\n",
       "       [[ 1.        ,  1.        ],\n",
       "        [ 1.66666667,  3.33333333],\n",
       "        [ 0.66666667,  2.33333333],\n",
       "        [-0.33333333,  1.33333333],\n",
       "        [-1.33333333,  0.33333333],\n",
       "        [-2.33333333, -0.66666667]],\n",
       "\n",
       "       [[ 1.        ,  1.        ],\n",
       "        [ 2.66666667,  3.33333333],\n",
       "        [ 1.66666667,  2.33333333],\n",
       "        [ 0.66666667,  1.33333333],\n",
       "        [-0.33333333,  0.33333333],\n",
       "        [-1.33333333, -0.66666667]],\n",
       "\n",
       "       [[ 1.        ,  1.        ],\n",
       "        [ 3.66666667,  3.33333333],\n",
       "        [ 2.66666667,  2.33333333],\n",
       "        [ 1.66666667,  1.33333333],\n",
       "        [ 0.66666667,  0.33333333],\n",
       "        [-0.33333333, -0.66666667]],\n",
       "\n",
       "       [[ 1.        ,  1.        ],\n",
       "        [ 4.66666667,  3.33333333],\n",
       "        [ 3.66666667,  2.33333333],\n",
       "        [ 2.66666667,  1.33333333],\n",
       "        [ 1.66666667,  0.33333333],\n",
       "        [ 0.66666667, -0.66666667]],\n",
       "\n",
       "       [[ 1.        ,  1.        ],\n",
       "        [ 0.66666667,  4.33333333],\n",
       "        [-0.33333333,  3.33333333],\n",
       "        [-1.33333333,  2.33333333],\n",
       "        [-2.33333333,  1.33333333],\n",
       "        [-3.33333333,  0.33333333]],\n",
       "\n",
       "       [[ 1.        ,  1.        ],\n",
       "        [ 1.66666667,  4.33333333],\n",
       "        [ 0.66666667,  3.33333333],\n",
       "        [-0.33333333,  2.33333333],\n",
       "        [-1.33333333,  1.33333333],\n",
       "        [-2.33333333,  0.33333333]],\n",
       "\n",
       "       [[ 1.        ,  1.        ],\n",
       "        [ 2.66666667,  4.33333333],\n",
       "        [ 1.66666667,  3.33333333],\n",
       "        [ 0.66666667,  2.33333333],\n",
       "        [-0.33333333,  1.33333333],\n",
       "        [-1.33333333,  0.33333333]],\n",
       "\n",
       "       [[ 1.        ,  1.        ],\n",
       "        [ 3.66666667,  4.33333333],\n",
       "        [ 2.66666667,  3.33333333],\n",
       "        [ 1.66666667,  2.33333333],\n",
       "        [ 0.66666667,  1.33333333],\n",
       "        [-0.33333333,  0.33333333]],\n",
       "\n",
       "       [[ 1.        ,  1.        ],\n",
       "        [ 4.66666667,  4.33333333],\n",
       "        [ 3.66666667,  3.33333333],\n",
       "        [ 2.66666667,  2.33333333],\n",
       "        [ 1.66666667,  1.33333333],\n",
       "        [ 0.66666667,  0.33333333]],\n",
       "\n",
       "       [[ 1.        ,  1.        ],\n",
       "        [ 0.33333333,  0.66666667],\n",
       "        [-0.66666667, -0.33333333],\n",
       "        [-1.66666667, -1.33333333],\n",
       "        [-2.66666667, -2.33333333],\n",
       "        [-3.66666667, -3.33333333]],\n",
       "\n",
       "       [[ 1.        ,  1.        ],\n",
       "        [ 1.33333333,  0.66666667],\n",
       "        [ 0.33333333, -0.33333333],\n",
       "        [-0.66666667, -1.33333333],\n",
       "        [-1.66666667, -2.33333333],\n",
       "        [-2.66666667, -3.33333333]],\n",
       "\n",
       "       [[ 1.        ,  1.        ],\n",
       "        [ 2.33333333,  0.66666667],\n",
       "        [ 1.33333333, -0.33333333],\n",
       "        [ 0.33333333, -1.33333333],\n",
       "        [-0.66666667, -2.33333333],\n",
       "        [-1.66666667, -3.33333333]],\n",
       "\n",
       "       [[ 1.        ,  1.        ],\n",
       "        [ 3.33333333,  0.66666667],\n",
       "        [ 2.33333333, -0.33333333],\n",
       "        [ 1.33333333, -1.33333333],\n",
       "        [ 0.33333333, -2.33333333],\n",
       "        [-0.66666667, -3.33333333]],\n",
       "\n",
       "       [[ 1.        ,  1.        ],\n",
       "        [ 4.33333333,  0.66666667],\n",
       "        [ 3.33333333, -0.33333333],\n",
       "        [ 2.33333333, -1.33333333],\n",
       "        [ 1.33333333, -2.33333333],\n",
       "        [ 0.33333333, -3.33333333]],\n",
       "\n",
       "       [[ 1.        ,  1.        ],\n",
       "        [ 0.33333333,  1.66666667],\n",
       "        [-0.66666667,  0.66666667],\n",
       "        [-1.66666667, -0.33333333],\n",
       "        [-2.66666667, -1.33333333],\n",
       "        [-3.66666667, -2.33333333]],\n",
       "\n",
       "       [[ 1.        ,  1.        ],\n",
       "        [ 1.33333333,  1.66666667],\n",
       "        [ 0.33333333,  0.66666667],\n",
       "        [-0.66666667, -0.33333333],\n",
       "        [-1.66666667, -1.33333333],\n",
       "        [-2.66666667, -2.33333333]],\n",
       "\n",
       "       [[ 1.        ,  1.        ],\n",
       "        [ 2.33333333,  1.66666667],\n",
       "        [ 1.33333333,  0.66666667],\n",
       "        [ 0.33333333, -0.33333333],\n",
       "        [-0.66666667, -1.33333333],\n",
       "        [-1.66666667, -2.33333333]],\n",
       "\n",
       "       [[ 1.        ,  1.        ],\n",
       "        [ 3.33333333,  1.66666667],\n",
       "        [ 2.33333333,  0.66666667],\n",
       "        [ 1.33333333, -0.33333333],\n",
       "        [ 0.33333333, -1.33333333],\n",
       "        [-0.66666667, -2.33333333]],\n",
       "\n",
       "       [[ 1.        ,  1.        ],\n",
       "        [ 4.33333333,  1.66666667],\n",
       "        [ 3.33333333,  0.66666667],\n",
       "        [ 2.33333333, -0.33333333],\n",
       "        [ 1.33333333, -1.33333333],\n",
       "        [ 0.33333333, -2.33333333]],\n",
       "\n",
       "       [[ 1.        ,  1.        ],\n",
       "        [ 0.33333333,  2.66666667],\n",
       "        [-0.66666667,  1.66666667],\n",
       "        [-1.66666667,  0.66666667],\n",
       "        [-2.66666667, -0.33333333],\n",
       "        [-3.66666667, -1.33333333]],\n",
       "\n",
       "       [[ 1.        ,  1.        ],\n",
       "        [ 1.33333333,  2.66666667],\n",
       "        [ 0.33333333,  1.66666667],\n",
       "        [-0.66666667,  0.66666667],\n",
       "        [-1.66666667, -0.33333333],\n",
       "        [-2.66666667, -1.33333333]],\n",
       "\n",
       "       [[ 1.        ,  1.        ],\n",
       "        [ 2.33333333,  2.66666667],\n",
       "        [ 1.33333333,  1.66666667],\n",
       "        [ 0.33333333,  0.66666667],\n",
       "        [-0.66666667, -0.33333333],\n",
       "        [-1.66666667, -1.33333333]],\n",
       "\n",
       "       [[ 1.        ,  1.        ],\n",
       "        [ 3.33333333,  2.66666667],\n",
       "        [ 2.33333333,  1.66666667],\n",
       "        [ 1.33333333,  0.66666667],\n",
       "        [ 0.33333333, -0.33333333],\n",
       "        [-0.66666667, -1.33333333]],\n",
       "\n",
       "       [[ 1.        ,  1.        ],\n",
       "        [ 4.33333333,  2.66666667],\n",
       "        [ 3.33333333,  1.66666667],\n",
       "        [ 2.33333333,  0.66666667],\n",
       "        [ 1.33333333, -0.33333333],\n",
       "        [ 0.33333333, -1.33333333]],\n",
       "\n",
       "       [[ 1.        ,  1.        ],\n",
       "        [ 0.33333333,  3.66666667],\n",
       "        [-0.66666667,  2.66666667],\n",
       "        [-1.66666667,  1.66666667],\n",
       "        [-2.66666667,  0.66666667],\n",
       "        [-3.66666667, -0.33333333]],\n",
       "\n",
       "       [[ 1.        ,  1.        ],\n",
       "        [ 1.33333333,  3.66666667],\n",
       "        [ 0.33333333,  2.66666667],\n",
       "        [-0.66666667,  1.66666667],\n",
       "        [-1.66666667,  0.66666667],\n",
       "        [-2.66666667, -0.33333333]],\n",
       "\n",
       "       [[ 1.        ,  1.        ],\n",
       "        [ 2.33333333,  3.66666667],\n",
       "        [ 1.33333333,  2.66666667],\n",
       "        [ 0.33333333,  1.66666667],\n",
       "        [-0.66666667,  0.66666667],\n",
       "        [-1.66666667, -0.33333333]],\n",
       "\n",
       "       [[ 1.        ,  1.        ],\n",
       "        [ 3.33333333,  3.66666667],\n",
       "        [ 2.33333333,  2.66666667],\n",
       "        [ 1.33333333,  1.66666667],\n",
       "        [ 0.33333333,  0.66666667],\n",
       "        [-0.66666667, -0.33333333]],\n",
       "\n",
       "       [[ 1.        ,  1.        ],\n",
       "        [ 4.33333333,  3.66666667],\n",
       "        [ 3.33333333,  2.66666667],\n",
       "        [ 2.33333333,  1.66666667],\n",
       "        [ 1.33333333,  0.66666667],\n",
       "        [ 0.33333333, -0.33333333]],\n",
       "\n",
       "       [[ 1.        ,  1.        ],\n",
       "        [ 0.33333333,  4.66666667],\n",
       "        [-0.66666667,  3.66666667],\n",
       "        [-1.66666667,  2.66666667],\n",
       "        [-2.66666667,  1.66666667],\n",
       "        [-3.66666667,  0.66666667]],\n",
       "\n",
       "       [[ 1.        ,  1.        ],\n",
       "        [ 1.33333333,  4.66666667],\n",
       "        [ 0.33333333,  3.66666667],\n",
       "        [-0.66666667,  2.66666667],\n",
       "        [-1.66666667,  1.66666667],\n",
       "        [-2.66666667,  0.66666667]],\n",
       "\n",
       "       [[ 1.        ,  1.        ],\n",
       "        [ 2.33333333,  4.66666667],\n",
       "        [ 1.33333333,  3.66666667],\n",
       "        [ 0.33333333,  2.66666667],\n",
       "        [-0.66666667,  1.66666667],\n",
       "        [-1.66666667,  0.66666667]],\n",
       "\n",
       "       [[ 1.        ,  1.        ],\n",
       "        [ 3.33333333,  4.66666667],\n",
       "        [ 2.33333333,  3.66666667],\n",
       "        [ 1.33333333,  2.66666667],\n",
       "        [ 0.33333333,  1.66666667],\n",
       "        [-0.66666667,  0.66666667]],\n",
       "\n",
       "       [[ 1.        ,  1.        ],\n",
       "        [ 4.33333333,  4.66666667],\n",
       "        [ 3.33333333,  3.66666667],\n",
       "        [ 2.33333333,  2.66666667],\n",
       "        [ 1.33333333,  1.66666667],\n",
       "        [ 0.33333333,  0.66666667]]])"
      ]
     },
     "metadata": {},
     "output_type": "display_data"
    },
    {
     "data": {
      "text/plain": [
       "array([[[ 0.66666667,  0.33333333],\n",
       "        [-0.33333333, -0.66666667],\n",
       "        [-1.33333333, -1.66666667],\n",
       "        [-2.33333333, -2.66666667],\n",
       "        [-3.33333333, -3.66666667]],\n",
       "\n",
       "       [[ 1.66666667,  0.33333333],\n",
       "        [ 0.66666667, -0.66666667],\n",
       "        [-0.33333333, -1.66666667],\n",
       "        [-1.33333333, -2.66666667],\n",
       "        [-2.33333333, -3.66666667]],\n",
       "\n",
       "       [[ 2.66666667,  0.33333333],\n",
       "        [ 1.66666667, -0.66666667],\n",
       "        [ 0.66666667, -1.66666667],\n",
       "        [-0.33333333, -2.66666667],\n",
       "        [-1.33333333, -3.66666667]],\n",
       "\n",
       "       [[ 3.66666667,  0.33333333],\n",
       "        [ 2.66666667, -0.66666667],\n",
       "        [ 1.66666667, -1.66666667],\n",
       "        [ 0.66666667, -2.66666667],\n",
       "        [-0.33333333, -3.66666667]],\n",
       "\n",
       "       [[ 4.66666667,  0.33333333],\n",
       "        [ 3.66666667, -0.66666667],\n",
       "        [ 2.66666667, -1.66666667],\n",
       "        [ 1.66666667, -2.66666667],\n",
       "        [ 0.66666667, -3.66666667]],\n",
       "\n",
       "       [[ 0.66666667,  1.33333333],\n",
       "        [-0.33333333,  0.33333333],\n",
       "        [-1.33333333, -0.66666667],\n",
       "        [-2.33333333, -1.66666667],\n",
       "        [-3.33333333, -2.66666667]],\n",
       "\n",
       "       [[ 1.66666667,  1.33333333],\n",
       "        [ 0.66666667,  0.33333333],\n",
       "        [-0.33333333, -0.66666667],\n",
       "        [-1.33333333, -1.66666667],\n",
       "        [-2.33333333, -2.66666667]],\n",
       "\n",
       "       [[ 2.66666667,  1.33333333],\n",
       "        [ 1.66666667,  0.33333333],\n",
       "        [ 0.66666667, -0.66666667],\n",
       "        [-0.33333333, -1.66666667],\n",
       "        [-1.33333333, -2.66666667]],\n",
       "\n",
       "       [[ 3.66666667,  1.33333333],\n",
       "        [ 2.66666667,  0.33333333],\n",
       "        [ 1.66666667, -0.66666667],\n",
       "        [ 0.66666667, -1.66666667],\n",
       "        [-0.33333333, -2.66666667]],\n",
       "\n",
       "       [[ 4.66666667,  1.33333333],\n",
       "        [ 3.66666667,  0.33333333],\n",
       "        [ 2.66666667, -0.66666667],\n",
       "        [ 1.66666667, -1.66666667],\n",
       "        [ 0.66666667, -2.66666667]],\n",
       "\n",
       "       [[ 0.66666667,  2.33333333],\n",
       "        [-0.33333333,  1.33333333],\n",
       "        [-1.33333333,  0.33333333],\n",
       "        [-2.33333333, -0.66666667],\n",
       "        [-3.33333333, -1.66666667]],\n",
       "\n",
       "       [[ 1.66666667,  2.33333333],\n",
       "        [ 0.66666667,  1.33333333],\n",
       "        [-0.33333333,  0.33333333],\n",
       "        [-1.33333333, -0.66666667],\n",
       "        [-2.33333333, -1.66666667]],\n",
       "\n",
       "       [[ 2.66666667,  2.33333333],\n",
       "        [ 1.66666667,  1.33333333],\n",
       "        [ 0.66666667,  0.33333333],\n",
       "        [-0.33333333, -0.66666667],\n",
       "        [-1.33333333, -1.66666667]],\n",
       "\n",
       "       [[ 3.66666667,  2.33333333],\n",
       "        [ 2.66666667,  1.33333333],\n",
       "        [ 1.66666667,  0.33333333],\n",
       "        [ 0.66666667, -0.66666667],\n",
       "        [-0.33333333, -1.66666667]],\n",
       "\n",
       "       [[ 4.66666667,  2.33333333],\n",
       "        [ 3.66666667,  1.33333333],\n",
       "        [ 2.66666667,  0.33333333],\n",
       "        [ 1.66666667, -0.66666667],\n",
       "        [ 0.66666667, -1.66666667]],\n",
       "\n",
       "       [[ 0.66666667,  3.33333333],\n",
       "        [-0.33333333,  2.33333333],\n",
       "        [-1.33333333,  1.33333333],\n",
       "        [-2.33333333,  0.33333333],\n",
       "        [-3.33333333, -0.66666667]],\n",
       "\n",
       "       [[ 1.66666667,  3.33333333],\n",
       "        [ 0.66666667,  2.33333333],\n",
       "        [-0.33333333,  1.33333333],\n",
       "        [-1.33333333,  0.33333333],\n",
       "        [-2.33333333, -0.66666667]],\n",
       "\n",
       "       [[ 2.66666667,  3.33333333],\n",
       "        [ 1.66666667,  2.33333333],\n",
       "        [ 0.66666667,  1.33333333],\n",
       "        [-0.33333333,  0.33333333],\n",
       "        [-1.33333333, -0.66666667]],\n",
       "\n",
       "       [[ 3.66666667,  3.33333333],\n",
       "        [ 2.66666667,  2.33333333],\n",
       "        [ 1.66666667,  1.33333333],\n",
       "        [ 0.66666667,  0.33333333],\n",
       "        [-0.33333333, -0.66666667]],\n",
       "\n",
       "       [[ 4.66666667,  3.33333333],\n",
       "        [ 3.66666667,  2.33333333],\n",
       "        [ 2.66666667,  1.33333333],\n",
       "        [ 1.66666667,  0.33333333],\n",
       "        [ 0.66666667, -0.66666667]],\n",
       "\n",
       "       [[ 0.66666667,  4.33333333],\n",
       "        [-0.33333333,  3.33333333],\n",
       "        [-1.33333333,  2.33333333],\n",
       "        [-2.33333333,  1.33333333],\n",
       "        [-3.33333333,  0.33333333]],\n",
       "\n",
       "       [[ 1.66666667,  4.33333333],\n",
       "        [ 0.66666667,  3.33333333],\n",
       "        [-0.33333333,  2.33333333],\n",
       "        [-1.33333333,  1.33333333],\n",
       "        [-2.33333333,  0.33333333]],\n",
       "\n",
       "       [[ 2.66666667,  4.33333333],\n",
       "        [ 1.66666667,  3.33333333],\n",
       "        [ 0.66666667,  2.33333333],\n",
       "        [-0.33333333,  1.33333333],\n",
       "        [-1.33333333,  0.33333333]],\n",
       "\n",
       "       [[ 3.66666667,  4.33333333],\n",
       "        [ 2.66666667,  3.33333333],\n",
       "        [ 1.66666667,  2.33333333],\n",
       "        [ 0.66666667,  1.33333333],\n",
       "        [-0.33333333,  0.33333333]],\n",
       "\n",
       "       [[ 4.66666667,  4.33333333],\n",
       "        [ 3.66666667,  3.33333333],\n",
       "        [ 2.66666667,  2.33333333],\n",
       "        [ 1.66666667,  1.33333333],\n",
       "        [ 0.66666667,  0.33333333]],\n",
       "\n",
       "       [[ 0.33333333,  0.66666667],\n",
       "        [-0.66666667, -0.33333333],\n",
       "        [-1.66666667, -1.33333333],\n",
       "        [-2.66666667, -2.33333333],\n",
       "        [-3.66666667, -3.33333333]],\n",
       "\n",
       "       [[ 1.33333333,  0.66666667],\n",
       "        [ 0.33333333, -0.33333333],\n",
       "        [-0.66666667, -1.33333333],\n",
       "        [-1.66666667, -2.33333333],\n",
       "        [-2.66666667, -3.33333333]],\n",
       "\n",
       "       [[ 2.33333333,  0.66666667],\n",
       "        [ 1.33333333, -0.33333333],\n",
       "        [ 0.33333333, -1.33333333],\n",
       "        [-0.66666667, -2.33333333],\n",
       "        [-1.66666667, -3.33333333]],\n",
       "\n",
       "       [[ 3.33333333,  0.66666667],\n",
       "        [ 2.33333333, -0.33333333],\n",
       "        [ 1.33333333, -1.33333333],\n",
       "        [ 0.33333333, -2.33333333],\n",
       "        [-0.66666667, -3.33333333]],\n",
       "\n",
       "       [[ 4.33333333,  0.66666667],\n",
       "        [ 3.33333333, -0.33333333],\n",
       "        [ 2.33333333, -1.33333333],\n",
       "        [ 1.33333333, -2.33333333],\n",
       "        [ 0.33333333, -3.33333333]],\n",
       "\n",
       "       [[ 0.33333333,  1.66666667],\n",
       "        [-0.66666667,  0.66666667],\n",
       "        [-1.66666667, -0.33333333],\n",
       "        [-2.66666667, -1.33333333],\n",
       "        [-3.66666667, -2.33333333]],\n",
       "\n",
       "       [[ 1.33333333,  1.66666667],\n",
       "        [ 0.33333333,  0.66666667],\n",
       "        [-0.66666667, -0.33333333],\n",
       "        [-1.66666667, -1.33333333],\n",
       "        [-2.66666667, -2.33333333]],\n",
       "\n",
       "       [[ 2.33333333,  1.66666667],\n",
       "        [ 1.33333333,  0.66666667],\n",
       "        [ 0.33333333, -0.33333333],\n",
       "        [-0.66666667, -1.33333333],\n",
       "        [-1.66666667, -2.33333333]],\n",
       "\n",
       "       [[ 3.33333333,  1.66666667],\n",
       "        [ 2.33333333,  0.66666667],\n",
       "        [ 1.33333333, -0.33333333],\n",
       "        [ 0.33333333, -1.33333333],\n",
       "        [-0.66666667, -2.33333333]],\n",
       "\n",
       "       [[ 4.33333333,  1.66666667],\n",
       "        [ 3.33333333,  0.66666667],\n",
       "        [ 2.33333333, -0.33333333],\n",
       "        [ 1.33333333, -1.33333333],\n",
       "        [ 0.33333333, -2.33333333]],\n",
       "\n",
       "       [[ 0.33333333,  2.66666667],\n",
       "        [-0.66666667,  1.66666667],\n",
       "        [-1.66666667,  0.66666667],\n",
       "        [-2.66666667, -0.33333333],\n",
       "        [-3.66666667, -1.33333333]],\n",
       "\n",
       "       [[ 1.33333333,  2.66666667],\n",
       "        [ 0.33333333,  1.66666667],\n",
       "        [-0.66666667,  0.66666667],\n",
       "        [-1.66666667, -0.33333333],\n",
       "        [-2.66666667, -1.33333333]],\n",
       "\n",
       "       [[ 2.33333333,  2.66666667],\n",
       "        [ 1.33333333,  1.66666667],\n",
       "        [ 0.33333333,  0.66666667],\n",
       "        [-0.66666667, -0.33333333],\n",
       "        [-1.66666667, -1.33333333]],\n",
       "\n",
       "       [[ 3.33333333,  2.66666667],\n",
       "        [ 2.33333333,  1.66666667],\n",
       "        [ 1.33333333,  0.66666667],\n",
       "        [ 0.33333333, -0.33333333],\n",
       "        [-0.66666667, -1.33333333]],\n",
       "\n",
       "       [[ 4.33333333,  2.66666667],\n",
       "        [ 3.33333333,  1.66666667],\n",
       "        [ 2.33333333,  0.66666667],\n",
       "        [ 1.33333333, -0.33333333],\n",
       "        [ 0.33333333, -1.33333333]],\n",
       "\n",
       "       [[ 0.33333333,  3.66666667],\n",
       "        [-0.66666667,  2.66666667],\n",
       "        [-1.66666667,  1.66666667],\n",
       "        [-2.66666667,  0.66666667],\n",
       "        [-3.66666667, -0.33333333]],\n",
       "\n",
       "       [[ 1.33333333,  3.66666667],\n",
       "        [ 0.33333333,  2.66666667],\n",
       "        [-0.66666667,  1.66666667],\n",
       "        [-1.66666667,  0.66666667],\n",
       "        [-2.66666667, -0.33333333]],\n",
       "\n",
       "       [[ 2.33333333,  3.66666667],\n",
       "        [ 1.33333333,  2.66666667],\n",
       "        [ 0.33333333,  1.66666667],\n",
       "        [-0.66666667,  0.66666667],\n",
       "        [-1.66666667, -0.33333333]],\n",
       "\n",
       "       [[ 3.33333333,  3.66666667],\n",
       "        [ 2.33333333,  2.66666667],\n",
       "        [ 1.33333333,  1.66666667],\n",
       "        [ 0.33333333,  0.66666667],\n",
       "        [-0.66666667, -0.33333333]],\n",
       "\n",
       "       [[ 4.33333333,  3.66666667],\n",
       "        [ 3.33333333,  2.66666667],\n",
       "        [ 2.33333333,  1.66666667],\n",
       "        [ 1.33333333,  0.66666667],\n",
       "        [ 0.33333333, -0.33333333]],\n",
       "\n",
       "       [[ 0.33333333,  4.66666667],\n",
       "        [-0.66666667,  3.66666667],\n",
       "        [-1.66666667,  2.66666667],\n",
       "        [-2.66666667,  1.66666667],\n",
       "        [-3.66666667,  0.66666667]],\n",
       "\n",
       "       [[ 1.33333333,  4.66666667],\n",
       "        [ 0.33333333,  3.66666667],\n",
       "        [-0.66666667,  2.66666667],\n",
       "        [-1.66666667,  1.66666667],\n",
       "        [-2.66666667,  0.66666667]],\n",
       "\n",
       "       [[ 2.33333333,  4.66666667],\n",
       "        [ 1.33333333,  3.66666667],\n",
       "        [ 0.33333333,  2.66666667],\n",
       "        [-0.66666667,  1.66666667],\n",
       "        [-1.66666667,  0.66666667]],\n",
       "\n",
       "       [[ 3.33333333,  4.66666667],\n",
       "        [ 2.33333333,  3.66666667],\n",
       "        [ 1.33333333,  2.66666667],\n",
       "        [ 0.33333333,  1.66666667],\n",
       "        [-0.66666667,  0.66666667]],\n",
       "\n",
       "       [[ 4.33333333,  4.66666667],\n",
       "        [ 3.33333333,  3.66666667],\n",
       "        [ 2.33333333,  2.66666667],\n",
       "        [ 1.33333333,  1.66666667],\n",
       "        [ 0.33333333,  0.66666667]]])"
      ]
     },
     "metadata": {},
     "output_type": "display_data"
    },
    {
     "data": {
      "text/plain": [
       "array([[[ 0.66666667,  0.33333333],\n",
       "        [-0.33333333, -0.66666667],\n",
       "        [-1.33333333, -1.66666667],\n",
       "        [-2.33333333, -2.66666667],\n",
       "        [-3.33333333, -3.66666667]],\n",
       "\n",
       "       [[ 1.66666667,  0.33333333],\n",
       "        [ 0.66666667, -0.66666667],\n",
       "        [-0.33333333, -1.66666667],\n",
       "        [-1.33333333, -2.66666667],\n",
       "        [-2.33333333, -3.66666667]],\n",
       "\n",
       "       [[ 2.66666667,  0.33333333],\n",
       "        [ 1.66666667, -0.66666667],\n",
       "        [ 0.66666667, -1.66666667],\n",
       "        [-0.33333333, -2.66666667],\n",
       "        [-1.33333333, -3.66666667]],\n",
       "\n",
       "       [[ 3.66666667,  0.33333333],\n",
       "        [ 2.66666667, -0.66666667],\n",
       "        [ 1.66666667, -1.66666667],\n",
       "        [ 0.66666667, -2.66666667],\n",
       "        [-0.33333333, -3.66666667]],\n",
       "\n",
       "       [[ 4.66666667,  0.33333333],\n",
       "        [ 3.66666667, -0.66666667],\n",
       "        [ 2.66666667, -1.66666667],\n",
       "        [ 1.66666667, -2.66666667],\n",
       "        [ 0.66666667, -3.66666667]],\n",
       "\n",
       "       [[ 0.66666667,  1.33333333],\n",
       "        [-0.33333333,  0.33333333],\n",
       "        [-1.33333333, -0.66666667],\n",
       "        [-2.33333333, -1.66666667],\n",
       "        [-3.33333333, -2.66666667]],\n",
       "\n",
       "       [[ 1.66666667,  1.33333333],\n",
       "        [ 0.66666667,  0.33333333],\n",
       "        [-0.33333333, -0.66666667],\n",
       "        [-1.33333333, -1.66666667],\n",
       "        [-2.33333333, -2.66666667]],\n",
       "\n",
       "       [[ 2.66666667,  1.33333333],\n",
       "        [ 1.66666667,  0.33333333],\n",
       "        [ 0.66666667, -0.66666667],\n",
       "        [-0.33333333, -1.66666667],\n",
       "        [-1.33333333, -2.66666667]],\n",
       "\n",
       "       [[ 3.66666667,  1.33333333],\n",
       "        [ 2.66666667,  0.33333333],\n",
       "        [ 1.66666667, -0.66666667],\n",
       "        [ 0.66666667, -1.66666667],\n",
       "        [-0.33333333, -2.66666667]],\n",
       "\n",
       "       [[ 4.66666667,  1.33333333],\n",
       "        [ 3.66666667,  0.33333333],\n",
       "        [ 2.66666667, -0.66666667],\n",
       "        [ 1.66666667, -1.66666667],\n",
       "        [ 0.66666667, -2.66666667]],\n",
       "\n",
       "       [[ 0.66666667,  2.33333333],\n",
       "        [-0.33333333,  1.33333333],\n",
       "        [-1.33333333,  0.33333333],\n",
       "        [-2.33333333, -0.66666667],\n",
       "        [-3.33333333, -1.66666667]],\n",
       "\n",
       "       [[ 1.66666667,  2.33333333],\n",
       "        [ 0.66666667,  1.33333333],\n",
       "        [-0.33333333,  0.33333333],\n",
       "        [-1.33333333, -0.66666667],\n",
       "        [-2.33333333, -1.66666667]],\n",
       "\n",
       "       [[ 2.66666667,  2.33333333],\n",
       "        [ 1.66666667,  1.33333333],\n",
       "        [ 0.66666667,  0.33333333],\n",
       "        [-0.33333333, -0.66666667],\n",
       "        [-1.33333333, -1.66666667]],\n",
       "\n",
       "       [[ 3.66666667,  2.33333333],\n",
       "        [ 2.66666667,  1.33333333],\n",
       "        [ 1.66666667,  0.33333333],\n",
       "        [ 0.66666667, -0.66666667],\n",
       "        [-0.33333333, -1.66666667]],\n",
       "\n",
       "       [[ 4.66666667,  2.33333333],\n",
       "        [ 3.66666667,  1.33333333],\n",
       "        [ 2.66666667,  0.33333333],\n",
       "        [ 1.66666667, -0.66666667],\n",
       "        [ 0.66666667, -1.66666667]],\n",
       "\n",
       "       [[ 0.66666667,  3.33333333],\n",
       "        [-0.33333333,  2.33333333],\n",
       "        [-1.33333333,  1.33333333],\n",
       "        [-2.33333333,  0.33333333],\n",
       "        [-3.33333333, -0.66666667]],\n",
       "\n",
       "       [[ 1.66666667,  3.33333333],\n",
       "        [ 0.66666667,  2.33333333],\n",
       "        [-0.33333333,  1.33333333],\n",
       "        [-1.33333333,  0.33333333],\n",
       "        [-2.33333333, -0.66666667]],\n",
       "\n",
       "       [[ 2.66666667,  3.33333333],\n",
       "        [ 1.66666667,  2.33333333],\n",
       "        [ 0.66666667,  1.33333333],\n",
       "        [-0.33333333,  0.33333333],\n",
       "        [-1.33333333, -0.66666667]],\n",
       "\n",
       "       [[ 3.66666667,  3.33333333],\n",
       "        [ 2.66666667,  2.33333333],\n",
       "        [ 1.66666667,  1.33333333],\n",
       "        [ 0.66666667,  0.33333333],\n",
       "        [-0.33333333, -0.66666667]],\n",
       "\n",
       "       [[ 4.66666667,  3.33333333],\n",
       "        [ 3.66666667,  2.33333333],\n",
       "        [ 2.66666667,  1.33333333],\n",
       "        [ 1.66666667,  0.33333333],\n",
       "        [ 0.66666667, -0.66666667]],\n",
       "\n",
       "       [[ 0.66666667,  4.33333333],\n",
       "        [-0.33333333,  3.33333333],\n",
       "        [-1.33333333,  2.33333333],\n",
       "        [-2.33333333,  1.33333333],\n",
       "        [-3.33333333,  0.33333333]],\n",
       "\n",
       "       [[ 1.66666667,  4.33333333],\n",
       "        [ 0.66666667,  3.33333333],\n",
       "        [-0.33333333,  2.33333333],\n",
       "        [-1.33333333,  1.33333333],\n",
       "        [-2.33333333,  0.33333333]],\n",
       "\n",
       "       [[ 2.66666667,  4.33333333],\n",
       "        [ 1.66666667,  3.33333333],\n",
       "        [ 0.66666667,  2.33333333],\n",
       "        [-0.33333333,  1.33333333],\n",
       "        [-1.33333333,  0.33333333]],\n",
       "\n",
       "       [[ 3.66666667,  4.33333333],\n",
       "        [ 2.66666667,  3.33333333],\n",
       "        [ 1.66666667,  2.33333333],\n",
       "        [ 0.66666667,  1.33333333],\n",
       "        [-0.33333333,  0.33333333]],\n",
       "\n",
       "       [[ 4.66666667,  4.33333333],\n",
       "        [ 3.66666667,  3.33333333],\n",
       "        [ 2.66666667,  2.33333333],\n",
       "        [ 1.66666667,  1.33333333],\n",
       "        [ 0.66666667,  0.33333333]],\n",
       "\n",
       "       [[ 0.33333333,  0.66666667],\n",
       "        [-0.66666667, -0.33333333],\n",
       "        [-1.66666667, -1.33333333],\n",
       "        [-2.66666667, -2.33333333],\n",
       "        [-3.66666667, -3.33333333]],\n",
       "\n",
       "       [[ 1.33333333,  0.66666667],\n",
       "        [ 0.33333333, -0.33333333],\n",
       "        [-0.66666667, -1.33333333],\n",
       "        [-1.66666667, -2.33333333],\n",
       "        [-2.66666667, -3.33333333]],\n",
       "\n",
       "       [[ 2.33333333,  0.66666667],\n",
       "        [ 1.33333333, -0.33333333],\n",
       "        [ 0.33333333, -1.33333333],\n",
       "        [-0.66666667, -2.33333333],\n",
       "        [-1.66666667, -3.33333333]],\n",
       "\n",
       "       [[ 3.33333333,  0.66666667],\n",
       "        [ 2.33333333, -0.33333333],\n",
       "        [ 1.33333333, -1.33333333],\n",
       "        [ 0.33333333, -2.33333333],\n",
       "        [-0.66666667, -3.33333333]],\n",
       "\n",
       "       [[ 4.33333333,  0.66666667],\n",
       "        [ 3.33333333, -0.33333333],\n",
       "        [ 2.33333333, -1.33333333],\n",
       "        [ 1.33333333, -2.33333333],\n",
       "        [ 0.33333333, -3.33333333]],\n",
       "\n",
       "       [[ 0.33333333,  1.66666667],\n",
       "        [-0.66666667,  0.66666667],\n",
       "        [-1.66666667, -0.33333333],\n",
       "        [-2.66666667, -1.33333333],\n",
       "        [-3.66666667, -2.33333333]],\n",
       "\n",
       "       [[ 1.33333333,  1.66666667],\n",
       "        [ 0.33333333,  0.66666667],\n",
       "        [-0.66666667, -0.33333333],\n",
       "        [-1.66666667, -1.33333333],\n",
       "        [-2.66666667, -2.33333333]],\n",
       "\n",
       "       [[ 2.33333333,  1.66666667],\n",
       "        [ 1.33333333,  0.66666667],\n",
       "        [ 0.33333333, -0.33333333],\n",
       "        [-0.66666667, -1.33333333],\n",
       "        [-1.66666667, -2.33333333]],\n",
       "\n",
       "       [[ 3.33333333,  1.66666667],\n",
       "        [ 2.33333333,  0.66666667],\n",
       "        [ 1.33333333, -0.33333333],\n",
       "        [ 0.33333333, -1.33333333],\n",
       "        [-0.66666667, -2.33333333]],\n",
       "\n",
       "       [[ 4.33333333,  1.66666667],\n",
       "        [ 3.33333333,  0.66666667],\n",
       "        [ 2.33333333, -0.33333333],\n",
       "        [ 1.33333333, -1.33333333],\n",
       "        [ 0.33333333, -2.33333333]],\n",
       "\n",
       "       [[ 0.33333333,  2.66666667],\n",
       "        [-0.66666667,  1.66666667],\n",
       "        [-1.66666667,  0.66666667],\n",
       "        [-2.66666667, -0.33333333],\n",
       "        [-3.66666667, -1.33333333]],\n",
       "\n",
       "       [[ 1.33333333,  2.66666667],\n",
       "        [ 0.33333333,  1.66666667],\n",
       "        [-0.66666667,  0.66666667],\n",
       "        [-1.66666667, -0.33333333],\n",
       "        [-2.66666667, -1.33333333]],\n",
       "\n",
       "       [[ 2.33333333,  2.66666667],\n",
       "        [ 1.33333333,  1.66666667],\n",
       "        [ 0.33333333,  0.66666667],\n",
       "        [-0.66666667, -0.33333333],\n",
       "        [-1.66666667, -1.33333333]],\n",
       "\n",
       "       [[ 3.33333333,  2.66666667],\n",
       "        [ 2.33333333,  1.66666667],\n",
       "        [ 1.33333333,  0.66666667],\n",
       "        [ 0.33333333, -0.33333333],\n",
       "        [-0.66666667, -1.33333333]],\n",
       "\n",
       "       [[ 4.33333333,  2.66666667],\n",
       "        [ 3.33333333,  1.66666667],\n",
       "        [ 2.33333333,  0.66666667],\n",
       "        [ 1.33333333, -0.33333333],\n",
       "        [ 0.33333333, -1.33333333]],\n",
       "\n",
       "       [[ 0.33333333,  3.66666667],\n",
       "        [-0.66666667,  2.66666667],\n",
       "        [-1.66666667,  1.66666667],\n",
       "        [-2.66666667,  0.66666667],\n",
       "        [-3.66666667, -0.33333333]],\n",
       "\n",
       "       [[ 1.33333333,  3.66666667],\n",
       "        [ 0.33333333,  2.66666667],\n",
       "        [-0.66666667,  1.66666667],\n",
       "        [-1.66666667,  0.66666667],\n",
       "        [-2.66666667, -0.33333333]],\n",
       "\n",
       "       [[ 2.33333333,  3.66666667],\n",
       "        [ 1.33333333,  2.66666667],\n",
       "        [ 0.33333333,  1.66666667],\n",
       "        [-0.66666667,  0.66666667],\n",
       "        [-1.66666667, -0.33333333]],\n",
       "\n",
       "       [[ 3.33333333,  3.66666667],\n",
       "        [ 2.33333333,  2.66666667],\n",
       "        [ 1.33333333,  1.66666667],\n",
       "        [ 0.33333333,  0.66666667],\n",
       "        [-0.66666667, -0.33333333]],\n",
       "\n",
       "       [[ 4.33333333,  3.66666667],\n",
       "        [ 3.33333333,  2.66666667],\n",
       "        [ 2.33333333,  1.66666667],\n",
       "        [ 1.33333333,  0.66666667],\n",
       "        [ 0.33333333, -0.33333333]],\n",
       "\n",
       "       [[ 0.33333333,  4.66666667],\n",
       "        [-0.66666667,  3.66666667],\n",
       "        [-1.66666667,  2.66666667],\n",
       "        [-2.66666667,  1.66666667],\n",
       "        [-3.66666667,  0.66666667]],\n",
       "\n",
       "       [[ 1.33333333,  4.66666667],\n",
       "        [ 0.33333333,  3.66666667],\n",
       "        [-0.66666667,  2.66666667],\n",
       "        [-1.66666667,  1.66666667],\n",
       "        [-2.66666667,  0.66666667]],\n",
       "\n",
       "       [[ 2.33333333,  4.66666667],\n",
       "        [ 1.33333333,  3.66666667],\n",
       "        [ 0.33333333,  2.66666667],\n",
       "        [-0.66666667,  1.66666667],\n",
       "        [-1.66666667,  0.66666667]],\n",
       "\n",
       "       [[ 3.33333333,  4.66666667],\n",
       "        [ 2.33333333,  3.66666667],\n",
       "        [ 1.33333333,  2.66666667],\n",
       "        [ 0.33333333,  1.66666667],\n",
       "        [-0.66666667,  0.66666667]],\n",
       "\n",
       "       [[ 4.33333333,  4.66666667],\n",
       "        [ 3.33333333,  3.66666667],\n",
       "        [ 2.33333333,  2.66666667],\n",
       "        [ 1.33333333,  1.66666667],\n",
       "        [ 0.33333333,  0.66666667]]])"
      ]
     },
     "metadata": {},
     "output_type": "display_data"
    }
   ],
   "source": [
    "display(A,A[...,1:,:],p*bc[...,np.newaxis,:]-t.reshape(-1,1))"
   ]
  },
  {
   "cell_type": "code",
   "execution_count": 46,
   "metadata": {},
   "outputs": [
    {
     "data": {
      "text/plain": [
       "(50, 6, 3)"
      ]
     },
     "metadata": {},
     "output_type": "display_data"
    }
   ],
   "source": [
    "display(bc.shape[:-1]+(p+1,TD+1)) # 单元个数|插值函数次数加一|拓扑维数加一"
   ]
  },
  {
   "cell_type": "code",
   "execution_count": null,
   "metadata": {},
   "outputs": [],
   "source": []
  },
  {
   "cell_type": "code",
   "execution_count": null,
   "metadata": {},
   "outputs": [],
   "source": []
  },
  {
   "cell_type": "markdown",
   "metadata": {},
   "source": [
    "### 重心坐标梯度的计算代码"
   ]
  },
  {
   "cell_type": "code",
   "execution_count": 30,
   "metadata": {},
   "outputs": [
    {
     "name": "stdout",
     "output_type": "stream",
     "text": [
      "run boxmesh2d with time: 0.0016117999984999187\n"
     ]
    }
   ],
   "source": [
    "# 源代码\n",
    "domain=[0,1,0,1]\n",
    "mesh=MF.boxmesh2d(domain,nx=1,ny=1,meshtype='tri')\n",
    "NC=mesh.number_of_cells()\n",
    "\n",
    "node=mesh.entity('node')\n",
    "cell=mesh.entity('cell')\n",
    "v0=node[cell[:,2],:]-node[cell[:,1],:] # x2-x1\n",
    "v1=node[cell[:,0],:]-node[cell[:,2],:] # x0-x2\n",
    "v2=node[cell[:,1],:]-node[cell[:,0],:] # x1-x0\n",
    "nv=np.cross(v2,-v1)\n",
    "\n",
    "Dlambda=np.zeros((NC,3,2))\n",
    "length=nv\n",
    "w=np.array([[0,1],[-1,0]])\n",
    "Dlambda[:,0,:]=v0@w # /length.reshape[-1,1]\n",
    "Dlambda[:,1,:]=v1@w # /length.reshape[-1,1]\n",
    "Dlambda[:,2,:]=v2@w # /length.reshape[-1,1]"
   ]
  },
  {
   "cell_type": "code",
   "execution_count": 38,
   "metadata": {},
   "outputs": [
    {
     "data": {
      "text/plain": [
       "array([[2, 3, 0],\n",
       "       [1, 0, 3]])"
      ]
     },
     "metadata": {},
     "output_type": "display_data"
    },
    {
     "data": {
      "text/plain": [
       "array([0, 3])"
      ]
     },
     "metadata": {},
     "output_type": "display_data"
    },
    {
     "data": {
      "text/plain": [
       "array([[0., 0.],\n",
       "       [0., 1.],\n",
       "       [1., 0.],\n",
       "       [1., 1.]])"
      ]
     },
     "metadata": {},
     "output_type": "display_data"
    },
    {
     "data": {
      "text/plain": [
       "array([[0., 0.],\n",
       "       [1., 1.]])"
      ]
     },
     "metadata": {},
     "output_type": "display_data"
    }
   ],
   "source": [
    "display(cell,cell[:,2],node,node[cell[:,2],:])"
   ]
  },
  {
   "cell_type": "code",
   "execution_count": 31,
   "metadata": {},
   "outputs": [
    {
     "data": {
      "text/plain": [
       "array([[ 0.,  1.],\n",
       "       [ 0., -1.]])"
      ]
     },
     "metadata": {},
     "output_type": "display_data"
    },
    {
     "data": {
      "text/plain": [
       "array([[-1., -0.],\n",
       "       [ 1., -0.]])"
      ]
     },
     "metadata": {},
     "output_type": "display_data"
    }
   ],
   "source": [
    "display(v2,-v1)"
   ]
  },
  {
   "cell_type": "code",
   "execution_count": 28,
   "metadata": {},
   "outputs": [
    {
     "data": {
      "text/plain": [
       "array([[[ 1., -1.],\n",
       "        [ 0.,  1.],\n",
       "        [-1.,  0.]],\n",
       "\n",
       "       [[-1.,  1.],\n",
       "        [ 0., -1.],\n",
       "        [ 1.,  0.]]])"
      ]
     },
     "execution_count": 28,
     "metadata": {},
     "output_type": "execute_result"
    }
   ],
   "source": [
    "Dlambda"
   ]
  },
  {
   "cell_type": "code",
   "execution_count": 20,
   "metadata": {},
   "outputs": [
    {
     "data": {
      "text/plain": [
       "array([[1.],\n",
       "       [1.]])"
      ]
     },
     "execution_count": 20,
     "metadata": {},
     "output_type": "execute_result"
    }
   ],
   "source": [
    "# np.cross(v2,-v1).reshape(-1,1)"
   ]
  },
  {
   "cell_type": "code",
   "execution_count": 18,
   "metadata": {},
   "outputs": [
    {
     "data": {
      "text/plain": [
       "array([1., 1.])"
      ]
     },
     "metadata": {},
     "output_type": "display_data"
    },
    {
     "data": {
      "text/plain": [
       "array([[[0., 0.],\n",
       "        [0., 0.],\n",
       "        [0., 0.]],\n",
       "\n",
       "       [[0., 0.],\n",
       "        [0., 0.],\n",
       "        [0., 0.]]])"
      ]
     },
     "metadata": {},
     "output_type": "display_data"
    },
    {
     "data": {
      "text/plain": [
       "array([[-1., -1.],\n",
       "       [ 1.,  1.]])"
      ]
     },
     "metadata": {},
     "output_type": "display_data"
    },
    {
     "data": {
      "text/plain": [
       "array([[ 0,  1],\n",
       "       [-1,  0]])"
      ]
     },
     "metadata": {},
     "output_type": "display_data"
    }
   ],
   "source": [
    "display(length,Dlambda,v0,w)"
   ]
  },
  {
   "cell_type": "markdown",
   "metadata": {},
   "source": [
    "### 10.05_第五次课_21_36"
   ]
  },
  {
   "cell_type": "code",
   "execution_count": 5,
   "metadata": {},
   "outputs": [],
   "source": [
    "import numpy as np \n",
    "import matplotlib.pyplot as plt \n",
    "\n",
    "from fealpy.decorator import cartesian,barycentric\n",
    "from fealpy.mesh import MeshFactory as mf\n",
    "from fealpy.functionspace import LagrangeFiniteElementSpace"
   ]
  },
  {
   "cell_type": "code",
   "execution_count": 2,
   "metadata": {},
   "outputs": [],
   "source": [
    "p=1"
   ]
  },
  {
   "cell_type": "code",
   "execution_count": 26,
   "metadata": {},
   "outputs": [
    {
     "name": "stdout",
     "output_type": "stream",
     "text": [
      "run boxmesh2d with time: 0.00329779999992752\n"
     ]
    },
    {
     "data": {
      "text/plain": [
       "10"
      ]
     },
     "metadata": {},
     "output_type": "display_data"
    },
    {
     "data": {
      "text/plain": [
       "961"
      ]
     },
     "metadata": {},
     "output_type": "display_data"
    },
    {
     "name": "stdout",
     "output_type": "stream",
     "text": [
      "(4, 3) (4, 1, 10) (4, 200, 10, 2)\n",
      "[[3 0 0]\n",
      " [2 1 0]\n",
      " [2 0 1]\n",
      " [1 2 0]\n",
      " [1 1 1]\n",
      " [1 0 2]\n",
      " [0 3 0]\n",
      " [0 2 1]\n",
      " [0 1 2]\n",
      " [0 0 3]]\n"
     ]
    }
   ],
   "source": [
    "box=[0,1,0,1]\n",
    "mesh=mf.boxmesh2d(box,nx=1,ny=1,meshtype='tri')\n",
    "\n",
    "space=LagrangeFiniteElementSpace(mesh,p=p)\n",
    "ldof=space.number_of_local_dofs()\n",
    "gdof=space.number_of_global_dofs()\n",
    "display(ldof,gdof)\n",
    "\n",
    "# bc=np.array([[1/3,1/3,1/3]])\n",
    "bc=np.array([[1,0,0],[0,1,0],[0,0,1],[0.5,0.5,0]])\n",
    "\n",
    "phi=space.basis(bc)\n",
    "gphi=space.grad_basis(bc)\n",
    "print(bc.shape,phi.shape,gphi.shape)\n",
    "\n",
    "# phi:重心坐标,单元,每个基函数\n",
    "# gphi:重心坐标,单元,每个基函数,两个分量\n",
    "multiIndex=space.dof.multiIndex\n",
    "print(multiIndex)"
   ]
  },
  {
   "cell_type": "markdown",
   "metadata": {},
   "source": [
    "#### 局部自由度与全局自由度对应关系"
   ]
  },
  {
   "cell_type": "code",
   "execution_count": 17,
   "metadata": {},
   "outputs": [
    {
     "name": "stdout",
     "output_type": "stream",
     "text": [
      "0 [ 3 23 12 24 41 11  4 13 14  0]\n",
      "1 [ 6 37 26 38 42 25  7 27 28  3]\n",
      "2 [ 4 29 18 30 43 17  5 19 20  1]\n",
      "3 [ 7 39 32 40 44 31  8 33 34  4]\n",
      "4 [ 1  9 17 10 45 18  0 14 13  4]\n",
      "5 [ 4 24 31 23 46 32  3 28 27  7]\n",
      "6 [ 2 15 22 16 47 21  1 20 19  5]\n",
      "7 [ 5 30 36 29 48 35  4 34 33  8]\n"
     ]
    },
    {
     "data": {
      "image/png": "[encoded data removed]",
      "text/plain": [
       "<Figure size 432x288 with 1 Axes>"
      ]
     },
     "metadata": {
      "needs_background": "light"
     },
     "output_type": "display_data"
    },
    {
     "data": {
      "image/png": "[encoded data removed]",
      "text/plain": [
       "<Figure size 432x288 with 1 Axes>"
      ]
     },
     "metadata": {
      "needs_background": "light"
     },
     "output_type": "display_data"
    }
   ],
   "source": [
    "ipoints =space.interpolation_points()\n",
    "\n",
    "cell2dof=space.cell_to_dof() # 每个单元 对应的 局部自由度的 全局编号\n",
    "for i,var in enumerate(cell2dof):\n",
    "    print(i,var)\n",
    "\n",
    "fig=plt.figure()\n",
    "axes=fig.gca()\n",
    "mesh.add_plot(axes)\n",
    "mesh.find_node(axes,showindex=True)\n",
    "mesh.find_edge(axes,showindex=True,fontsize=20)\n",
    "mesh.find_cell(axes,showindex=True)\n",
    "\n",
    "fig=plt.figure()\n",
    "axes=fig.gca()\n",
    "mesh.add_plot(axes)\n",
    "mesh.find_node(axes,node=ipoints,showindex=True,fontsize=20) # \n",
    "plt.show()"
   ]
  },
  {
   "cell_type": "markdown",
   "metadata": {},
   "source": [
    "### LagrangeFiniteElementSpace 演示实例"
   ]
  },
  {
   "cell_type": "code",
   "execution_count": 19,
   "metadata": {},
   "outputs": [
    {
     "name": "stdout",
     "output_type": "stream",
     "text": [
      "[[[0.5  0.  ]\n",
      "  [1.   0.  ]\n",
      "  [0.5  0.5 ]\n",
      "  [1.   0.5 ]\n",
      "  [0.   0.5 ]\n",
      "  [0.5  0.5 ]\n",
      "  [0.   1.  ]\n",
      "  [0.5  1.  ]]\n",
      "\n",
      " [[0.5  0.5 ]\n",
      "  [1.   0.5 ]\n",
      "  [0.5  1.  ]\n",
      "  [1.   1.  ]\n",
      "  [0.   0.  ]\n",
      "  [0.5  0.  ]\n",
      "  [0.   0.5 ]\n",
      "  [0.5  0.5 ]]\n",
      "\n",
      " [[0.   0.  ]\n",
      "  [0.5  0.  ]\n",
      "  [0.   0.5 ]\n",
      "  [0.5  0.5 ]\n",
      "  [0.5  0.5 ]\n",
      "  [1.   0.5 ]\n",
      "  [0.5  1.  ]\n",
      "  [1.   1.  ]]\n",
      "\n",
      " [[0.5  0.25]\n",
      "  [1.   0.25]\n",
      "  [0.5  0.75]\n",
      "  [1.   0.75]\n",
      "  [0.   0.25]\n",
      "  [0.5  0.25]\n",
      "  [0.   0.75]\n",
      "  [0.5  0.75]]]\n"
     ]
    }
   ],
   "source": [
    "ps=mesh.bc_to_point(bc)\n",
    "print(ps) #(NQ,NC,2) 重心坐标变为直角坐标"
   ]
  },
  {
   "cell_type": "code",
   "execution_count": 4,
   "metadata": {},
   "outputs": [],
   "source": [
    "from fealpy.pde.poisson_2d import CosCosData"
   ]
  },
  {
   "cell_type": "code",
   "execution_count": 6,
   "metadata": {},
   "outputs": [],
   "source": [
    "class CosCosData:\n",
    "    \"\"\"\n",
    "        -\\\\Delta u = f\n",
    "        u = cos(pi*x)*cos(pi*y)\n",
    "    \"\"\"\n",
    "    def __init__(self):\n",
    "        pass\n",
    "\n",
    "    def domain(self):\n",
    "        return np.array([0, 1, 0, 1])\n",
    "\n",
    "    @cartesian\n",
    "    def solution(self, p):\n",
    "        \"\"\" The exact solution \n",
    "        Parameters\n",
    "        ---------\n",
    "        p : \n",
    "\n",
    "\n",
    "        Examples\n",
    "        -------\n",
    "        p = np.array([0, 1], dtype=np.float64)\n",
    "        p = np.array([[0, 1], [0.5, 0.5]], dtype=np.float64)\n",
    "        \"\"\"\n",
    "        x = p[..., 0]\n",
    "        y = p[..., 1]\n",
    "        pi = np.pi\n",
    "        val = np.cos(pi*x)*np.cos(pi*y)\n",
    "        return val # val.shape == x.shape\n",
    "\n",
    "\n",
    "    @cartesian\n",
    "    def source(self, p):\n",
    "        \"\"\" The right hand side of Possion equation\n",
    "        INPUT:\n",
    "            p: array object,  \n",
    "        \"\"\"\n",
    "        x = p[..., 0]\n",
    "        y = p[..., 1]\n",
    "        pi = np.pi\n",
    "        val = 2*pi*pi*np.cos(pi*x)*np.cos(pi*y)\n",
    "        return val\n",
    "\n",
    "    @cartesian\n",
    "    def gradient(self, p):\n",
    "        \"\"\" The gradient of the exact solution \n",
    "        \"\"\"\n",
    "        x = p[..., 0]\n",
    "        y = p[..., 1]\n",
    "        pi = np.pi\n",
    "        val = np.zeros(p.shape, dtype=np.float64)\n",
    "        val[..., 0] = -pi*np.sin(pi*x)*np.cos(pi*y)\n",
    "        val[..., 1] = -pi*np.cos(pi*x)*np.sin(pi*y)\n",
    "        return val # val.shape == p.shape\n",
    "\n",
    "    @cartesian\n",
    "    def flux(self, p):\n",
    "        return -self.gradient(p)\n",
    "\n",
    "    @cartesian\n",
    "    def dirichlet(self, p):\n",
    "        return self.solution(p)\n",
    "\n",
    "    @cartesian\n",
    "    def is_dirichlet_boundary(self, p):\n",
    "        y = p[..., 1]\n",
    "        return ( y == 1.0) | ( y == 0.0)"
   ]
  },
  {
   "cell_type": "code",
   "execution_count": 7,
   "metadata": {},
   "outputs": [
    {
     "name": "stdout",
     "output_type": "stream",
     "text": [
      "cartesian\n"
     ]
    }
   ],
   "source": [
    "pde=CosCosData()\n",
    "print(pde.solution.coordtype)"
   ]
  },
  {
   "cell_type": "code",
   "execution_count": 33,
   "metadata": {},
   "outputs": [
    {
     "name": "stdout",
     "output_type": "stream",
     "text": [
      "[ 1.00000000e+00  9.51056516e-01  8.09016994e-01  5.87785252e-01\n",
      "  3.09016994e-01  6.12323400e-17 -3.09016994e-01 -5.87785252e-01\n",
      " -8.09016994e-01 -9.51056516e-01]\n",
      "961 [ 1.00000000e+00  9.51056516e-01  8.09016994e-01  5.87785252e-01\n",
      "  3.09016994e-01  6.12323400e-17 -3.09016994e-01 -5.87785252e-01\n",
      " -8.09016994e-01 -9.51056516e-01 -1.00000000e+00  9.51056516e-01\n",
      "  9.04508497e-01  7.69420884e-01  5.59016994e-01  2.93892626e-01\n",
      "  5.82354159e-17 -2.93892626e-01 -5.59016994e-01 -7.69420884e-01\n",
      " -9.04508497e-01 -9.51056516e-01  8.09016994e-01  7.69420884e-01\n",
      "  6.54508497e-01  4.75528258e-01  2.50000000e-01  4.95380036e-17\n",
      " -2.50000000e-01 -4.75528258e-01 -6.54508497e-01 -7.69420884e-01\n",
      " -8.09016994e-01  5.87785252e-01  5.59016994e-01  4.75528258e-01\n",
      "  3.45491503e-01  1.81635632e-01  3.59914664e-17 -1.81635632e-01\n",
      " -3.45491503e-01 -4.75528258e-01 -5.59016994e-01 -5.87785252e-01\n",
      "  3.09016994e-01  2.93892626e-01  2.50000000e-01  1.81635632e-01\n",
      "  9.54915028e-02  1.89218337e-17 -9.54915028e-02 -1.81635632e-01\n",
      " -2.50000000e-01 -2.93892626e-01 -3.09016994e-01  6.12323400e-17\n",
      "  5.82354159e-17  4.95380036e-17  3.59914664e-17  1.89218337e-17\n",
      "  3.74939946e-33 -1.89218337e-17 -3.59914664e-17 -4.95380036e-17\n",
      " -5.82354159e-17 -6.12323400e-17 -3.09016994e-01 -2.93892626e-01\n",
      " -2.50000000e-01 -1.81635632e-01 -9.54915028e-02 -1.89218337e-17\n",
      "  9.54915028e-02  1.81635632e-01  2.50000000e-01  2.93892626e-01\n",
      "  3.09016994e-01 -5.87785252e-01 -5.59016994e-01 -4.75528258e-01\n",
      " -3.45491503e-01 -1.81635632e-01 -3.59914664e-17  1.81635632e-01\n",
      "  3.45491503e-01  4.75528258e-01  5.59016994e-01  5.87785252e-01\n",
      " -8.09016994e-01 -7.69420884e-01 -6.54508497e-01 -4.75528258e-01\n",
      " -2.50000000e-01 -4.95380036e-17  2.50000000e-01  4.75528258e-01\n",
      "  6.54508497e-01  7.69420884e-01  8.09016994e-01 -9.51056516e-01\n",
      " -9.04508497e-01 -7.69420884e-01 -5.59016994e-01 -2.93892626e-01\n",
      " -5.82354159e-17  2.93892626e-01  5.59016994e-01  7.69420884e-01\n",
      "  9.04508497e-01  9.51056516e-01 -1.00000000e+00 -9.51056516e-01\n",
      " -8.09016994e-01 -5.87785252e-01 -3.09016994e-01 -6.12323400e-17\n",
      "  3.09016994e-01  5.87785252e-01  8.09016994e-01  9.51056516e-01\n",
      "  1.00000000e+00  9.78147601e-01  9.94521895e-01  9.94521895e-01\n",
      "  9.78147601e-01  9.56772729e-01  9.89073800e-01  8.66025404e-01\n",
      "  9.13545458e-01  9.45846529e-01  9.30273650e-01  8.47100671e-01\n",
      "  9.08540960e-01  6.69130606e-01  7.43144825e-01  8.04585115e-01\n",
      "  7.91338032e-01  6.54508497e-01  7.39073800e-01  4.06736643e-01\n",
      "  5.00000000e-01  5.84565303e-01  5.74940734e-01  3.97848472e-01\n",
      "  4.97260948e-01  1.04528463e-01  2.07911691e-01  3.07324167e-01\n",
      "  3.02264232e-01  1.02244266e-01  2.06772729e-01 -2.07911691e-01\n",
      " -1.04528463e-01  6.08969028e-17  5.98942664e-17 -2.03368322e-01\n",
      " -1.03955845e-01 -5.00000000e-01 -4.06736643e-01 -3.07324167e-01\n",
      " -3.02264232e-01 -4.89073800e-01 -4.04508497e-01 -7.43144825e-01\n",
      " -6.69130606e-01 -5.84565303e-01 -5.74940734e-01 -7.26905328e-01\n",
      " -6.65465039e-01 -9.13545458e-01 -8.66025404e-01 -8.04585115e-01\n",
      " -7.91338032e-01 -8.93582298e-01 -8.61281226e-01 -9.94521895e-01\n",
      " -9.78147601e-01 -9.45846529e-01 -9.30273650e-01 -9.72789206e-01\n",
      " -9.72789206e-01 -9.78147601e-01 -9.94521895e-01  9.45846529e-01\n",
      "  9.30273650e-01  9.13545458e-01  8.66025404e-01  8.47100671e-01\n",
      "  9.08540960e-01  8.68833360e-01  8.23639104e-01  8.68833360e-01\n",
      "  8.23639104e-01  7.50000000e-01  8.34565303e-01  7.06772729e-01\n",
      "  6.36381023e-01  7.39073800e-01  7.00629269e-01  5.79484104e-01\n",
      "  6.78896580e-01  4.75528258e-01  3.86829535e-01  5.36968547e-01\n",
      "  5.09036960e-01  3.52244266e-01  4.56772729e-01  1.97735768e-01\n",
      "  9.94124761e-02  2.82301072e-01  2.67616567e-01  9.05243046e-02\n",
      "  1.89936781e-01 -9.94124761e-02 -1.97735768e-01  5.59385260e-17\n",
      "  5.30287619e-17 -1.80056806e-01 -9.54915028e-02 -3.86829535e-01\n",
      " -4.75528258e-01 -2.82301072e-01 -2.67616567e-01 -4.33012702e-01\n",
      " -3.71572413e-01 -6.36381023e-01 -7.06772729e-01 -5.36968547e-01\n",
      " -5.09036960e-01 -6.43582298e-01 -6.11281226e-01 -8.23639104e-01\n",
      " -8.68833360e-01 -7.39073800e-01 -7.00629269e-01 -7.91153574e-01\n",
      " -7.91153574e-01 -9.30273650e-01 -9.45846529e-01 -8.68833360e-01\n",
      " -8.23639104e-01 -8.61281226e-01 -8.93582298e-01 -8.66025404e-01\n",
      " -9.13545458e-01  8.04585115e-01  7.91338032e-01  7.43144825e-01\n",
      "  6.69130606e-01  6.54508497e-01  7.39073800e-01  7.39073800e-01\n",
      "  7.00629269e-01  7.06772729e-01  6.36381023e-01  5.79484104e-01\n",
      "  6.78896580e-01  6.01216793e-01  5.41338032e-01  6.01216793e-01\n",
      "  5.41338032e-01  4.47735768e-01  5.52264232e-01  4.04508497e-01\n",
      "  3.29056856e-01  4.36809569e-01  3.93305102e-01  2.72159937e-01\n",
      "  3.71572413e-01  1.68204091e-01  8.45653032e-02  2.29644380e-01\n",
      "  2.06772729e-01  6.99431940e-02  1.54508497e-01 -8.45653032e-02\n",
      " -1.68204091e-01  4.55044966e-17  4.09724328e-17 -1.39120076e-01\n",
      " -7.76797866e-02 -3.29056856e-01 -4.04508497e-01 -2.29644380e-01\n",
      " -2.06772729e-01 -3.34565303e-01 -3.02264232e-01 -5.41338032e-01\n",
      " -6.01216793e-01 -4.36809569e-01 -3.93305102e-01 -4.97260948e-01\n",
      " -4.97260948e-01 -7.00629269e-01 -7.39073800e-01 -6.01216793e-01\n",
      " -5.41338032e-01 -6.11281226e-01 -6.43582298e-01 -7.91338032e-01\n",
      " -8.04585115e-01 -7.06772729e-01 -6.36381023e-01 -6.65465039e-01\n",
      " -7.26905328e-01 -6.69130606e-01 -7.43144825e-01  5.84565303e-01\n",
      "  5.74940734e-01  5.00000000e-01  4.06736643e-01  3.97848472e-01\n",
      "  4.97260948e-01  5.36968547e-01  5.09036960e-01  4.75528258e-01\n",
      "  3.86829535e-01  3.52244266e-01  4.56772729e-01  4.36809569e-01\n",
      "  3.93305102e-01  4.04508497e-01  3.29056856e-01  2.72159937e-01\n",
      "  3.71572413e-01  2.93892626e-01  2.39073800e-01  2.93892626e-01\n",
      "  2.39073800e-01  1.65434697e-01  2.50000000e-01  1.22207426e-01\n",
      "  6.14402892e-02  1.54508497e-01  1.25688535e-01  4.25155563e-02\n",
      "  1.03955845e-01 -6.14402892e-02 -1.22207426e-01  3.06161700e-17\n",
      "  2.49054364e-17 -8.45653032e-02 -5.22642316e-02 -2.39073800e-01\n",
      " -2.93892626e-01 -1.54508497e-01 -1.25688535e-01 -2.03368322e-01\n",
      " -2.03368322e-01 -3.93305102e-01 -4.36809569e-01 -2.93892626e-01\n",
      " -2.39073800e-01 -3.02264232e-01 -3.34565303e-01 -5.09036960e-01\n",
      " -5.36968547e-01 -4.04508497e-01 -3.29056856e-01 -3.71572413e-01\n",
      " -4.33012702e-01 -5.74940734e-01 -5.84565303e-01 -4.75528258e-01\n",
      " -3.86829535e-01 -4.04508497e-01 -4.89073800e-01 -4.06736643e-01\n",
      " -5.00000000e-01  3.07324167e-01  3.02264232e-01  2.07911691e-01\n",
      "  1.04528463e-01  1.02244266e-01  2.06772729e-01  2.82301072e-01\n",
      "  2.67616567e-01  1.97735768e-01  9.94124761e-02  9.05243046e-02\n",
      "  1.89936781e-01  2.29644380e-01  2.06772729e-01  1.68204091e-01\n",
      "  8.45653032e-02  6.99431940e-02  1.54508497e-01  1.54508497e-01\n",
      "  1.25688535e-01  1.22207426e-01  6.14402892e-02  4.25155563e-02\n",
      "  1.03955845e-01  6.42482458e-02  3.23010715e-02  6.42482458e-02\n",
      "  3.23010715e-02  1.09261996e-02  4.32272712e-02 -3.23010715e-02\n",
      " -6.42482458e-02  1.27309193e-17  6.40052240e-18 -2.17326895e-02\n",
      " -2.17326895e-02 -1.25688535e-01 -1.54508497e-01 -6.42482458e-02\n",
      " -3.23010715e-02 -5.22642316e-02 -8.45653032e-02 -2.06772729e-01\n",
      " -2.29644380e-01 -1.22207426e-01 -6.14402892e-02 -7.76797866e-02\n",
      " -1.39120076e-01 -2.67616567e-01 -2.82301072e-01 -1.68204091e-01\n",
      " -8.45653032e-02 -9.54915028e-02 -1.80056806e-01 -3.02264232e-01\n",
      " -3.07324167e-01 -1.97735768e-01 -9.94124761e-02 -1.03955845e-01\n",
      " -2.03368322e-01 -1.04528463e-01 -2.07911691e-01  6.08969028e-17\n",
      "  5.98942664e-17 -1.04528463e-01 -2.07911691e-01 -2.03368322e-01\n",
      " -1.03955845e-01  5.59385260e-17  5.30287619e-17 -9.94124761e-02\n",
      " -1.97735768e-01 -1.80056806e-01 -9.54915028e-02  4.55044966e-17\n",
      "  4.09724328e-17 -8.45653032e-02 -1.68204091e-01 -1.39120076e-01\n",
      " -7.76797866e-02  3.06161700e-17  2.49054364e-17 -6.14402892e-02\n",
      " -1.22207426e-01 -8.45653032e-02 -5.22642316e-02  1.27309193e-17\n",
      "  6.40052240e-18 -3.23010715e-02 -6.42482458e-02 -2.17326895e-02\n",
      " -2.17326895e-02 -6.40052240e-18 -1.27309193e-17 -6.40052240e-18\n",
      " -1.27309193e-17  4.32272712e-02  1.09261996e-02 -2.49054364e-17\n",
      " -3.06161700e-17  3.23010715e-02  6.42482458e-02  1.03955845e-01\n",
      "  4.25155563e-02 -4.09724328e-17 -4.55044966e-17  6.14402892e-02\n",
      "  1.22207426e-01  1.54508497e-01  6.99431940e-02 -5.30287619e-17\n",
      " -5.59385260e-17  8.45653032e-02  1.68204091e-01  1.89936781e-01\n",
      "  9.05243046e-02 -5.98942664e-17 -6.08969028e-17  9.94124761e-02\n",
      "  1.97735768e-01  2.06772729e-01  1.02244266e-01  2.07911691e-01\n",
      "  1.04528463e-01 -3.07324167e-01 -3.02264232e-01 -4.06736643e-01\n",
      " -5.00000000e-01 -4.89073800e-01 -4.04508497e-01 -2.82301072e-01\n",
      " -2.67616567e-01 -3.86829535e-01 -4.75528258e-01 -4.33012702e-01\n",
      " -3.71572413e-01 -2.29644380e-01 -2.06772729e-01 -3.29056856e-01\n",
      " -4.04508497e-01 -3.34565303e-01 -3.02264232e-01 -1.54508497e-01\n",
      " -1.25688535e-01 -2.39073800e-01 -2.93892626e-01 -2.03368322e-01\n",
      " -2.03368322e-01 -6.42482458e-02 -3.23010715e-02 -1.25688535e-01\n",
      " -1.54508497e-01 -5.22642316e-02 -8.45653032e-02  3.23010715e-02\n",
      "  6.42482458e-02 -2.49054364e-17 -3.06161700e-17  1.03955845e-01\n",
      "  4.25155563e-02  1.25688535e-01  1.54508497e-01  1.25688535e-01\n",
      "  1.54508497e-01  2.50000000e-01  1.65434697e-01  2.06772729e-01\n",
      "  2.29644380e-01  2.39073800e-01  2.93892626e-01  3.71572413e-01\n",
      "  2.72159937e-01  2.67616567e-01  2.82301072e-01  3.29056856e-01\n",
      "  4.04508497e-01  4.56772729e-01  3.52244266e-01  3.02264232e-01\n",
      "  3.07324167e-01  3.86829535e-01  4.75528258e-01  4.97260948e-01\n",
      "  3.97848472e-01  5.00000000e-01  4.06736643e-01 -5.84565303e-01\n",
      " -5.74940734e-01 -6.69130606e-01 -7.43144825e-01 -7.26905328e-01\n",
      " -6.65465039e-01 -5.36968547e-01 -5.09036960e-01 -6.36381023e-01\n",
      " -7.06772729e-01 -6.43582298e-01 -6.11281226e-01 -4.36809569e-01\n",
      " -3.93305102e-01 -5.41338032e-01 -6.01216793e-01 -4.97260948e-01\n",
      " -4.97260948e-01 -2.93892626e-01 -2.39073800e-01 -3.93305102e-01\n",
      " -4.36809569e-01 -3.02264232e-01 -3.34565303e-01 -1.22207426e-01\n",
      " -6.14402892e-02 -2.06772729e-01 -2.29644380e-01 -7.76797866e-02\n",
      " -1.39120076e-01  6.14402892e-02  1.22207426e-01 -4.09724328e-17\n",
      " -4.55044966e-17  1.54508497e-01  6.99431940e-02  2.39073800e-01\n",
      "  2.93892626e-01  2.06772729e-01  2.29644380e-01  3.71572413e-01\n",
      "  2.72159937e-01  3.93305102e-01  4.36809569e-01  3.93305102e-01\n",
      "  4.36809569e-01  5.52264232e-01  4.47735768e-01  5.09036960e-01\n",
      "  5.36968547e-01  5.41338032e-01  6.01216793e-01  6.78896580e-01\n",
      "  5.79484104e-01  5.74940734e-01  5.84565303e-01  6.36381023e-01\n",
      "  7.06772729e-01  7.39073800e-01  6.54508497e-01  7.43144825e-01\n",
      "  6.69130606e-01 -8.04585115e-01 -7.91338032e-01 -8.66025404e-01\n",
      " -9.13545458e-01 -8.93582298e-01 -8.61281226e-01 -7.39073800e-01\n",
      " -7.00629269e-01 -8.23639104e-01 -8.68833360e-01 -7.91153574e-01\n",
      " -7.91153574e-01 -6.01216793e-01 -5.41338032e-01 -7.00629269e-01\n",
      " -7.39073800e-01 -6.11281226e-01 -6.43582298e-01 -4.04508497e-01\n",
      " -3.29056856e-01 -5.09036960e-01 -5.36968547e-01 -3.71572413e-01\n",
      " -4.33012702e-01 -1.68204091e-01 -8.45653032e-02 -2.67616567e-01\n",
      " -2.82301072e-01 -9.54915028e-02 -1.80056806e-01  8.45653032e-02\n",
      "  1.68204091e-01 -5.30287619e-17 -5.59385260e-17  1.89936781e-01\n",
      "  9.05243046e-02  3.29056856e-01  4.04508497e-01  2.67616567e-01\n",
      "  2.82301072e-01  4.56772729e-01  3.52244266e-01  5.41338032e-01\n",
      "  6.01216793e-01  5.09036960e-01  5.36968547e-01  6.78896580e-01\n",
      "  5.79484104e-01  7.00629269e-01  7.39073800e-01  7.00629269e-01\n",
      "  7.39073800e-01  8.34565303e-01  7.50000000e-01  7.91338032e-01\n",
      "  8.04585115e-01  8.23639104e-01  8.68833360e-01  9.08540960e-01\n",
      "  8.47100671e-01  9.13545458e-01  8.66025404e-01 -9.45846529e-01\n",
      " -9.30273650e-01 -9.78147601e-01 -9.94521895e-01 -9.72789206e-01\n",
      " -9.72789206e-01 -8.68833360e-01 -8.23639104e-01 -9.30273650e-01\n",
      " -9.45846529e-01 -8.61281226e-01 -8.93582298e-01 -7.06772729e-01\n",
      " -6.36381023e-01 -7.91338032e-01 -8.04585115e-01 -6.65465039e-01\n",
      " -7.26905328e-01 -4.75528258e-01 -3.86829535e-01 -5.74940734e-01\n",
      " -5.84565303e-01 -4.04508497e-01 -4.89073800e-01 -1.97735768e-01\n",
      " -9.94124761e-02 -3.02264232e-01 -3.07324167e-01 -1.03955845e-01\n",
      " -2.03368322e-01  9.94124761e-02  1.97735768e-01 -5.98942664e-17\n",
      " -6.08969028e-17  2.06772729e-01  1.02244266e-01  3.86829535e-01\n",
      "  4.75528258e-01  3.02264232e-01  3.07324167e-01  4.97260948e-01\n",
      "  3.97848472e-01  6.36381023e-01  7.06772729e-01  5.74940734e-01\n",
      "  5.84565303e-01  7.39073800e-01  6.54508497e-01  8.23639104e-01\n",
      "  8.68833360e-01  7.91338032e-01  8.04585115e-01  9.08540960e-01\n",
      "  8.47100671e-01  9.30273650e-01  9.45846529e-01  9.30273650e-01\n",
      "  9.45846529e-01  9.89073800e-01  9.56772729e-01  9.94521895e-01\n",
      "  9.78147601e-01 -9.94521895e-01 -9.78147601e-01 -9.13545458e-01\n",
      " -8.66025404e-01 -7.43144825e-01 -6.69130606e-01 -5.00000000e-01\n",
      " -4.06736643e-01 -2.07911691e-01 -1.04528463e-01  1.04528463e-01\n",
      "  2.07911691e-01  4.06736643e-01  5.00000000e-01  6.69130606e-01\n",
      "  7.43144825e-01  8.66025404e-01  9.13545458e-01  9.78147601e-01\n",
      "  9.94521895e-01  9.72789206e-01  8.61281226e-01  6.65465039e-01\n",
      "  4.04508497e-01  1.03955845e-01 -2.06772729e-01 -4.97260948e-01\n",
      " -7.39073800e-01 -9.08540960e-01 -9.89073800e-01  8.93582298e-01\n",
      "  7.91153574e-01  6.11281226e-01  3.71572413e-01  9.54915028e-02\n",
      " -1.89936781e-01 -4.56772729e-01 -6.78896580e-01 -8.34565303e-01\n",
      " -9.08540960e-01  7.26905328e-01  6.43582298e-01  4.97260948e-01\n",
      "  3.02264232e-01  7.76797866e-02 -1.54508497e-01 -3.71572413e-01\n",
      " -5.52264232e-01 -6.78896580e-01 -7.39073800e-01  4.89073800e-01\n",
      "  4.33012702e-01  3.34565303e-01  2.03368322e-01  5.22642316e-02\n",
      " -1.03955845e-01 -2.50000000e-01 -3.71572413e-01 -4.56772729e-01\n",
      " -4.97260948e-01  2.03368322e-01  1.80056806e-01  1.39120076e-01\n",
      "  8.45653032e-02  2.17326895e-02 -4.32272712e-02 -1.03955845e-01\n",
      " -1.54508497e-01 -1.89936781e-01 -2.06772729e-01 -1.02244266e-01\n",
      " -9.05243046e-02 -6.99431940e-02 -4.25155563e-02 -1.09261996e-02\n",
      "  2.17326895e-02  5.22642316e-02  7.76797866e-02  9.54915028e-02\n",
      "  1.03955845e-01 -3.97848472e-01 -3.52244266e-01 -2.72159937e-01\n",
      " -1.65434697e-01 -4.25155563e-02  8.45653032e-02  2.03368322e-01\n",
      "  3.02264232e-01  3.71572413e-01  4.04508497e-01 -6.54508497e-01\n",
      " -5.79484104e-01 -4.47735768e-01 -2.72159937e-01 -6.99431940e-02\n",
      "  1.39120076e-01  3.34565303e-01  4.97260948e-01  6.11281226e-01\n",
      "  6.65465039e-01 -8.47100671e-01 -7.50000000e-01 -5.79484104e-01\n",
      " -3.52244266e-01 -9.05243046e-02  1.80056806e-01  4.33012702e-01\n",
      "  6.43582298e-01  7.91153574e-01  8.61281226e-01 -9.56772729e-01\n",
      " -8.47100671e-01 -6.54508497e-01 -3.97848472e-01 -1.02244266e-01\n",
      "  2.03368322e-01  4.89073800e-01  7.26905328e-01  8.93582298e-01\n",
      "  9.72789206e-01  9.72789206e-01  8.93582298e-01  7.26905328e-01\n",
      "  4.89073800e-01  2.03368322e-01 -1.02244266e-01 -3.97848472e-01\n",
      " -6.54508497e-01 -8.47100671e-01 -9.56772729e-01  8.61281226e-01\n",
      "  7.91153574e-01  6.43582298e-01  4.33012702e-01  1.80056806e-01\n",
      " -9.05243046e-02 -3.52244266e-01 -5.79484104e-01 -7.50000000e-01\n",
      " -8.47100671e-01  6.65465039e-01  6.11281226e-01  4.97260948e-01\n",
      "  3.34565303e-01  1.39120076e-01 -6.99431940e-02 -2.72159937e-01\n",
      " -4.47735768e-01 -5.79484104e-01 -6.54508497e-01  4.04508497e-01\n",
      "  3.71572413e-01  3.02264232e-01  2.03368322e-01  8.45653032e-02\n",
      " -4.25155563e-02 -1.65434697e-01 -2.72159937e-01 -3.52244266e-01\n",
      " -3.97848472e-01  1.03955845e-01  9.54915028e-02  7.76797866e-02\n",
      "  5.22642316e-02  2.17326895e-02 -1.09261996e-02 -4.25155563e-02\n",
      " -6.99431940e-02 -9.05243046e-02 -1.02244266e-01 -2.06772729e-01\n",
      " -1.89936781e-01 -1.54508497e-01 -1.03955845e-01 -4.32272712e-02\n",
      "  2.17326895e-02  8.45653032e-02  1.39120076e-01  1.80056806e-01\n",
      "  2.03368322e-01 -4.97260948e-01 -4.56772729e-01 -3.71572413e-01\n",
      " -2.50000000e-01 -1.03955845e-01  5.22642316e-02  2.03368322e-01\n",
      "  3.34565303e-01  4.33012702e-01  4.89073800e-01 -7.39073800e-01\n",
      " -6.78896580e-01 -5.52264232e-01 -3.71572413e-01 -1.54508497e-01\n",
      "  7.76797866e-02  3.02264232e-01  4.97260948e-01  6.43582298e-01\n",
      "  7.26905328e-01 -9.08540960e-01 -8.34565303e-01 -6.78896580e-01\n",
      " -4.56772729e-01 -1.89936781e-01  9.54915028e-02  3.71572413e-01\n",
      "  6.11281226e-01  7.91153574e-01  8.93582298e-01 -9.89073800e-01\n",
      " -9.08540960e-01 -7.39073800e-01 -4.97260948e-01 -2.06772729e-01\n",
      "  1.03955845e-01  4.04508497e-01  6.65465039e-01  8.61281226e-01\n",
      "  9.72789206e-01]\n",
      "\n"
     ]
    }
   ],
   "source": [
    "# 插值\n",
    "uI=space.interpolation(pde.solution) # 是个有限元函数,同时也是个数组\n",
    "print(uI[0:10])\n",
    "print(len(uI),uI)\n",
    "print()"
   ]
  },
  {
   "cell_type": "code",
   "execution_count": null,
   "metadata": {},
   "outputs": [],
   "source": []
  },
  {
   "cell_type": "code",
   "execution_count": null,
   "metadata": {},
   "outputs": [],
   "source": []
  },
  {
   "cell_type": "markdown",
   "metadata": {},
   "source": [
    "#### 对于实际问题没有真解时,应该怎么办?"
   ]
  },
  {
   "cell_type": "markdown",
   "metadata": {},
   "source": [
    "### 10-08 teach"
   ]
  },
  {
   "cell_type": "markdown",
   "metadata": {},
   "source": [
    "## 插值误差"
   ]
  },
  {
   "cell_type": "code",
   "execution_count": 1,
   "metadata": {},
   "outputs": [],
   "source": [
    "import numpy as np \n",
    "import matplotlib.pyplot as plt \n",
    "from mpl_toolkits.mplot3d import Axes3D\n",
    "\n",
    "# from fealpy.decorator import cartesian,barycentric\n",
    "from fealpy.mesh import MeshFactory as mf\n",
    "from fealpy.functionspace import LagrangeFiniteElementSpace"
   ]
  },
  {
   "cell_type": "code",
   "execution_count": 2,
   "metadata": {},
   "outputs": [],
   "source": [
    "# 参数\n",
    "p=1\n",
    "n=10"
   ]
  },
  {
   "cell_type": "code",
   "execution_count": 8,
   "metadata": {},
   "outputs": [
    {
     "name": "stdout",
     "output_type": "stream",
     "text": [
      "run boxmesh2d with time: 0.0023027999995974824\n",
      "uI[0:10]: [ 1.00000000e+00  9.51056516e-01  8.09016994e-01  5.87785252e-01\n",
      "  3.09016994e-01  6.12323400e-17 -3.09016994e-01 -5.87785252e-01\n",
      " -8.09016994e-01 -9.51056516e-01]\n",
      "val0[0:10]: [ 0.951855    0.8431648   0.65193975  0.39689829  0.10300566 -0.20096987\n",
      " -0.48527308 -0.72207438 -0.888194   -0.96737101]\n",
      "val1[0:10]: [[-4.89434837e-01 -4.65480191e-01]\n",
      " [-1.42039522e+00 -3.95961101e-01]\n",
      " [-2.21231742e+00 -2.87682579e-01]\n",
      " [-2.78768258e+00 -1.51243682e-01]\n",
      " [-3.09016994e+00 -2.99692403e-17]\n",
      " [-3.09016994e+00  1.51243682e-01]\n",
      " [-2.78768258e+00  2.87682579e-01]\n",
      " [-2.21231742e+00  3.95961101e-01]\n",
      " [-1.42039522e+00  4.65480191e-01]\n",
      " [-4.89434837e-01  4.89434837e-01]]\n",
      "L2: 0.009996870787215945 H1: 0.3472265410116154\n"
     ]
    },
    {
     "name": "stderr",
     "output_type": "stream",
     "text": [
      "C:\\Users\\admin\\AppData\\Local\\Temp/ipykernel_15768/39778118.py:23: MatplotlibDeprecationWarning: Calling gca() with keyword arguments was deprecated in Matplotlib 3.4. Starting two minor releases later, gca() will take no keyword arguments. The gca() function should only be used to get the current axes, or if no axes exist, create new axes with default keyword arguments. To create a new axes with non-default arguments, use plt.axes() or plt.subplot().\n",
      "  axes=fig.gca(projection='3d')\n"
     ]
    },
    {
     "data": {
      "image/png": "[encoded data removed]",
      "text/plain": [
       "<Figure size 432x288 with 1 Axes>"
      ]
     },
     "metadata": {
      "needs_background": "light"
     },
     "output_type": "display_data"
    }
   ],
   "source": [
    "box=[0,1,0,1]\n",
    "mesh=mf.boxmesh2d(box,nx=n,ny=n,meshtype='tri')\n",
    "space=LagrangeFiniteElementSpace(mesh,p=p)\n",
    "\n",
    "# 插值\n",
    "uI=space.interpolation(pde.solution) # 是个有限元函数, 同时也是一个数组\n",
    "\n",
    "print('uI[0:10]:',uI[0:10]) # 打印前面10个自由度的值\n",
    "\n",
    "bc=np.array([1/3,1/3,1/3])\n",
    "val0=uI(bc)\n",
    "val1=uI.grad_value(bc) \n",
    "\n",
    "print('val0[0:10]:',val0[0:10])\n",
    "print('val1[0:10]:',val1[0:10])\n",
    "\n",
    "# 插值误差\n",
    "error0=space.integralalg.L2_error(pde.solution,uI)\n",
    "error1=space.integralalg.L2_error(pde.gradient,uI.grad_value)\n",
    "print('L2:',error0,'H1:',error1)\n",
    "\n",
    "fig=plt.figure()\n",
    "axes=fig.gca(projection='3d')\n",
    "uI.add_plot(axes,cmap='rainbow')\n",
    "plt.show()"
   ]
  },
  {
   "cell_type": "markdown",
   "metadata": {},
   "source": [
    "## example"
   ]
  },
  {
   "cell_type": "code",
   "execution_count": 30,
   "metadata": {},
   "outputs": [],
   "source": [
    "import numpy as np \n",
    "from scipy.sparse.linalg import spsolve\n",
    "\n",
    "import matplotlib.pyplot as plt \n",
    "from mpl_toolkits.mplot3d import Axes3D\n",
    "\n",
    "from fealpy.pde.poisson_2d import CosCosData\n",
    "from fealpy.mesh import MeshFactory as mf\n",
    "from fealpy.functionspace import LagrangeFiniteElementSpace\n",
    "from fealpy.boundarycondition import DirichletBC\n",
    "\n",
    "from fealpy.tools.show import showmultirate,show_error_table"
   ]
  },
  {
   "cell_type": "code",
   "execution_count": 31,
   "metadata": {},
   "outputs": [],
   "source": [
    "# 参数\n",
    "p=2\n",
    "n=1"
   ]
  },
  {
   "cell_type": "code",
   "execution_count": 32,
   "metadata": {},
   "outputs": [
    {
     "name": "stdout",
     "output_type": "stream",
     "text": [
      "run boxmesh2d with time: 0.014731400005985051\n"
     ]
    },
    {
     "data": {
      "text/plain": [
       "9"
      ]
     },
     "metadata": {},
     "output_type": "display_data"
    },
    {
     "data": {
      "text/plain": [
       "Function([0., 0., 0., 0., 0., 0., 0., 0., 0.])"
      ]
     },
     "metadata": {},
     "output_type": "display_data"
    }
   ],
   "source": [
    "box=[0,1,0,1]\n",
    "mesh=mf.boxmesh2d(box,nx=n,ny=n,meshtype='tri')\n",
    "space=LagrangeFiniteElementSpace(mesh,p=p)\n",
    "pde=CosCosData()\n",
    "\n",
    "space.function()\n",
    "display(len(space.function()),space.function())"
   ]
  },
  {
   "cell_type": "code",
   "execution_count": 31,
   "metadata": {},
   "outputs": [
    {
     "name": "stdout",
     "output_type": "stream",
     "text": [
      "run serial_construct_matrix with time: 0.00592059999871708\n",
      "run serial_construct_matrix with time: 0.005042800001319847\n"
     ]
    },
    {
     "data": {
      "text/plain": [
       "<121x121 sparse matrix of type '<class 'numpy.float64'>'\n",
       "\twith 761 stored elements in Compressed Sparse Row format>"
      ]
     },
     "metadata": {},
     "output_type": "display_data"
    },
    {
     "data": {
      "text/plain": [
       "<121x121 sparse matrix of type '<class 'numpy.float64'>'\n",
       "\twith 761 stored elements in Compressed Sparse Row format>"
      ]
     },
     "metadata": {},
     "output_type": "display_data"
    }
   ],
   "source": [
    "# display(space.stiff_matrix(),space.stiff_matrix(q=p))"
   ]
  },
  {
   "cell_type": "code",
   "execution_count": 40,
   "metadata": {},
   "outputs": [
    {
     "name": "stdout",
     "output_type": "stream",
     "text": [
      "run boxmesh2d with time: 0.0012672000011662021\n",
      "Step: 0\n",
      "run serial_construct_matrix with time: 0.016182800000024145\n",
      "Step: 1\n",
      "run serial_construct_matrix with time: 0.07055940000100236\n",
      "Step: 2\n",
      "run serial_construct_matrix with time: 0.20236649999969814\n",
      "Step: 3\n",
      "run serial_construct_matrix with time: 0.6489122999992105\n"
     ]
    },
    {
     "name": "stderr",
     "output_type": "stream",
     "text": [
      "C:\\Users\\admin\\AppData\\Local\\Temp/ipykernel_16476/4294341769.py:28: MatplotlibDeprecationWarning: Calling gca() with keyword arguments was deprecated in Matplotlib 3.4. Starting two minor releases later, gca() will take no keyword arguments. The gca() function should only be used to get the current axes, or if no axes exist, create new axes with default keyword arguments. To create a new axes with non-default arguments, use plt.axes() or plt.subplot().\n",
      "  axes=fig.gca(projection='3d')\n"
     ]
    },
    {
     "data": {
      "image/png": "[encoded data removed]",
      "text/plain": [
       "<Figure size 432x288 with 1 Axes>"
      ]
     },
     "metadata": {
      "needs_background": "light"
     },
     "output_type": "display_data"
    },
    {
     "data": {
      "image/png": "[encoded data removed]",
      "text/plain": [
       "<Figure size 432x288 with 1 Axes>"
      ]
     },
     "metadata": {},
     "output_type": "display_data"
    }
   ],
   "source": [
    "box=[0,1,0,1]\n",
    "mesh=mf.boxmesh2d(box,nx=n,ny=n,meshtype='tri')\n",
    "pde=CosCosData()\n",
    "\n",
    "NDof=np.zeros(4)\n",
    "errorMatrix =np.zeros((2,4))\n",
    "errorType=['$||u-u_h||_0$','$||\\\\nabla u- \\\\nabla u_h||_0$']\n",
    "for i in range(4):\n",
    "    print('Step:',i)\n",
    "    space=LagrangeFiniteElementSpace(mesh,p)\n",
    "    NDof[i]=space.number_of_global_dofs()\n",
    "    uh=space.function() # 返回一个有限元函数,初始自由度值是0,\n",
    "    A=space.stiff_matrix()\n",
    "    F=space.source_vector(pde.source)\n",
    "\n",
    "    bc=DirichletBC(space,pde.dirichlet)\n",
    "    A,F=bc.apply(A,F,uh)\n",
    "\n",
    "    uh[:]=spsolve(A,F)\n",
    "\n",
    "    errorMatrix[0,i]=space.integralalg.L2_error(pde.solution,uh.value)\n",
    "    errorMatrix[1,i]=space.integralalg.L2_error(pde.gradient,uh.grad_value)\n",
    "    \n",
    "    if i<3:\n",
    "        mesh.uniform_refine()\n",
    "\n",
    "fig=plt.figure()\n",
    "axes=fig.gca(projection='3d')\n",
    "uh.add_plot(axes,cmap='rainbow')\n",
    "\n",
    "k=0 # 算误差时 可以 把前那几个丢掉,比如从第k个开始算\n",
    "showmultirate(plt,k,NDof,errorMatrix,errorType,propsize=20)\n",
    "\n",
    "plt.show()"
   ]
  },
  {
   "cell_type": "markdown",
   "metadata": {},
   "source": [
    "## 10_08_six_class"
   ]
  },
  {
   "cell_type": "code",
   "execution_count": 1,
   "metadata": {},
   "outputs": [],
   "source": [
    "import numpy as np \n",
    "from scipy.sparse.linalg import spsolve\n",
    "\n",
    "import matplotlib.pyplot as plt \n",
    "from mpl_toolkits.mplot3d import Axes3D\n",
    "\n",
    "from fealpy.pde.poisson_2d import CosCosData\n",
    "from fealpy.mesh import MeshFactory as mf\n",
    "from fealpy.functionspace import LagrangeFiniteElementSpace\n",
    "from fealpy.boundarycondition import DirichletBC\n",
    "\n",
    "from fealpy.tools.show import showmultirate,show_error_table"
   ]
  },
  {
   "cell_type": "code",
   "execution_count": 13,
   "metadata": {},
   "outputs": [
    {
     "name": "stdout",
     "output_type": "stream",
     "text": [
      "run boxmesh2d with time: 0.002144799999996394\n"
     ]
    }
   ],
   "source": [
    "n=2\n",
    "p=3\n",
    "domain=[0,1,0,1]\n",
    "mesh=mf.boxmesh2d(domain,nx=n,ny=n,meshtype='tri')\n",
    "space=LagrangeFiniteElementSpace(mesh,p=p)"
   ]
  },
  {
   "cell_type": "code",
   "execution_count": 14,
   "metadata": {},
   "outputs": [
    {
     "data": {
      "image/png": "[encoded data removed]",
      "text/plain": [
       "<Figure size 720x720 with 1 Axes>"
      ]
     },
     "metadata": {
      "needs_background": "light"
     },
     "output_type": "display_data"
    }
   ],
   "source": [
    "fig=plt.figure(figsize=(10,10))\n",
    "axes=fig.gca()\n",
    "mesh.add_plot(axes)\n",
    "mesh.find_node(axes,showindex=True,fontsize=20)\n",
    "mesh.find_edge(axes,showindex=True,fontsize=20)\n",
    "mesh.find_cell(axes,showindex=True)\n",
    "plt.show()"
   ]
  },
  {
   "cell_type": "code",
   "execution_count": 51,
   "metadata": {},
   "outputs": [],
   "source": [
    "## 单元刚度矩阵的计算\n",
    "# 假设已经定义好 mesh 和 space\n",
    "qf=mesh.integrator(2,'cell') # 获取第一个积分公式\n",
    "bcs,ws=qf.get_quadrature_points_and_weights() # (NQ,TD+1) 获取积分点重心坐标与权重\n",
    "cellmeasure=mesh.entity_measure('cell') # (NC,)\n",
    "gphi=space.grad_basis(bcs) # (NQ,NC,ldof,GD),计算奇函数在重心坐标处的梯度值\n",
    "\n",
    "# 组装单元刚度矩阵,A.shape==(NC,ldof,ldof)\n",
    "A=np.einsum('i,ijkl,ijml,j->jkm',ws,gphi,gphi,cellmeasure)"
   ]
  },
  {
   "cell_type": "code",
   "execution_count": 52,
   "metadata": {},
   "outputs": [],
   "source": [
    "## 总体刚度矩阵的组装\n",
    "from scipy.sparse import csr_matrix\n",
    "\n",
    "gdof=space.number_of_global_dofs() # 全局自由度的个数\n",
    "\n",
    "# (NC,ldof),cell2dof[i,j]= 存储第i个单元上的局部第j个自由度的全局编号 \n",
    "cell2dof=space.cell_to_dof()\n",
    "\n",
    "# (NC,ldof) --> (NC,ldof,1) --> (NC,ldof,ldof)\n",
    "I=np.broadcast_to(cell2dof[:,:,None],shape=A.shape)\n",
    "\n",
    "# (NC,ldof) --> (NC,1,ldof) --> (NC,ldof,ldof)\n",
    "J=np.broadcast_to(cell2dof[:,None,:],shape=A.shape)\n",
    "\n",
    "A=csr_matrix((A.flat,(I.flat,J.flat)),shape=(gdof,gdof))"
   ]
  },
  {
   "cell_type": "code",
   "execution_count": 55,
   "metadata": {},
   "outputs": [
    {
     "name": "stdout",
     "output_type": "stream",
     "text": [
      "gdof:\n",
      " 49\n",
      "cell2dof:\n",
      " [[ 3 23 12 24 41 11  4 13 14  0]\n",
      " [ 6 37 26 38 42 25  7 27 28  3]\n",
      " [ 4 29 18 30 43 17  5 19 20  1]\n",
      " [ 7 39 32 40 44 31  8 33 34  4]\n",
      " [ 1  9 17 10 45 18  0 14 13  4]\n",
      " [ 4 24 31 23 46 32  3 28 27  7]\n",
      " [ 2 15 22 16 47 21  1 20 19  5]\n",
      " [ 5 30 36 29 48 35  4 34 33  8]]\n",
      "I:\n",
      " [[[ 3  3  3  3  3  3  3  3  3  3]\n",
      "  [23 23 23 23 23 23 23 23 23 23]\n",
      "  [12 12 12 12 12 12 12 12 12 12]\n",
      "  [24 24 24 24 24 24 24 24 24 24]\n",
      "  [41 41 41 41 41 41 41 41 41 41]\n",
      "  [11 11 11 11 11 11 11 11 11 11]\n",
      "  [ 4  4  4  4  4  4  4  4  4  4]\n",
      "  [13 13 13 13 13 13 13 13 13 13]\n",
      "  [14 14 14 14 14 14 14 14 14 14]\n",
      "  [ 0  0  0  0  0  0  0  0  0  0]]\n",
      "\n",
      " [[ 6  6  6  6  6  6  6  6  6  6]\n",
      "  [37 37 37 37 37 37 37 37 37 37]\n",
      "  [26 26 26 26 26 26 26 26 26 26]\n",
      "  [38 38 38 38 38 38 38 38 38 38]\n",
      "  [42 42 42 42 42 42 42 42 42 42]\n",
      "  [25 25 25 25 25 25 25 25 25 25]\n",
      "  [ 7  7  7  7  7  7  7  7  7  7]\n",
      "  [27 27 27 27 27 27 27 27 27 27]\n",
      "  [28 28 28 28 28 28 28 28 28 28]\n",
      "  [ 3  3  3  3  3  3  3  3  3  3]]\n",
      "\n",
      " [[ 4  4  4  4  4  4  4  4  4  4]\n",
      "  [29 29 29 29 29 29 29 29 29 29]\n",
      "  [18 18 18 18 18 18 18 18 18 18]\n",
      "  [30 30 30 30 30 30 30 30 30 30]\n",
      "  [43 43 43 43 43 43 43 43 43 43]\n",
      "  [17 17 17 17 17 17 17 17 17 17]\n",
      "  [ 5  5  5  5  5  5  5  5  5  5]\n",
      "  [19 19 19 19 19 19 19 19 19 19]\n",
      "  [20 20 20 20 20 20 20 20 20 20]\n",
      "  [ 1  1  1  1  1  1  1  1  1  1]]\n",
      "\n",
      " [[ 7  7  7  7  7  7  7  7  7  7]\n",
      "  [39 39 39 39 39 39 39 39 39 39]\n",
      "  [32 32 32 32 32 32 32 32 32 32]\n",
      "  [40 40 40 40 40 40 40 40 40 40]\n",
      "  [44 44 44 44 44 44 44 44 44 44]\n",
      "  [31 31 31 31 31 31 31 31 31 31]\n",
      "  [ 8  8  8  8  8  8  8  8  8  8]\n",
      "  [33 33 33 33 33 33 33 33 33 33]\n",
      "  [34 34 34 34 34 34 34 34 34 34]\n",
      "  [ 4  4  4  4  4  4  4  4  4  4]]\n",
      "\n",
      " [[ 1  1  1  1  1  1  1  1  1  1]\n",
      "  [ 9  9  9  9  9  9  9  9  9  9]\n",
      "  [17 17 17 17 17 17 17 17 17 17]\n",
      "  [10 10 10 10 10 10 10 10 10 10]\n",
      "  [45 45 45 45 45 45 45 45 45 45]\n",
      "  [18 18 18 18 18 18 18 18 18 18]\n",
      "  [ 0  0  0  0  0  0  0  0  0  0]\n",
      "  [14 14 14 14 14 14 14 14 14 14]\n",
      "  [13 13 13 13 13 13 13 13 13 13]\n",
      "  [ 4  4  4  4  4  4  4  4  4  4]]\n",
      "\n",
      " [[ 4  4  4  4  4  4  4  4  4  4]\n",
      "  [24 24 24 24 24 24 24 24 24 24]\n",
      "  [31 31 31 31 31 31 31 31 31 31]\n",
      "  [23 23 23 23 23 23 23 23 23 23]\n",
      "  [46 46 46 46 46 46 46 46 46 46]\n",
      "  [32 32 32 32 32 32 32 32 32 32]\n",
      "  [ 3  3  3  3  3  3  3  3  3  3]\n",
      "  [28 28 28 28 28 28 28 28 28 28]\n",
      "  [27 27 27 27 27 27 27 27 27 27]\n",
      "  [ 7  7  7  7  7  7  7  7  7  7]]\n",
      "\n",
      " [[ 2  2  2  2  2  2  2  2  2  2]\n",
      "  [15 15 15 15 15 15 15 15 15 15]\n",
      "  [22 22 22 22 22 22 22 22 22 22]\n",
      "  [16 16 16 16 16 16 16 16 16 16]\n",
      "  [47 47 47 47 47 47 47 47 47 47]\n",
      "  [21 21 21 21 21 21 21 21 21 21]\n",
      "  [ 1  1  1  1  1  1  1  1  1  1]\n",
      "  [20 20 20 20 20 20 20 20 20 20]\n",
      "  [19 19 19 19 19 19 19 19 19 19]\n",
      "  [ 5  5  5  5  5  5  5  5  5  5]]\n",
      "\n",
      " [[ 5  5  5  5  5  5  5  5  5  5]\n",
      "  [30 30 30 30 30 30 30 30 30 30]\n",
      "  [36 36 36 36 36 36 36 36 36 36]\n",
      "  [29 29 29 29 29 29 29 29 29 29]\n",
      "  [48 48 48 48 48 48 48 48 48 48]\n",
      "  [35 35 35 35 35 35 35 35 35 35]\n",
      "  [ 4  4  4  4  4  4  4  4  4  4]\n",
      "  [34 34 34 34 34 34 34 34 34 34]\n",
      "  [33 33 33 33 33 33 33 33 33 33]\n",
      "  [ 8  8  8  8  8  8  8  8  8  8]]]\n",
      "J:\n",
      " [[[ 3 23 12 24 41 11  4 13 14  0]\n",
      "  [ 3 23 12 24 41 11  4 13 14  0]\n",
      "  [ 3 23 12 24 41 11  4 13 14  0]\n",
      "  [ 3 23 12 24 41 11  4 13 14  0]\n",
      "  [ 3 23 12 24 41 11  4 13 14  0]\n",
      "  [ 3 23 12 24 41 11  4 13 14  0]\n",
      "  [ 3 23 12 24 41 11  4 13 14  0]\n",
      "  [ 3 23 12 24 41 11  4 13 14  0]\n",
      "  [ 3 23 12 24 41 11  4 13 14  0]\n",
      "  [ 3 23 12 24 41 11  4 13 14  0]]\n",
      "\n",
      " [[ 6 37 26 38 42 25  7 27 28  3]\n",
      "  [ 6 37 26 38 42 25  7 27 28  3]\n",
      "  [ 6 37 26 38 42 25  7 27 28  3]\n",
      "  [ 6 37 26 38 42 25  7 27 28  3]\n",
      "  [ 6 37 26 38 42 25  7 27 28  3]\n",
      "  [ 6 37 26 38 42 25  7 27 28  3]\n",
      "  [ 6 37 26 38 42 25  7 27 28  3]\n",
      "  [ 6 37 26 38 42 25  7 27 28  3]\n",
      "  [ 6 37 26 38 42 25  7 27 28  3]\n",
      "  [ 6 37 26 38 42 25  7 27 28  3]]\n",
      "\n",
      " [[ 4 29 18 30 43 17  5 19 20  1]\n",
      "  [ 4 29 18 30 43 17  5 19 20  1]\n",
      "  [ 4 29 18 30 43 17  5 19 20  1]\n",
      "  [ 4 29 18 30 43 17  5 19 20  1]\n",
      "  [ 4 29 18 30 43 17  5 19 20  1]\n",
      "  [ 4 29 18 30 43 17  5 19 20  1]\n",
      "  [ 4 29 18 30 43 17  5 19 20  1]\n",
      "  [ 4 29 18 30 43 17  5 19 20  1]\n",
      "  [ 4 29 18 30 43 17  5 19 20  1]\n",
      "  [ 4 29 18 30 43 17  5 19 20  1]]\n",
      "\n",
      " [[ 7 39 32 40 44 31  8 33 34  4]\n",
      "  [ 7 39 32 40 44 31  8 33 34  4]\n",
      "  [ 7 39 32 40 44 31  8 33 34  4]\n",
      "  [ 7 39 32 40 44 31  8 33 34  4]\n",
      "  [ 7 39 32 40 44 31  8 33 34  4]\n",
      "  [ 7 39 32 40 44 31  8 33 34  4]\n",
      "  [ 7 39 32 40 44 31  8 33 34  4]\n",
      "  [ 7 39 32 40 44 31  8 33 34  4]\n",
      "  [ 7 39 32 40 44 31  8 33 34  4]\n",
      "  [ 7 39 32 40 44 31  8 33 34  4]]\n",
      "\n",
      " [[ 1  9 17 10 45 18  0 14 13  4]\n",
      "  [ 1  9 17 10 45 18  0 14 13  4]\n",
      "  [ 1  9 17 10 45 18  0 14 13  4]\n",
      "  [ 1  9 17 10 45 18  0 14 13  4]\n",
      "  [ 1  9 17 10 45 18  0 14 13  4]\n",
      "  [ 1  9 17 10 45 18  0 14 13  4]\n",
      "  [ 1  9 17 10 45 18  0 14 13  4]\n",
      "  [ 1  9 17 10 45 18  0 14 13  4]\n",
      "  [ 1  9 17 10 45 18  0 14 13  4]\n",
      "  [ 1  9 17 10 45 18  0 14 13  4]]\n",
      "\n",
      " [[ 4 24 31 23 46 32  3 28 27  7]\n",
      "  [ 4 24 31 23 46 32  3 28 27  7]\n",
      "  [ 4 24 31 23 46 32  3 28 27  7]\n",
      "  [ 4 24 31 23 46 32  3 28 27  7]\n",
      "  [ 4 24 31 23 46 32  3 28 27  7]\n",
      "  [ 4 24 31 23 46 32  3 28 27  7]\n",
      "  [ 4 24 31 23 46 32  3 28 27  7]\n",
      "  [ 4 24 31 23 46 32  3 28 27  7]\n",
      "  [ 4 24 31 23 46 32  3 28 27  7]\n",
      "  [ 4 24 31 23 46 32  3 28 27  7]]\n",
      "\n",
      " [[ 2 15 22 16 47 21  1 20 19  5]\n",
      "  [ 2 15 22 16 47 21  1 20 19  5]\n",
      "  [ 2 15 22 16 47 21  1 20 19  5]\n",
      "  [ 2 15 22 16 47 21  1 20 19  5]\n",
      "  [ 2 15 22 16 47 21  1 20 19  5]\n",
      "  [ 2 15 22 16 47 21  1 20 19  5]\n",
      "  [ 2 15 22 16 47 21  1 20 19  5]\n",
      "  [ 2 15 22 16 47 21  1 20 19  5]\n",
      "  [ 2 15 22 16 47 21  1 20 19  5]\n",
      "  [ 2 15 22 16 47 21  1 20 19  5]]\n",
      "\n",
      " [[ 5 30 36 29 48 35  4 34 33  8]\n",
      "  [ 5 30 36 29 48 35  4 34 33  8]\n",
      "  [ 5 30 36 29 48 35  4 34 33  8]\n",
      "  [ 5 30 36 29 48 35  4 34 33  8]\n",
      "  [ 5 30 36 29 48 35  4 34 33  8]\n",
      "  [ 5 30 36 29 48 35  4 34 33  8]\n",
      "  [ 5 30 36 29 48 35  4 34 33  8]\n",
      "  [ 5 30 36 29 48 35  4 34 33  8]\n",
      "  [ 5 30 36 29 48 35  4 34 33  8]\n",
      "  [ 5 30 36 29 48 35  4 34 33  8]]]\n",
      "A:\n",
      "   (0, 0)\t0.34375000000000167\n",
      "  (0, 1)\t0.0390625000000005\n",
      "  (0, 3)\t0.0390625000000005\n",
      "  (0, 4)\t0.0\n",
      "  (0, 9)\t-0.07031250000000117\n",
      "  (0, 10)\t-0.14062500000000022\n",
      "  (0, 11)\t-0.14062500000000022\n",
      "  (0, 12)\t-0.07031250000000115\n",
      "  (0, 13)\t-0.23437500000000155\n",
      "  (0, 14)\t0.7500000000000028\n",
      "  (0, 17)\t0.0468750000000005\n",
      "  (0, 18)\t0.11718750000000078\n",
      "  (0, 23)\t0.0468750000000005\n",
      "  (0, 24)\t0.11718750000000078\n",
      "  (0, 41)\t-0.4218750000000019\n",
      "  (0, 45)\t-0.4218750000000019\n",
      "  (1, 0)\t0.0390625000000005\n",
      "  (1, 1)\t0.6875000000000032\n",
      "  (1, 2)\t0.0390625000000005\n",
      "  (1, 4)\t0.078125000000001\n",
      "  (1, 5)\t0.0\n",
      "  (1, 9)\t0.2343750000000012\n",
      "  (1, 10)\t-0.18750000000000192\n",
      "  (1, 13)\t0.16406250000000128\n",
      "  (1, 14)\t0.16406250000000128\n",
      "  :\t:\n",
      "  (46, 27)\t-0.8437500000000022\n",
      "  (46, 28)\t-0.8437500000000022\n",
      "  (46, 31)\t-0.4218750000000002\n",
      "  (46, 32)\t0.421875000000002\n",
      "  (46, 46)\t3.3750000000000084\n",
      "  (47, 1)\t-0.4218750000000019\n",
      "  (47, 2)\t-0.8437500000000037\n",
      "  (47, 5)\t-0.4218750000000019\n",
      "  (47, 15)\t-0.42187500000000017\n",
      "  (47, 16)\t0.421875000000002\n",
      "  (47, 19)\t-0.8437500000000022\n",
      "  (47, 20)\t-0.8437500000000022\n",
      "  (47, 21)\t0.421875000000002\n",
      "  (47, 22)\t-0.4218750000000002\n",
      "  (47, 47)\t3.3750000000000084\n",
      "  (48, 4)\t-0.4218750000000019\n",
      "  (48, 5)\t-0.8437500000000037\n",
      "  (48, 8)\t-0.4218750000000019\n",
      "  (48, 29)\t0.421875000000002\n",
      "  (48, 30)\t-0.42187500000000017\n",
      "  (48, 33)\t-0.8437500000000022\n",
      "  (48, 34)\t-0.8437500000000022\n",
      "  (48, 35)\t0.421875000000002\n",
      "  (48, 36)\t-0.4218750000000002\n",
      "  (48, 48)\t3.3750000000000084\n"
     ]
    }
   ],
   "source": [
    "print('gdof:\\n',gdof)\n",
    "print('cell2dof:\\n',cell2dof)\n",
    "print('I:\\n',I)\n",
    "print('J:\\n',J)\n",
    "print('A:\\n',A)"
   ]
  },
  {
   "cell_type": "code",
   "execution_count": null,
   "metadata": {},
   "outputs": [],
   "source": [
    "## 单元载荷向量的计算\n",
    "phi=space.basis(bcs)"
   ]
  }
 ],
 "metadata": {
  "kernelspec": {
   "display_name": "Python 3.9.7 ('base')",
   "language": "python",
   "name": "python3"
  },
  "language_info": {
   "codemirror_mode": {
    "name": "ipython",
    "version": 3
   },
   "file_extension": ".py",
   "mimetype": "text/x-python",
   "name": "python",
   "nbconvert_exporter": "python",
   "pygments_lexer": "ipython3",
   "version": "3.9.7"
  },
  "orig_nbformat": 4,
  "vscode": {
   "interpreter": {
    "hash": "38d8f3a7369e1337284c4391470205c81c1ad1ef2b6efdd4034db878c96bfad6"
   }
  }
 },
 "nbformat": 4,
 "nbformat_minor": 2
}
