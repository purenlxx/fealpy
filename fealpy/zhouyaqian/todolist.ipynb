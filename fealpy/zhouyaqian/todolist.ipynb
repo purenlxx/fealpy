{
 "cells": [
  {
   "cell_type": "code",
   "execution_count": null,
   "metadata": {},
   "outputs": [],
   "source": [
    "# 拉格朗日有限元基函数计算展示代码\n",
    "multiIndexself.dof.multiIndex"
   ]
  }
 ],
 "metadata": {
  "kernelspec": {
   "display_name": "Python 3.9.7 ('base')",
   "language": "python",
   "name": "python3"
  },
  "language_info": {
   "name": "python",
   "version": "3.9.7"
  },
  "orig_nbformat": 4,
  "vscode": {
   "interpreter": {
    "hash": "38d8f3a7369e1337284c4391470205c81c1ad1ef2b6efdd4034db878c96bfad6"
   }
  }
 },
 "nbformat": 4,
 "nbformat_minor": 2
}
